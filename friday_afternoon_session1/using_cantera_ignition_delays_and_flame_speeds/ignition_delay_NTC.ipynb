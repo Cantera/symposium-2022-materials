{
 "cells": [
  {
   "cell_type": "markdown",
   "id": "79511194",
   "metadata": {},
   "source": [
    "# Batch Reactor Example\n",
    "## Ignition delay computation\n",
    "\n",
    "In this example we will illustrate how to setup and use a constant volume batch reactor. This reactor will then be used to compute the ignition delay of a gas at any temperature and pressure\n",
    "\n",
    "The reactor (system) is simply an insulated box."
   ]
  },
  {
   "cell_type": "code",
   "execution_count": 1,
   "id": "1762645e",
   "metadata": {},
   "outputs": [],
   "source": [
    "# Write Python source code in this cell"
   ]
  },
  {
   "cell_type": "markdown",
   "id": "b87ea2a5",
   "metadata": {},
   "source": [
    "## Cantera Simulation Procedure\n",
    "\n",
    "In all Cantera simulations, there are three main steps:\n",
    "\n",
    "1. Create the phase object from an input file\n",
    "2. Set the initial/boundary conditions\n",
    "3. Run the simulation\n",
    "\n",
    "In the case of a batch reactor, Cantera includes several built-in reactor models to calculate the energy and species equations subject to either constant volume or constant pressure conditions."
   ]
  },
  {
   "cell_type": "markdown",
   "id": "f9cd6002",
   "metadata": {},
   "source": [
    "### Define the gas\n",
    "\n",
    "First, we have to define the phase.\n",
    "\n",
    "In this example we will choose n-heptane as the gas. For a representative kinetic model, we use the 160 species [mechanism](https://combustion.llnl.gov/archived-mechanisms/alkanes/heptane-reduced-mechanism) by [Seier et al. 2000, Proc. Comb. Inst](http://dx.doi.org/10.1016/S0082-0784&#40;00&#41;80610-4). "
   ]
  },
  {
   "cell_type": "code",
   "execution_count": 2,
   "id": "dad41092",
   "metadata": {},
   "outputs": [],
   "source": [
    "# Write Python source code in this cell"
   ]
  },
  {
   "cell_type": "markdown",
   "id": "adb1f6d8",
   "metadata": {},
   "source": [
    "### Define reactor conditions: temperature, pressure, fuel, stoichiometry\n",
    "\n",
    "Next, we need to define initial conditions. We will choose a temperature of 1000 K, pressure of 1 atm, and equivalence ratio of 1.0. Remember to set the composition before the temperature and pressure."
   ]
  },
  {
   "cell_type": "code",
   "execution_count": 3,
   "id": "d66c1b60",
   "metadata": {},
   "outputs": [],
   "source": [
    "# Write Python source code in this cell"
   ]
  },
  {
   "cell_type": "markdown",
   "id": "376f7cde",
   "metadata": {},
   "source": [
    "### Run the simulation\n",
    "\n",
    "The third step in the process is usually the most complicated. Cantera provides 4 homogeneous reactor classes:\n",
    "\n",
    "| | Any Equation Of State | Ideal Gas Equation Of State |\n",
    "|-|-|-|\n",
    "| Constant Volume | `Reactor` | `IdealGasReactor` |\n",
    "| Constant Pressure | `ConstPressureReactor` | `IdealGasConstPressureReactor` |\n",
    "\n",
    "In this example, the fuel is an ideal gas and we want to model constant volume combustion, so we choose the `IdealGasReactor`."
   ]
  },
  {
   "cell_type": "code",
   "execution_count": 4,
   "id": "472c012a",
   "metadata": {},
   "outputs": [],
   "source": [
    "# Write Python source code in this cell"
   ]
  },
  {
   "cell_type": "markdown",
   "id": "6a3ea00a",
   "metadata": {},
   "source": [
    "Cantera supports arbitrary _networks_ of reactors that can be connected together by flow control devices. The network of reactors has to be inserted into a `ReactorNetwork` to handle the integration. All of the `Reactor`s added to a `ReactorNetwork` are integrated simultaneously! In this case, we have only the one `reactor`."
   ]
  },
  {
   "cell_type": "code",
   "execution_count": 5,
   "id": "1b6a83d8",
   "metadata": {},
   "outputs": [],
   "source": [
    "# Write Python source code in this cell"
   ]
  },
  {
   "cell_type": "markdown",
   "id": "df5f1f51",
   "metadata": {},
   "source": [
    "Last, we'd like a data structure to store the data from the time integration. Cantera has a useful data structure called the `SolutionArray` which is an array of `Solution` objects. `SolutionArray`s can also store \"extra\" data, such as the integration time."
   ]
  },
  {
   "cell_type": "code",
   "execution_count": 6,
   "id": "745829f8",
   "metadata": {},
   "outputs": [],
   "source": [
    "# Write Python source code in this cell"
   ]
  },
  {
   "cell_type": "markdown",
   "id": "4d100eec",
   "metadata": {},
   "source": [
    "Now all the problem setup is done and we have to perform the integration. This is done by one of 3 methods:\n",
    "\n",
    "1. `step()`: Take one timestep, with the size determined by the CVODES integrator\n",
    "2. `advance(time)`: Take many adaptively-sized timesteps until the `time` is reached\n",
    "3. `advance_to_steady_state()`: Take many adaptively-sized timesteps until the system reaches steady state\n",
    "\n",
    "We will use `step()` here to record data at every time step so that we can have a good resolution to calculate the ignition delay. Integration proceeds until the reactor network time is greater than an estimated ignition delay time."
   ]
  },
  {
   "cell_type": "code",
   "execution_count": 7,
   "id": "a44dc5b8",
   "metadata": {},
   "outputs": [],
   "source": [
    "# Write Python source code in this cell"
   ]
  },
  {
   "cell_type": "markdown",
   "id": "1e0abace",
   "metadata": {},
   "source": [
    "Now we can use the integration data to determine the ignition delay. We will use the `\"oh\"` species to compute the ignition delay at the maximum mass fraction of this species. Using round parentheses with the `SolutionArray` returns data about the species that has been passed. From this, we can access the mass fraction with the `Y` attribute and then find the _index_ of the maximum of the mass fraction using `argmax()`. The index is then used to find the ignition delay time."
   ]
  },
  {
   "cell_type": "code",
   "execution_count": 8,
   "id": "f00eafb1",
   "metadata": {},
   "outputs": [],
   "source": [
    "# Write Python source code in this cell"
   ]
  },
  {
   "cell_type": "markdown",
   "id": "73df68e8",
   "metadata": {},
   "source": [
    "## Plot the result"
   ]
  },
  {
   "cell_type": "markdown",
   "id": "8f5292c4",
   "metadata": {},
   "source": [
    "### Figure illustrating the definition of ignition delay"
   ]
  },
  {
   "cell_type": "code",
   "execution_count": 9,
   "id": "67ae8fc8",
   "metadata": {},
   "outputs": [],
   "source": [
    "# Write Python source code in this cell"
   ]
  },
  {
   "cell_type": "markdown",
   "id": "8422fcf3",
   "metadata": {},
   "source": [
    "## Illustration : NTC behavior\n",
    "\n",
    "A common benchmark for a reaction mechanism is its ability to reproduce the **N**egative **T**emperature **C**oefficient behavior. Intuitively, as the temperature of an explosive mixture increases, it should ignite faster. But, under certain conditions, we observe the opposite. This is referred to as NTC behavior. Reproducing experimentally observed NTC behavior is thus an important test for any mechanism. We will do this now by computing and visualizing the ignition delay for a wide range of temperatures"
   ]
  },
  {
   "cell_type": "markdown",
   "id": "68ba3cf2",
   "metadata": {},
   "source": [
    "### Define the temperatures for which we will run the simulations\n",
    "\n",
    "Typical NTC behavior for n-heptane occurs from ~600-800 K, so we need to do an integration of the problem at temperatures in a wide range around those temperatures. We can use some functions from NumPy to make it easy to generate the temperatures we want."
   ]
  },
  {
   "cell_type": "code",
   "execution_count": 10,
   "id": "3cc3efb4",
   "metadata": {},
   "outputs": [],
   "source": [
    "# Write Python source code in this cell"
   ]
  },
  {
   "cell_type": "markdown",
   "id": "15a75e36",
   "metadata": {},
   "source": [
    "As before, we will define some estimated ignition delay times to limit the integration time. These are chosen empirically and must be updated for different fuels or different conditions."
   ]
  },
  {
   "cell_type": "code",
   "execution_count": 11,
   "id": "b23168da",
   "metadata": {},
   "outputs": [],
   "source": [
    "# Write Python source code in this cell"
   ]
  },
  {
   "cell_type": "markdown",
   "id": "ba607388",
   "metadata": {},
   "source": [
    "And last, we will create a `SolutionArray` to store the ignition delay results. This `SolutionArray` will only store the final result of calculating the ignition delay, not the time history of each simulation. In this case, we know that we want to have as many rows as the `T` array in our `SolutionArray`, so we can initialize it that way. Then we can set the initial conditions for the entire array of `Solution`s!"
   ]
  },
  {
   "cell_type": "code",
   "execution_count": 12,
   "id": "902c415f",
   "metadata": {},
   "outputs": [],
   "source": [
    "# Write Python source code in this cell"
   ]
  },
  {
   "cell_type": "markdown",
   "id": "d96c783c",
   "metadata": {},
   "source": [
    "Now, we can loop through these states and use them to set the state of the `gas` object, which we can use in the `IdealGasReactor` and do the integration again.\n",
    "\n",
    "This time, we'll only store the information we care about from the simulation, which are the time steps and the history of the reference species. We will use regular Python `list`s to store this information, since they are quite efficient when appending data rapidly.\n",
    "\n",
    "Then we will compute the ignition delay from this data and proceed to the next state!"
   ]
  },
  {
   "cell_type": "code",
   "execution_count": 13,
   "id": "f5223aa6",
   "metadata": {},
   "outputs": [],
   "source": [
    "# Write Python source code in this cell"
   ]
  },
  {
   "cell_type": "markdown",
   "id": "f90ef27d",
   "metadata": {},
   "source": [
    "### Figure: ignition delay ($\\tau$) vs. the inverse of temperature ($\\frac{1000}{T}$). \n",
    "\n",
    "Last, we will create an Arrhenius plot of the ignition delays."
   ]
  },
  {
   "cell_type": "code",
   "execution_count": 14,
   "id": "a2b86f09",
   "metadata": {},
   "outputs": [],
   "source": [
    "# Write Python source code in this cell"
   ]
  },
  {
   "cell_type": "markdown",
   "id": "44b097aa",
   "metadata": {},
   "source": [
    "## Challenge question: How does EGR impact ignition delay?\n",
    "Most modern internal combustion engines use exhaust gas recirculation (EGR) as a form of emissions control to reduce the formation of NO<sub>x</sub>. EGR works by recirculating some of the expanded and cooled combustion products back into the fuel/air charge in the cylinder, reducing cylinder temperatures and subsequently reducing the NO<sub>x</sub> emissions. \n",
    "\n",
    "For this challenge, you are tasked to evaluate the effect of increasing EGR dilution on the ignition delay for the n-heptane mixture studied earlier. Be sure to carefully consider how to properly model the exhaust products that you will introduce into the intake charge."
   ]
  },
  {
   "cell_type": "code",
   "execution_count": null,
   "id": "cd67343d",
   "metadata": {},
   "outputs": [],
   "source": []
  }
 ],
 "metadata": {
  "kernelspec": {
   "display_name": "Python 3 (ipykernel)",
   "language": "python",
   "name": "python3"
  },
  "language_info": {
   "codemirror_mode": {
    "name": "ipython",
    "version": 3
   },
   "file_extension": ".py",
   "mimetype": "text/x-python",
   "name": "python",
   "nbconvert_exporter": "python",
   "pygments_lexer": "ipython3",
   "version": "3.10.5"
  }
 },
 "nbformat": 4,
 "nbformat_minor": 5
}
