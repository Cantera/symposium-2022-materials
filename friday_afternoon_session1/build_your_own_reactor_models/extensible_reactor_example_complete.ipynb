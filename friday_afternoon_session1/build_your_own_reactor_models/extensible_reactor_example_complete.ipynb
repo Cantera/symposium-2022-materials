{
 "cells": [
  {
   "cell_type": "markdown",
   "id": "occupied-sixth",
   "metadata": {},
   "source": [
    "### Import packages"
   ]
  },
  {
   "cell_type": "code",
   "execution_count": 1,
   "id": "athletic-confirmation",
   "metadata": {},
   "outputs": [
    {
     "name": "stdout",
     "output_type": "stream",
     "text": [
      "Cantera Version: 2.6.0\n"
     ]
    }
   ],
   "source": [
    "import cantera as ct\n",
    "import numpy as np\n",
    "from scipy.integrate import solve_ivp\n",
    "%matplotlib inline\n",
    "import matplotlib.pyplot as plt\n",
    "\n",
    "print(f\"Cantera Version: {ct.__version__}\")\n",
    "\n",
    "# This Example Requires: cantera >= 2.6.0, matplotlib >= 2.0"
   ]
  },
  {
   "cell_type": "markdown",
   "id": "arbitrary-karen",
   "metadata": {},
   "source": [
    "# Make your own: Accelerating Wall Reactor\n",
    "\n",
    "Here we will solve an ignition problem where the normal reactor governing equations are\n",
    "extended with additional equations implemented in Python.\n",
    "This demonstrates an approach for solving problems where Cantera's built-in\n",
    "reactor models are not sufficient for describing the system in question. Unlike\n",
    "the 'custom.py' example, in this example Cantera's existing Reactor and\n",
    "ReactorNet code is still used, with only the modifications to the standard\n",
    "equations implemented in Python by extending the ExtensibleReactor class.\n",
    "Wall objects in Cantera are normally massless, with the velocity either imposed\n",
    "or proportional to the pressure difference. Here, we simulate a wall where the\n",
    "acceleration is proportional to the pressure difference, and the velocity is\n",
    "determined by integrating the equation of motion. This requires adding a new\n",
    "variable to the reactor's state vector which represents the wall velocity.\n",
    "\n",
    "### Unmodified Perfectly Stirred Reactor\n",
    "The perfectly stirred reactor (aka \"PSR\") is defined by a relatively simple set of governing equations, providing an excellent opportunity to demonstrate how we can use Cantera as a \"calculator\" to provide the terms and variables required for solving a set of equations of our own choosing.\n",
    "\n",
    "<img src=\"PSR.png\" alt=\"Cartoon of a Perfectly Stirred Chemical Reactor.\" style=\"width: 500px;\"/>\n",
    "\n",
    "The model includes user inputs for the inlet gas conditions (temperature, pressure, composition) and mass flux (typically defined in terms of the residence time $\\tau$), some condition for the outlet flow, and an optional heat transfer boundary condition."
   ]
  },
  {
   "cell_type": "markdown",
   "id": "adopted-drove",
   "metadata": {},
   "source": [
    "## Differential equations:\n",
    "\n",
    "An Ideal Gas Reactor is defined by the four state variables: \n",
    "\n",
    "- m, the mass of the reactor's contents (in kg)\n",
    "\n",
    "- V, the reactor volume (in m^3)\n",
    "\n",
    "- T, the temperature (in K)\n",
    "\n",
    "- Y_k, the mass fractions for each species (dimensionless)\n",
    "\n",
    "The total mass of the reactor's contents changes as a result of flow through\n",
    "the reactor's inlets and outlets, and production of homogeneous phase species\n",
    "on the reactor walls:\n",
    "\n",
    "\n",
    "1) \n",
    "\n",
    "$\\frac{dm}{dt} = \\sum_{in} \\dot{m}_{in} - \\sum_{out} \\dot{m}_{out} +\\dot{m}_{wall}$\n",
    "\n",
    "Where the subscripts *in* and *out* refer to the sum of the superscipted property\n",
    "over all inlets and outlets respectively. A dot above a variable signifies a time \n",
    "derivative.\n",
    "\n",
    "The reactor volume changes as a function of time due to the motion of one or\n",
    "more walls:\n",
    "\n",
    "2) \n",
    "\n",
    "$\\frac{dV}{dt} = \\sum_w f_w A_w v_w(t)$\n",
    "\n",
    "Where $f_w = \\pm 1$ indicates the facing of the wall (whether moving the wall increases or\n",
    "decreases the volume of the reactor), $A_w$ is the\n",
    "surface area of the wall, and $v_w(t)$ is the velocity of the wall as a\n",
    "function of time.\n",
    "\n",
    "In case of the Ideal Gas Reactor Model, the reactor temperature $T$ is\n",
    "used instead of the total internal energy $U$ as a state variable. For an\n",
    "ideal gas, we can rewrite the total internal energy in terms of the mass\n",
    "fractions and temperature:\n",
    "\n",
    "   $U = m \\sum_k Y_k u_k(T)$\n",
    "\n",
    "   $\\frac{dU}{dt} = u \\frac{dm}{dt} + m c_v \\frac{dT}{dt}+ m \\sum_k u_k \\frac{dY_k}{dt}$\n",
    "\n",
    "Substituting the corresponding derivatives yields an equation for the\n",
    "temperature:\n",
    "\n",
    "3)  \n",
    "\n",
    "$m c_v \\frac{dT}{dt} = - p \\frac{dV}{dt} + \\dot{Q}+ \\sum_{in} \\dot{m}_{in} \\left( h_{in} - \\sum_k u_k Y_{k,in} \\right)- \\frac{p V}{m} \\sum_{out} \\dot{m}_{out} - \\sum_k \\dot{m}_{k,gen} u_k$\n",
    "\n",
    "While this form of the energy equation is somewhat more complicated, it\n",
    "significantly reduces the cost of evaluating the system Jacobian, since the\n",
    "derivatives of the species equations are taken at constant temperature instead\n",
    "of constant internal energy.\n",
    "\n",
    "The rate at which species k is generated through homogeneous phase\n",
    "reactions is $V \\dot{\\omega}_k W_k$, and the total rate at which species\n",
    "k is generated is:\n",
    "\n",
    "   $\\dot{m}_{k,gen} = V \\dot{\\omega}_k W_k + \\dot{m}_{k,wall}$\n",
    "\n",
    "The rate of change in the mass of each species is:\n",
    "\n",
    "  $\\frac{d(mY_k)}{dt} = \\sum_{in} \\dot{m}_{in} Y_{k,in} - \\sum_{out} \\dot{m}_{out} Y_k + \\dot{m}_{k,gen}$\n",
    "\n",
    "Expanding the derivative on the left hand side and substituting the equation\n",
    "for $dm/dt$, the equation for each homogeneous phase species is:\n",
    "\n",
    "4) \n",
    "\n",
    "$m \\frac{dY_k}{dt} = \\sum_{in} \\dot{m}_{in} (Y_{k,in} - Y_k)+\\dot{m}_{k,gen} - Y_k \\dot{m}_{wall} $\n",
    "\n",
    "Equations 1-4 are the governing equations for an Ideal Gas Reactor."
   ]
  },
  {
   "cell_type": "markdown",
   "id": "comprehensive-radiation",
   "metadata": {},
   "source": [
    "### Creating a New Reactor Class Type:\n",
    "\n",
    "#### Inside Cantera:"
   ]
  },
  {
   "cell_type": "raw",
   "id": "d8fd8932-ea76-4c22-9fbd-f5448ac5a29d",
   "metadata": {},
   "source": [
    "\n",
    "cdef class DelegatedReactor(Reactor):\n",
    "    \"\"\"\n",
    "    A base class for a reactor with delegated methods where the base\n",
    "    functionality corresponds to the `Reactor` class.\n",
    "\n",
    "    The following methods of the C++ :ct:`Reactor` class can be modified by a\n",
    "    Python class which inherits from this class. For each method, the name below\n",
    "    should be prefixed with ``before_``, ``after_``, or ``replace_``, indicating\n",
    "    whether the this method should be called before, after, or instead of the\n",
    "    corresponding method from the base class.\n",
    "\n",
    "    For methods that return a value and have a ``before`` method specified, if\n",
    "    that method returns a value other than ``None`` that value will be returned\n",
    "    without calling the base class method; otherwise, the value from the base\n",
    "    class method will be returned. For methods that return a value and have an\n",
    "    ``after`` method specified, the returned value wil be the sum of the values\n",
    "    from the supplied method and the base class method.\n",
    "\n",
    "    ``initialize(self, t0: double) -> None``\n",
    "        Responsible for allocating and setting the sizes of any internal\n",
    "        variables, initializing attached walls, and setting the total number of\n",
    "        state variables associated with this reactor, `n_vars`.\n",
    "\n",
    "        Called once before the start of time integration.\n",
    "\n",
    "    ``sync_state(self) -> None``\n",
    "        Responsible for setting the state of the reactor to correspond to the\n",
    "        state of the associated ThermoPhase object.\n",
    "\n",
    "    ``get_state(self, y : double[:]) -> None``\n",
    "        Responsible for populating the state vector ``y`` (length `n_vars`)\n",
    "        with the initial state of the reactor.\n",
    "\n",
    "    ``update_state(self, y : double[:]) -> None``\n",
    "        Responsible for setting the state of the reactor object from the\n",
    "        values in the state vector ``y`` (length `n_vars`)\n",
    "\n",
    "    ``update_surface_state(self, y : double[:]) -> None``\n",
    "        Responsible for setting the state of surface phases in this reactor\n",
    "        from the values in the state vector ``y``. The length of ``y`` is the\n",
    "        total number of surface species in all surfaces.\n",
    "\n",
    "    ``get_surface_initial_condition(self, y : double[:]) -> None``\n",
    "        Responsible for populating the state vector ``y`` with the initial\n",
    "        state of each surface phase in this reactor. The length of ``y`` is the\n",
    "        total number of surface species in all surfaces.\n",
    "\n",
    "    ``update_connected(self, update_pressure : bool) -> None``\n",
    "        Responsible for storing properties which may be accessed by connected\n",
    "        reactors, and for updating the mass flow rates of connected flow devices.\n",
    "\n",
    "    ``eval(self, t : double, LHS : double[:], RHS : double[:]) -> None``\n",
    "        Responsible for calculating the time derivative of the state ``ydot``\n",
    "        (length `n_vars`) at time ``t`` based on the current state of the\n",
    "        reactor.\n",
    "\n",
    "    ``eval_walls(self, t : double) -> None``\n",
    "        Responsible for calculating the net rate of volume change `vdot`\n",
    "        and the net rate of heat transfer `qdot` caused by walls connected\n",
    "        to this reactor.\n",
    "\n",
    "    ``eval_surfaces(t : double, ydot : double[:]) -> double``\n",
    "        Responsible for calculating the time derivative of the surface species\n",
    "        ``ydot`` (length: total number of surface species in all surfaces) and\n",
    "        the net rate of production of bulk phase species on surfaces. Returns\n",
    "        the net mass flux from surfaces into the bulk phase.\n",
    "\n",
    "    ``component_name(i : int) -> string``\n",
    "        Returns the name of the state vector component with index ``i``\n",
    "\n",
    "    ``component_index(name: string) -> int``\n",
    "        Returns the index of the state vector component named ``name``\n",
    "\n",
    "    ``species_index(name : string) -> int``\n",
    "        Returns the index of the species named ``name``, in either the bulk\n",
    "        phase or a surface phase, relative to the start of the species terms in\n",
    "        the state vector.\n",
    "    \"\"\"\n",
    "\n",
    "    reactor_type = \"DelegatedReactor\"\n",
    "\n",
    "    delegatable_methods = {\n",
    "        'initialize': ('initialize', 'void(double)'),\n",
    "        'sync_state': ('syncState', 'void()'),\n",
    "        'get_state': ('getState', 'void(double*)'),\n",
    "        'update_state': ('updateState', 'void(double*)'),\n",
    "        'update_surface_state': ('updateSurfaceState', 'void(double*)'),\n",
    "        'get_surface_initial_condition': ('getSurfaceInitialCondition', 'void(double*)'),\n",
    "        'update_connected': ('updateConnected', 'void(bool)'),\n",
    "        'eval': ('eval', 'void(double, double*, double*)'),\n",
    "        'eval_walls': ('evalWalls', 'void(double)'),\n",
    "        'eval_surfaces': ('evalSurfaces', 'double(double,double*)'),\n",
    "        'component_name': ('componentName', 'string(size_t)'),\n",
    "        'component_index': ('componentIndex', 'size_t(string)'),\n",
    "        'species_index': ('speciesIndex', 'size_t(string)')\n",
    "    }"
   ]
  },
  {
   "cell_type": "markdown",
   "id": "e783d763",
   "metadata": {},
   "source": [
    "#### Example:"
   ]
  },
  {
   "cell_type": "code",
   "execution_count": 2,
   "id": "monetary-vegetation",
   "metadata": {},
   "outputs": [],
   "source": [
    "class InertialWallReactor(ct.ExtensibleIdealGasReactor):\n",
    "    def __init__(self, *args, neighbor, **kwargs):\n",
    "        super().__init__(*args, **kwargs)\n",
    "        self.v_wall = 0  # initial wall velocity\n",
    "        self.k_wall = 1e-2  # proportionality constant, a_wall = k_wall * delta P\n",
    "        self.neighbor = neighbor\n",
    "\n",
    "    def after_initialize(self, t0):\n",
    "        # The initialize function for the base Reactor class will have set\n",
    "        # n_vars to already include the volume, internal energy, mass, and mass\n",
    "        # fractions of all the species. Increase this by one to account for\n",
    "        # the added variable of the wall velocity.\n",
    "        self.n_vars += 1\n",
    "\n",
    "        # The index for the new variable / equation, which is at the end of the\n",
    "        # state vector\n",
    "        self.i_wall = self.n_vars - 1\n",
    "\n",
    "    def after_get_state(self, y):\n",
    "        # This method is used to set the initial condition used by the ODE solver\n",
    "        y[self.i_wall] = self.v_wall\n",
    "\n",
    "    def after_update_state(self, y):\n",
    "        # This method is used to set the state of the Reactor and Wall objects\n",
    "        # based on the new values for the state vector provided by the ODE solver\n",
    "        self.v_wall = y[self.i_wall]\n",
    "        self.walls[0].set_velocity(self.v_wall)\n",
    "\n",
    "    def after_eval(self, t, LHS, RHS):\n",
    "        # Calculate the time derivative for the additional equation\n",
    "        a = self.k_wall * (self.thermo.P - self.neighbor.thermo.P)\n",
    "        RHS[self.i_wall] = a\n",
    "\n",
    "    def before_component_index(self, name):\n",
    "        # Other components are handled by the method from the base Reactor class\n",
    "        if name == 'v_wall':\n",
    "            return self.i_wall\n",
    "\n",
    "    def before_component_name(self, i):\n",
    "        # Other components are handled by the method from the base Reactor class\n",
    "        if i == self.i_wall:\n",
    "            return 'v_wall'\n"
   ]
  },
  {
   "cell_type": "markdown",
   "id": "revolutionary-closure",
   "metadata": {},
   "source": [
    "### Instantiate Cantera objects:"
   ]
  },
  {
   "cell_type": "code",
   "execution_count": 3,
   "id": "talented-pillow",
   "metadata": {},
   "outputs": [],
   "source": [
    "gas = ct.Solution('h2o2.yaml')\n",
    "\n",
    "# Initial condition\n",
    "P = ct.one_atm\n",
    "gas.TPY = 920, P, 'H2:1.0, O2:1.0, N2:3.76'\n",
    "\n",
    "# Set up the reactor network\n",
    "res = ct.Reservoir(gas)\n",
    "r = InertialWallReactor(gas, neighbor=res)\n",
    "w = ct.Wall(r, res)\n",
    "net = ct.ReactorNet([r])"
   ]
  },
  {
   "cell_type": "markdown",
   "id": "starting-transformation",
   "metadata": {},
   "source": [
    "### Initialize the Solution Vector and compute solution:"
   ]
  },
  {
   "cell_type": "code",
   "execution_count": 4,
   "id": "international-scientist",
   "metadata": {},
   "outputs": [],
   "source": [
    "# Integrate the equations, keeping T(t) and Y(k,t)\n",
    "states = ct.SolutionArray(gas, 1, extra={'t': [0.0], 'V': [r.volume]})\n",
    "while net.time < 0.5:\n",
    "    net.advance(net.time + 0.005)\n",
    "    states.append(TPY=r.thermo.TPY, V=r.volume, t=net.time)"
   ]
  },
  {
   "cell_type": "markdown",
   "id": "right-accused",
   "metadata": {},
   "source": [
    "### Some basic plotting:"
   ]
  },
  {
   "cell_type": "code",
   "execution_count": 5,
   "id": "prime-receipt",
   "metadata": {},
   "outputs": [
    {
     "data": {
      "image/png": "[encoded data removed]",
      "text/plain": [
       "<Figure size 432x288 with 2 Axes>"
      ]
     },
     "metadata": {
      "needs_background": "light"
     },
     "output_type": "display_data"
    }
   ],
   "source": [
    "try:\n",
    "    import matplotlib.pyplot as plt\n",
    "    L1 = plt.plot(states.t, states.T, color='r', label='T', lw=2)\n",
    "    plt.xlabel('time (s)')\n",
    "    plt.ylabel('Temperature (K)')\n",
    "    plt.twinx()\n",
    "    L2 = plt.plot(states.t, states.V, label='volume', lw=2)\n",
    "    plt.ylabel('Volume (m$^3$)')\n",
    "    plt.legend(L1+L2, [line.get_label() for line in L1+L2], loc='lower right')\n",
    "    plt.show()\n",
    "except ImportError:\n",
    "    print('Matplotlib not found. Unable to plot results.')"
   ]
  },
  {
   "cell_type": "code",
   "execution_count": null,
   "id": "engaged-retention",
   "metadata": {},
   "outputs": [],
   "source": []
  }
 ],
 "metadata": {
  "kernelspec": {
   "display_name": "Python 3.8.10 64-bit",
   "language": "python",
   "name": "python3"
  },
  "language_info": {
   "codemirror_mode": {
    "name": "ipython",
    "version": 3
   },
   "file_extension": ".py",
   "mimetype": "text/x-python",
   "name": "python",
   "nbconvert_exporter": "python",
   "pygments_lexer": "ipython3",
   "version": "3.10.5"
  },
  "vscode": {
   "interpreter": {
    "hash": "31f2aee4e71d21fbe5cf8b01ff0e069b9275f58929596ceb00d14d90e3e16cd6"
   }
  }
 },
 "nbformat": 4,
 "nbformat_minor": 5
}
