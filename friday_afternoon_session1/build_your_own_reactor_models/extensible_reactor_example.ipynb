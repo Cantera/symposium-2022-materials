{
 "cells": [
  {
   "cell_type": "markdown",
   "id": "cae4d128",
   "metadata": {},
   "source": [
    "### Import packages"
   ]
  },
  {
   "cell_type": "code",
   "execution_count": 1,
   "id": "2198eaee",
   "metadata": {},
   "outputs": [],
   "source": [
    "# Add python code here"
   ]
  },
  {
   "cell_type": "markdown",
   "id": "7b5cd98f",
   "metadata": {},
   "source": [
    "# Make your own: Accelerating Wall Reactor\n",
    "\n",
    "Here we will solve an ignition problem where the normal reactor governing equations are\n",
    "extended with additional equations implemented in Python.\n",
    "This demonstrates an approach for solving problems where Cantera's built-in\n",
    "reactor models are not sufficient for describing the system in question. Unlike\n",
    "the 'custom.py' example, in this example Cantera's existing Reactor and\n",
    "ReactorNet code is still used, with only the modifications to the standard\n",
    "equations implemented in Python by extending the ExtensibleReactor class.\n",
    "Wall objects in Cantera are normally massless, with the velocity either imposed\n",
    "or proportional to the pressure difference. Here, we simulate a wall where the\n",
    "acceleration is proportional to the pressure difference, and the velocity is\n",
    "determined by integrating the equation of motion. This requires adding a new\n",
    "variable to the reactor's state vector which represents the wall velocity.\n",
    "\n",
    "### Unmodified Perfectly Stirred Reactor\n",
    "The perfectly stirred reactor (aka \"PSR\") is defined by a relatively simple set of governing equations, providing an excellent opportunity to demonstrate how we can use Cantera as a \"calculator\" to provide the terms and variables required for solving a set of equations of our own choosing.\n",
    "\n",
    "<img src=\"PSR.png\" alt=\"Cartoon of a Perfectly Stirred Chemical Reactor.\" style=\"width: 500px;\"/>\n",
    "\n",
    "The model includes user inputs for the inlet gas conditions (temperature, pressure, composition) and mass flux (typically defined in terms of the residence time $\\tau$), some condition for the outlet flow, and an optional heat transfer boundary condition."
   ]
  },
  {
   "cell_type": "markdown",
   "id": "d3e4e3c7",
   "metadata": {},
   "source": [
    "## Differential equations:\n",
    "\n",
    "An Ideal Gas Reactor is defined by the four state variables: \n",
    "\n",
    "- m, the mass of the reactor's contents (in kg)\n",
    "\n",
    "- V, the reactor volume (in m^3)\n",
    "\n",
    "- T, the temperature (in K)\n",
    "\n",
    "- Y_k, the mass fractions for each species (dimensionless)\n",
    "\n",
    "The total mass of the reactor's contents changes as a result of flow through\n",
    "the reactor's inlets and outlets, and production of homogeneous phase species\n",
    "on the reactor walls:\n",
    "\n",
    "\n",
    "1) \n",
    "\n",
    "$\\frac{dm}{dt} = \\sum_{in} \\dot{m}_{in} - \\sum_{out} \\dot{m}_{out} +\\dot{m}_{wall}$\n",
    "\n",
    "Where the subscripts *in* and *out* refer to the sum of the superscipted property\n",
    "over all inlets and outlets respectively. A dot above a variable signifies a time \n",
    "derivative.\n",
    "\n",
    "The reactor volume changes as a function of time due to the motion of one or\n",
    "more walls:\n",
    "\n",
    "2) \n",
    "\n",
    "$\\frac{dV}{dt} = \\sum_w f_w A_w v_w(t)$\n",
    "\n",
    "Where $f_w = \\pm 1$ indicates the facing of the wall (whether moving the wall increases or\n",
    "decreases the volume of the reactor), $A_w$ is the\n",
    "surface area of the wall, and $v_w(t)$ is the velocity of the wall as a\n",
    "function of time.\n",
    "\n",
    "In case of the Ideal Gas Reactor Model, the reactor temperature $T$ is\n",
    "used instead of the total internal energy $U$ as a state variable. For an\n",
    "ideal gas, we can rewrite the total internal energy in terms of the mass\n",
    "fractions and temperature:\n",
    "\n",
    "   $U = m \\sum_k Y_k u_k(T)$\n",
    "\n",
    "   $\\frac{dU}{dt} = u \\frac{dm}{dt} + m c_v \\frac{dT}{dt}+ m \\sum_k u_k \\frac{dY_k}{dt}$\n",
    "\n",
    "Substituting the corresponding derivatives yields an equation for the\n",
    "temperature:\n",
    "\n",
    "3)  \n",
    "\n",
    "$m c_v \\frac{dT}{dt} = - p \\frac{dV}{dt} + \\dot{Q}+ \\sum_{in} \\dot{m}_{in} \\left( h_{in} - \\sum_k u_k Y_{k,in} \\right)- \\frac{p V}{m} \\sum_{out} \\dot{m}_{out} - \\sum_k \\dot{m}_{k,gen} u_k$\n",
    "\n",
    "While this form of the energy equation is somewhat more complicated, it\n",
    "significantly reduces the cost of evaluating the system Jacobian, since the\n",
    "derivatives of the species equations are taken at constant temperature instead\n",
    "of constant internal energy.\n",
    "\n",
    "The rate at which species k is generated through homogeneous phase\n",
    "reactions is $V \\dot{\\omega}_k W_k$, and the total rate at which species\n",
    "k is generated is:\n",
    "\n",
    "   $\\dot{m}_{k,gen} = V \\dot{\\omega}_k W_k + \\dot{m}_{k,wall}$\n",
    "\n",
    "The rate of change in the mass of each species is:\n",
    "\n",
    "  $\\frac{d(mY_k)}{dt} = \\sum_{in} \\dot{m}_{in} Y_{k,in} - \\sum_{out} \\dot{m}_{out} Y_k + \\dot{m}_{k,gen}$\n",
    "\n",
    "Expanding the derivative on the left hand side and substituting the equation\n",
    "for $dm/dt$, the equation for each homogeneous phase species is:\n",
    "\n",
    "4) \n",
    "\n",
    "$m \\frac{dY_k}{dt} = \\sum_{in} \\dot{m}_{in} (Y_{k,in} - Y_k)+\\dot{m}_{k,gen} - Y_k \\dot{m}_{wall} $\n",
    "\n",
    "Equations 1-4 are the governing equations for an Ideal Gas Reactor."
   ]
  },
  {
   "cell_type": "markdown",
   "id": "4fb663fa",
   "metadata": {},
   "source": [
    "### Creating a New Reactor Class Type:"
   ]
  },
  {
   "cell_type": "code",
   "execution_count": 2,
   "id": "39f763e1",
   "metadata": {},
   "outputs": [],
   "source": [
    "# Add python code here"
   ]
  },
  {
   "cell_type": "markdown",
   "id": "7610377c",
   "metadata": {},
   "source": [
    "### Instantiate Cantera objects:"
   ]
  },
  {
   "cell_type": "code",
   "execution_count": 3,
   "id": "aeb15135",
   "metadata": {},
   "outputs": [],
   "source": [
    "# Add python code here"
   ]
  },
  {
   "cell_type": "markdown",
   "id": "f75d80d9",
   "metadata": {},
   "source": [
    "### Initialize the Solution Vector and compute solution:"
   ]
  },
  {
   "cell_type": "code",
   "execution_count": 4,
   "id": "2bf95cd2",
   "metadata": {},
   "outputs": [],
   "source": [
    "# Add python code here"
   ]
  },
  {
   "cell_type": "markdown",
   "id": "bc8869f1",
   "metadata": {},
   "source": [
    "### Some basic plotting:"
   ]
  },
  {
   "cell_type": "code",
   "execution_count": 5,
   "id": "a4edb43e",
   "metadata": {},
   "outputs": [],
   "source": [
    "# Add python code here"
   ]
  },
  {
   "cell_type": "code",
   "execution_count": null,
   "id": "471b4e1d",
   "metadata": {},
   "outputs": [],
   "source": []
  }
 ],
 "metadata": {
  "kernelspec": {
   "display_name": "Python 3",
   "language": "python",
   "name": "python3"
  },
  "language_info": {
   "codemirror_mode": {
    "name": "ipython",
    "version": 3
   },
   "file_extension": ".py",
   "mimetype": "text/x-python",
   "name": "python",
   "nbconvert_exporter": "python",
   "pygments_lexer": "ipython3",
   "version": "3.10.5"
  },
  "vscode": {
   "interpreter": {
    "hash": "31f2aee4e71d21fbe5cf8b01ff0e069b9275f58929596ceb00d14d90e3e16cd6"
   }
  }
 },
 "nbformat": 4,
 "nbformat_minor": 5
}
