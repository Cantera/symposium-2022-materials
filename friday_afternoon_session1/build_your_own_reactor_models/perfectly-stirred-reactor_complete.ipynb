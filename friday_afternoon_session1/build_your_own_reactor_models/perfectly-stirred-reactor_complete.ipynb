{
 "cells": [
  {
   "cell_type": "markdown",
   "id": "f2d1fa79",
   "metadata": {},
   "source": [
    "### Import packages"
   ]
  },
  {
   "cell_type": "code",
   "execution_count": 1,
   "id": "dd9dcebb",
   "metadata": {},
   "outputs": [
    {
     "name": "stdout",
     "output_type": "stream",
     "text": [
      "Cantera Version: 2.6.0\n"
     ]
    }
   ],
   "source": [
    "import cantera as ct\n",
    "import numpy as np\n",
    "from scipy.integrate import solve_ivp\n",
    "%matplotlib inline\n",
    "import matplotlib.pyplot as plt\n",
    "print(f\"Cantera Version: {ct.__version__}\")"
   ]
  },
  {
   "cell_type": "markdown",
   "id": "823d746c",
   "metadata": {},
   "source": [
    "# Make your own: 0-D Perfectly Stirred Reactor\n",
    "\n",
    "The perfectly stirred reactor (aka \"PSR\") is defined by a relatively simple set of governing equations, providing an excellent opportunity to demonstrate how we can use Cantera as a \"calculator\" to provide the terms and variables required for solving a set of equations of our own choosing.\n",
    "\n",
    "<img src=\"PSR.png\" alt=\"Cartoon of a Perfectly Stirred Chemical Reactor.\" style=\"width: 500px;\"/>\n",
    "\n",
    "The model includes user inputs for the inlet gas conditions (temperature, pressure, composition) and mass flux (typically defined in terms of the residence time $\\tau$), some condition for the outlet flow, and an optional heat transfer boundary condition."
   ]
  },
  {
   "cell_type": "markdown",
   "id": "4a4d32b5",
   "metadata": {},
   "source": [
    "## Differential equations:\n",
    "\n",
    "Given the above, the state of the reactor is defined entirely by the temperature $T$ and the mass densities of each species $\\rho_k$.  Note that we could use some combination of mass/mole fractions and pressure or total mass density.  But $\\rho = \\sum_k \\rho_k$ and $Y_k = \\frac{\\rho_k}{\\rho}$ provides sufficient information to fix the reactor state.\n",
    "\n",
    "### Species mass densities:\n",
    "The species mass densities change due to three phenomena:\n",
    "- Flow rate of species in: $\\dot{m}_{\\rm in} Y_{k,\\,{\\rm in}}$\n",
    "- Flow rate of species out: $\\dot{m}_{\\rm out} Y_{k}$, where $\\dot{m}_{\\rm out} = K\\left(P - P_{\\rm out}\\right)$ and $Y_k$ is the current composition of the reactor contents. $K$ is a user-defined \"valve\" coefficient for the outlet flow.\n",
    "- Homogeneous chemical reactions occuring within the reactor, which occur at a net production molar rate of $\\dot \\omega_k\\,\\left[{\\rm{unit}}: \\frac{{\\rm kmol}_k}{\\rm m^3 \\cdot s}\\right]$.\n",
    "\n",
    "We will pose all state and process variables with respect to the total reactor volume. Hence, for a gas-phase species $k$, we have:\n",
    "\n",
    "<div class=\"alert-danger\">\n",
    "    $$ \\frac{d\\rho_k}{dt} =  \\dot{m}^{\\prime\\prime\\prime}_{\\rm in}Y_{k,\\,{\\rm in}} - Y_kK\\left(P - P_{\\rm out}\\right) + W_k \\dot \\omega_k$$\n",
    "</div>\n",
    "where $W_k$ is the species molecular weight $\\left[{\\rm{unit:}} \\frac{\\rm kg}{{\\rm kmol}_k}\\right]$. The term $\\dot{m}^{\\prime\\prime\\prime}_{\\rm in}$ is inlet mass flow rate per unit volume of the reactor and is calculated as \n",
    "<div class=\"alert-danger\">\n",
    "    $$ \\dot{m}^{\\prime\\prime\\prime}_{\\rm in} = \\frac{\\dot m_{\\rm in}}{V} = \\frac{\\rho}{\\tau}, $$\n",
    "</div>\n",
    "where $\\tau$ is the residence time.\n",
    "\n",
    "\n",
    "### Temperature:\n",
    "Assuming constant volume and a single-inlet single-exit reactor, the temperature of an ideal gas reactor is described on the [Cantera web page](https://cantera.org/science/reactors.html#ideal-gas-reactor) as:\n",
    "\n",
    "<div class=\"alert-danger\">\n",
    "    $$ \\frac{dT}{dt} = \\frac{1}{\\rho c_v}\\left(-q + \\dot{m}^{\\prime\\prime\\prime}_{\\rm in}\\left(h_{\\rm in} - \\sum_k u_kY_{k,{\\rm in}}\\right) - \\frac{p}{\\rho}\\dot{m}^{\\prime\\prime\\prime}_{\\rm out}-\\sum_k\\omega_k u_k \\right)$$\n",
    "</div>\n",
    "\n",
    "where, again, all mass flow rates $\\dot{m}^{\\prime\\prime\\prime}$ are per unit volume of reactor and $q$ is an optional heat loss term. $u_k$ are species specific internal energies. The outlet mass flow rate is $\\dot{m}^{\\prime\\prime\\prime}_{\\rm out} = K (P - P_{\\rm out})$."
   ]
  },
  {
   "cell_type": "markdown",
   "id": "82538783",
   "metadata": {},
   "source": [
    "### Define the residual:"
   ]
  },
  {
   "cell_type": "code",
   "execution_count": 2,
   "id": "0b5f5824",
   "metadata": {},
   "outputs": [],
   "source": [
    "def residual(t, SV, gas, inlet, outlet):\n",
    "    # Initialize the derivative:\n",
    "    dSVdt = np.zeros_like(SV)\n",
    "\n",
    "    # Read out current conditions. Convert rho_k into rho and Y_k:\n",
    "    T = SV[0]\n",
    "    rho = sum(SV[1:])\n",
    "    Y_k = SV[1:] / rho\n",
    "\n",
    "    # Set the Cantera object state:\n",
    "    gas.TDY = T, rho, Y_k\n",
    "\n",
    "    # Read out chemical production rates and constant-volume specific heat:\n",
    "    omega_k = gas.net_production_rates\n",
    "    c_v = gas.cv_mass\n",
    "\n",
    "    # Heat loss:\n",
    "    q = 0\n",
    "\n",
    "    # dT/dt\n",
    "    mdot_out = outlet.K*(gas.P - outlet.P)\n",
    "    dSVdt[0] = (-q + inlet.mdot*(inlet.h - gas.int_energy_mass)\n",
    "                -gas.P * mdot_out / gas.density_mass\n",
    "                -np.dot(omega_k, gas.partial_molar_int_energies))/(rho*c_v)\n",
    "\n",
    "    # d rho_k/dt\n",
    "    dSVdt[1:] = inlet.mdot*inlet.Y_k - Y_k*outlet.K*(gas.P - outlet.P) + gas.molecular_weights*omega_k\n",
    "\n",
    "    return dSVdt"
   ]
  },
  {
   "cell_type": "markdown",
   "id": "aea1c257",
   "metadata": {},
   "source": [
    "### User inputs:"
   ]
  },
  {
   "cell_type": "code",
   "execution_count": 3,
   "id": "b0c1c868",
   "metadata": {},
   "outputs": [],
   "source": [
    "mech_file = 'h2o2.yaml'\n",
    "t_res = 1e-5  # s\n",
    "X_init = 'H2:1.0, O2:2.0, AR:4.0'\n",
    "T_in = 300  # K\n",
    "P_in = ct.one_atm  # Pa\n",
    "K_valve = 100"
   ]
  },
  {
   "cell_type": "markdown",
   "id": "4b86c0e3",
   "metadata": {},
   "source": [
    "### Instantiate Cantera objects:"
   ]
  },
  {
   "cell_type": "code",
   "execution_count": 4,
   "id": "f0b5f494",
   "metadata": {},
   "outputs": [],
   "source": [
    "gas = ct.Solution(mech_file)\n",
    "gas.TPX = T_in, P_in, X_init\n",
    "\n",
    "class inlet:\n",
    "    h = gas.enthalpy_mass\n",
    "    Y_k = gas.Y\n",
    "\n",
    "class outlet:\n",
    "    K = K_valve\n",
    "    P = gas.P\n",
    "\n",
    "# Equilibrate the reactor contents to assure that we have a burning mixture:\n",
    "gas.equilibrate('HP')\n",
    "\n",
    "# Calculate the mass flow rate, per unit volume of reactor:\n",
    "inlet.mdot = gas.density / t_res"
   ]
  },
  {
   "cell_type": "markdown",
   "id": "00c39600",
   "metadata": {},
   "source": [
    "### Initialize the Solution Vector and compute solution:"
   ]
  },
  {
   "cell_type": "code",
   "execution_count": 5,
   "id": "19de1547",
   "metadata": {},
   "outputs": [],
   "source": [
    "SV_0 = np.hstack([gas.T, gas.density_mass * gas.Y])\n",
    "\n",
    "# Integrate out to ten residence times, assuming this is long enough to reach steady state.\n",
    "solution = solve_ivp(residual, [0, 10 * t_res], SV_0, args=(gas, inlet, outlet), method='BDF')"
   ]
  },
  {
   "cell_type": "markdown",
   "id": "f4f8293c",
   "metadata": {},
   "source": [
    "### Some basic plotting:"
   ]
  },
  {
   "cell_type": "code",
   "execution_count": 6,
   "id": "f77388ca",
   "metadata": {},
   "outputs": [
    {
     "data": {
      "image/png": "[encoded data removed]",
      "text/plain": [
       "<Figure size 432x288 with 1 Axes>"
      ]
     },
     "metadata": {
      "needs_background": "light"
     },
     "output_type": "display_data"
    },
    {
     "data": {
      "image/png": "[encoded data removed]",
      "text/plain": [
       "<Figure size 432x288 with 1 Axes>"
      ]
     },
     "metadata": {
      "needs_background": "light"
     },
     "output_type": "display_data"
    }
   ],
   "source": [
    "fig, ax = plt.subplots()\n",
    "ax.plot(solution.t * 1000, solution.y[0])\n",
    "\n",
    "ax.set_xlabel(\"Time (ms)\")\n",
    "ax.set_ylabel(\"Temperature (K)\")\n",
    "\n",
    "fig, ax = plt.subplots()\n",
    "for j in np.arange(gas.n_species):\n",
    "    ax.plot(solution.t * 1000, solution.y[1 + j], label=gas.species_names[j])\n",
    "\n",
    "ax.set_xlabel(\"Time (ms)\")\n",
    "ax.set_ylabel(r\"Species mass density $\\rho_k\\,\\left[\\frac{\\rm kg}{\\rm m^3}\\right]$\")\n",
    "\n",
    "ax.legend();"
   ]
  },
  {
   "cell_type": "markdown",
   "id": "97e56e16",
   "metadata": {},
   "source": [
    "### Challenge question:\n",
    "\n",
    "The stirred-reactors are typically operated in steady-state. The current model is also used to evaluate the steady-state behavior of the reactor. Can you extend this model to predict a transient behavior? In particular try looking at the effects of imposing time-varying operating conditions such as\n",
    "\n",
    "a. Reactor volume, $V(t)$\n",
    "\n",
    "b. Inlet mass flow rate, $\\dot m(t)$\n",
    "\n",
    "c. Reactor temperature, $T(t)$\n"
   ]
  },
  {
   "cell_type": "code",
   "execution_count": null,
   "id": "600757e7",
   "metadata": {},
   "outputs": [],
   "source": []
  }
 ],
 "metadata": {
  "kernelspec": {
   "display_name": "Python 3 (ipykernel)",
   "language": "python",
   "name": "python3"
  },
  "language_info": {
   "codemirror_mode": {
    "name": "ipython",
    "version": 3
   },
   "file_extension": ".py",
   "mimetype": "text/x-python",
   "name": "python",
   "nbconvert_exporter": "python",
   "pygments_lexer": "ipython3",
   "version": "3.10.5"
  }
 },
 "nbformat": 4,
 "nbformat_minor": 5
}
