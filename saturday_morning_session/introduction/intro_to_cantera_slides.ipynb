{
 "cells": [
  {
   "cell_type": "markdown",
   "metadata": {},
   "source": [
    "# Cantera Tutorial: Python"
   ]
  },
  {
   "cell_type": "markdown",
   "metadata": {},
   "source": [
    "## Getting Started"
   ]
  },
  {
   "cell_type": "markdown",
   "metadata": {},
   "source": [
    "Let's get started with Cantera by importing the Cantera and NumPy libraries. We can also print the version of Cantera that we're using with the `__version__` attribute from the `cantera` module, typically aliased as `ct`."
   ]
  },
  {
   "cell_type": "code",
   "execution_count": 1,
   "metadata": {},
   "outputs": [
    {
     "name": "stdout",
     "output_type": "stream",
     "text": [
      "Using Cantera version 2.6.0\n"
     ]
    }
   ],
   "source": [
    "import cantera as ct\n",
    "import numpy as np\n",
    "\n",
    "print(f\"Using Cantera version {ct.__version__}\")"
   ]
  },
  {
   "cell_type": "markdown",
   "metadata": {},
   "source": [
    "When using Cantera, the first thing you usually need is an object representing some phase of matter. Here, we'll create a gas mixture:"
   ]
  },
  {
   "cell_type": "code",
   "execution_count": 2,
   "metadata": {},
   "outputs": [],
   "source": [
    "gas1 = ct.Solution('gri30.yaml')"
   ]
  },
  {
   "cell_type": "markdown",
   "metadata": {},
   "source": [
    "To view the state of the mixture, *call* the `gas1` object as if it were a function:"
   ]
  },
  {
   "cell_type": "code",
   "execution_count": 3,
   "metadata": {},
   "outputs": [
    {
     "name": "stdout",
     "output_type": "stream",
     "text": [
      "\n",
      "  gri30:\n",
      "\n",
      "       temperature   300 K\n",
      "          pressure   1.0133e+05 Pa\n",
      "           density   0.081894 kg/m^3\n",
      "  mean mol. weight   2.016 kg/kmol\n",
      "   phase of matter   gas\n",
      "\n",
      "                          1 kg             1 kmol     \n",
      "                     ---------------   ---------------\n",
      "          enthalpy             26469             53361  J\n",
      "   internal energy       -1.2108e+06        -2.441e+06  J\n",
      "           entropy             64910        1.3086e+05  J/K\n",
      "    Gibbs function       -1.9447e+07       -3.9204e+07  J\n",
      " heat capacity c_p             14311             28851  J/K\n",
      " heat capacity c_v             10187             20536  J/K\n",
      "\n",
      "                      mass frac. Y      mole frac. X     chem. pot. / RT\n",
      "                     ---------------   ---------------   ---------------\n",
      "                H2                 1                 1           -15.717\n",
      "     [  +52 minor]                 0                 0  \n",
      "\n"
     ]
    }
   ],
   "source": [
    "gas1()"
   ]
  },
  {
   "cell_type": "markdown",
   "metadata": {},
   "source": [
    "What you have just done is created an object `gas1` that implements GRI-Mech 3.0, the 53-species, 325-reaction natural gas combustion mechanism developed by Gregory P. Smith, David M. Golden, Michael Frenklach, Nigel W. Moriarty, Boris Eiteneer, Mikhail Goldenberg, C. Thomas Bowman, Ronald K. Hanson, Soonho Song, William C. Gardiner, Jr., Vitali V. Lissianski, and Zhiwei Qin.  See the [GRI-Mech Home Page](http://combustion.berkeley.edu/gri-mech/) for more information.\n",
    "\n",
    "The `gas1` object has properties you would expect for a gas mixture: a temperature, a pressure, species mole and mass fractions, etc. As we will soon see, it has many more properties.\n",
    "\n",
    "The summary of the state of `gas1` that you found above shows that the new objects created from the `gri30.cti` input file start out with a temperature of 300 K, a pressure of 1 atm, and have a composition that consists of only one species, in this case hydrogen. There is nothing special about H2—it just happens to be the first species listed in the input file defining GRI-Mech 3.0. In general, whichever species is listed first will initially have a mole fraction of 1.0, and all others will be zero."
   ]
  },
  {
   "cell_type": "markdown",
   "metadata": {},
   "source": [
    "## Setting the State"
   ]
  },
  {
   "cell_type": "markdown",
   "metadata": {},
   "source": [
    "The state of the object can easily be changed. For example:"
   ]
  },
  {
   "cell_type": "code",
   "execution_count": 4,
   "metadata": {},
   "outputs": [],
   "source": [
    "gas1.TP = 1200, 101325"
   ]
  },
  {
   "cell_type": "markdown",
   "metadata": {},
   "source": [
    "sets the temperature to 1200 K and the pressure to 101325 Pa (Cantera always uses SI units + kmol). After this statement, calling `gas1()` results in:"
   ]
  },
  {
   "cell_type": "code",
   "execution_count": 5,
   "metadata": {},
   "outputs": [
    {
     "name": "stdout",
     "output_type": "stream",
     "text": [
      "\n",
      "  gri30:\n",
      "\n",
      "       temperature   1200 K\n",
      "          pressure   1.0133e+05 Pa\n",
      "           density   0.020473 kg/m^3\n",
      "  mean mol. weight   2.016 kg/kmol\n",
      "   phase of matter   gas\n",
      "\n",
      "                          1 kg             1 kmol     \n",
      "                     ---------------   ---------------\n",
      "          enthalpy        1.3295e+07        2.6802e+07  J\n",
      "   internal energy        8.3457e+06        1.6825e+07  J\n",
      "           entropy             85222        1.7181e+05  J/K\n",
      "    Gibbs function       -8.8972e+07       -1.7937e+08  J\n",
      " heat capacity c_p             15377             31000  J/K\n",
      " heat capacity c_v             11253             22686  J/K\n",
      "\n",
      "                      mass frac. Y      mole frac. X     chem. pot. / RT\n",
      "                     ---------------   ---------------   ---------------\n",
      "                H2                 1                 1           -17.978\n",
      "     [  +52 minor]                 0                 0  \n",
      "\n"
     ]
    }
   ],
   "source": [
    "gas1()"
   ]
  },
  {
   "cell_type": "markdown",
   "metadata": {},
   "source": [
    "Thermodynamics generally requires that *two* properties in addition to composition information be specified to fix the intensive state of a substance (or mixture). The state of the mixture can be set using several combinations of two properties. The following are all equivalent:"
   ]
  },
  {
   "cell_type": "code",
   "execution_count": 6,
   "metadata": {},
   "outputs": [],
   "source": [
    "gas1.TP = 1200, 101325            # temperature, pressure\n",
    "gas1.TD = 1200, 0.0204723         # temperature, density\n",
    "gas1.HP = 1.32956e7, 101325       # specific enthalpy, pressure\n",
    "gas1.UV = 8.34619e6, 1/0.0204723  # specific internal energy, specific volume\n",
    "gas1.SP = 85227.6, 101325         # specific entropy, pressure\n",
    "gas1.SV = 85227.6, 1/0.0204723    # specific entropy, specific volume"
   ]
  },
  {
   "cell_type": "markdown",
   "metadata": {},
   "source": [
    "Cantera can set and get properties on a molar basis (J/kmol) or a mass basis (J/kg). Note that the mass basis is set by default, so all the values in the previous cell are per unit mass. The basis of a `Solution` instance can be changed by assigning to the `basis` attribute of the instance:"
   ]
  },
  {
   "cell_type": "code",
   "execution_count": 7,
   "metadata": {},
   "outputs": [],
   "source": [
    "gas1.basis = 'molar'\n",
    "gas1.basis = 'mass'"
   ]
  },
  {
   "cell_type": "markdown",
   "metadata": {},
   "source": [
    "Properties may be also **read** independently, such as"
   ]
  },
  {
   "cell_type": "code",
   "execution_count": 8,
   "metadata": {},
   "outputs": [
    {
     "data": {
      "text/plain": [
       "1200.5188172713504"
      ]
     },
     "execution_count": 8,
     "metadata": {},
     "output_type": "execute_result"
    }
   ],
   "source": [
    "gas1.T"
   ]
  },
  {
   "cell_type": "markdown",
   "metadata": {},
   "source": [
    "or"
   ]
  },
  {
   "cell_type": "code",
   "execution_count": 9,
   "metadata": {},
   "outputs": [
    {
     "data": {
      "text/plain": [
       "13302755.250164837"
      ]
     },
     "execution_count": 9,
     "metadata": {},
     "output_type": "execute_result"
    }
   ],
   "source": [
    "gas1.h"
   ]
  },
  {
   "cell_type": "markdown",
   "metadata": {},
   "source": [
    "or together:"
   ]
  },
  {
   "cell_type": "code",
   "execution_count": 10,
   "metadata": {},
   "outputs": [
    {
     "data": {
      "text/plain": [
       "(8351530.632807602, 48.84649013545132)"
      ]
     },
     "execution_count": 10,
     "metadata": {},
     "output_type": "execute_result"
    }
   ],
   "source": [
    "gas1.UV"
   ]
  },
  {
   "cell_type": "code",
   "execution_count": 12,
   "metadata": {},
   "outputs": [],
   "source": [
    "water = ct.PureFluid('liquidvapor.yaml', 'water')\n",
    "water.TP = 1200, 101325\n",
    "water.TPX = None, None, 1.0"
   ]
  },
  {
   "cell_type": "markdown",
   "metadata": {},
   "source": [
    "The composition can be set in terms of either mole fractions (`X`) or mass fractions (`Y`) by assigning to the corresponding attribute of the `Solution` instance. There are three main options to set the composition of a mixture:\n",
    "\n",
    "* A string specifying the species names and relative mole numbers\n",
    "\n",
    "      \"CH4:1, O2:2, N2:7.52\"\n",
    "      \n",
    "* A Python dictionary where the keys are species names and the values are relative mole numbers\n",
    "\n",
    "      {\"CH4\": 1, \"O2\": 2, \"N2\": 7.52}\n",
    "\n",
    "* A NumPy array of length `n_species`\n",
    "\n",
    "In any of these case, the mole numbers are normalized so the sum is 1.0."
   ]
  },
  {
   "cell_type": "code",
   "execution_count": 13,
   "metadata": {},
   "outputs": [
    {
     "name": "stdout",
     "output_type": "stream",
     "text": [
      "{'CH4': 0.07751937984496124, 'N2': 0.7286821705426355, 'O2': 0.19379844961240308}\n"
     ]
    }
   ],
   "source": [
    "gas1.X = \"CH4:0.8, O2:2, N2:7.52\"\n",
    "print(gas1.mole_fraction_dict())"
   ]
  },
  {
   "cell_type": "code",
   "execution_count": 14,
   "metadata": {},
   "outputs": [
    {
     "name": "stdout",
     "output_type": "stream",
     "text": [
      "{'CH4': 0.07751937984496125, 'N2': 0.7286821705426356, 'O2': 0.19379844961240314}\n"
     ]
    }
   ],
   "source": [
    "phi = 0.8\n",
    "gas1.X = {'CH4':1, 'O2':2/phi, 'N2': 2*3.76/phi}\n",
    "print(gas1.mole_fraction_dict())"
   ]
  },
  {
   "cell_type": "code",
   "execution_count": 15,
   "metadata": {},
   "outputs": [
    {
     "name": "stdout",
     "output_type": "stream",
     "text": [
      "\n",
      "  gri30:\n",
      "\n",
      "       temperature   1200.5 K\n",
      "          pressure   13437 Pa\n",
      "           density   0.020472 kg/m^3\n",
      "  mean mol. weight   15.208 kg/kmol\n",
      "   phase of matter   gas\n",
      "\n",
      "                          1 kg             1 kmol     \n",
      "                     ---------------   ---------------\n",
      "          enthalpy        1.2528e+07        1.9053e+08  J\n",
      "   internal energy        1.1872e+07        1.8055e+08  J\n",
      "           entropy             17372         2.642e+05  J/K\n",
      "    Gibbs function       -8.3274e+06       -1.2665e+08  J\n",
      " heat capacity c_p            2898.6             44084  J/K\n",
      " heat capacity c_v            2351.9             35769  J/K\n",
      "\n",
      "                      mass frac. Y      mole frac. X     chem. pot. / RT\n",
      "                     ---------------   ---------------   ---------------\n",
      "                H2          0.018868           0.14234           -21.949\n",
      "                 H          0.018868           0.28467            3.1625\n",
      "                 O          0.018868          0.017935           -2.0944\n",
      "                O2          0.018868         0.0089677           -33.823\n",
      "                OH          0.018868          0.016872            -26.55\n",
      "               H2O          0.018868          0.015928           -55.853\n",
      "               HO2          0.018868         0.0086938           -36.132\n",
      "              H2O2          0.018868         0.0084362           -52.497\n",
      "                 C          0.018868          0.023891            45.425\n",
      "                CH          0.018868          0.022041            29.699\n",
      "               CH2          0.018868          0.020457            7.0587\n",
      "            CH2(S)          0.018868          0.020457            11.556\n",
      "               CH3          0.018868          0.019085           -18.116\n",
      "               CH4          0.018868          0.017886           -39.651\n",
      "                CO          0.018868          0.010245           -43.774\n",
      "               CO2          0.018868         0.0065202           -75.622\n",
      "               HCO          0.018868         0.0098887           -32.435\n",
      "              CH2O          0.018868         0.0095567           -47.305\n",
      "             CH2OH          0.018868         0.0092463           -42.101\n",
      "              CH3O          0.018868         0.0092463           -36.635\n",
      "             CH3OH          0.018868         0.0089554           -60.393\n",
      "               C2H          0.018868          0.011464            21.039\n",
      "              C2H2          0.018868           0.01102           -12.027\n",
      "              C2H3          0.018868           0.01061           -9.1097\n",
      "              C2H4          0.018868          0.010228           -32.573\n",
      "              C2H5          0.018868         0.0098737           -30.058\n",
      "              C2H6          0.018868         0.0095427           -48.742\n",
      "              HCCO          0.018868         0.0069938           -23.341\n",
      "             CH2CO          0.018868         0.0068261           -45.933\n",
      "             HCCOH          0.018868         0.0068261           -32.956\n",
      "                 N          0.018868          0.020486            21.405\n",
      "                NH          0.018868          0.019111            5.7059\n",
      "               NH2          0.018868          0.017909           -13.079\n",
      "               NH3          0.018868          0.016849           -37.186\n",
      "               NNH          0.018868         0.0098873           -11.692\n",
      "                NO          0.018868         0.0095631           -25.256\n",
      "               NO2          0.018868         0.0062373           -35.928\n",
      "               N2O          0.018868         0.0065196            -28.87\n",
      "               HNO          0.018868         0.0092522           -25.584\n",
      "                CN          0.018868          0.011029            10.711\n",
      "               HCN          0.018868          0.010618           -20.954\n",
      "              H2CN          0.018868          0.010236           -12.527\n",
      "              HCNN          0.018868         0.0069931            4.6924\n",
      "              HCNO          0.018868         0.0066694           -23.506\n",
      "              HOCN          0.018868         0.0066694           -41.515\n",
      "              HNCO          0.018868         0.0066694           -52.102\n",
      "               NCO          0.018868         0.0068294            -25.37\n",
      "                N2          0.018868          0.010243           -31.946\n",
      "                AR          0.018868         0.0071827            -27.17\n",
      "              C3H7          0.018868         0.0066594            -40.02\n",
      "              C3H8          0.018868         0.0065072           -58.715\n",
      "            CH2CHO          0.018868         0.0066663            -42.25\n",
      "            CH3CHO          0.018868         0.0065137           -61.423\n",
      "\n"
     ]
    }
   ],
   "source": [
    "nsp = gas1.n_species\n",
    "gas1.Y = np.ones(nsp)\n",
    "gas1()"
   ]
  },
  {
   "cell_type": "markdown",
   "metadata": {},
   "source": [
    "One additional method is available to set the equivalence ratio directly, called [`set_equivalence_ratio()`](https://cantera.org/documentation/docs-2.4/sphinx/html/cython/thermo.html#cantera.ThermoPhase.set_equivalence_ratio). In this case, it is assumed that all C atoms are oxidized to CO2, H atoms to H2O, and S to SO2. Other atoms are assumed not to react (e.g., N ends up as N2). The signature for this method is:\n",
    "\n",
    "    set_equivalence_ratio(phi, fuel, oxidizer)\n",
    "    \n",
    "where the `phi` argument is a number that represents the desired equivalence ratio of the mixture and the `fuel` and `oxidizer` represent the fuel and oxidizer mixtures in any of the formats shown before on a molar basis. For instance, to set the equivalence ratio to 0.8 with an equimolar fuel mixture of methane and propane and an oxidizer of air, the code is:"
   ]
  },
  {
   "cell_type": "code",
   "execution_count": 16,
   "metadata": {},
   "outputs": [
    {
     "name": "stdout",
     "output_type": "stream",
     "text": [
      "{'C3H8': 0.022909507445589918, 'CH4': 0.02290950744558992, 'N2': 0.7537227949599085, 'O2': 0.2004581901489118}\n"
     ]
    }
   ],
   "source": [
    "gas1.set_equivalence_ratio(phi, {\"CH4\": 1, \"C3H8\": 1}, \"O2:1, N2:3.76\")\n",
    "print(gas1.mole_fraction_dict())"
   ]
  },
  {
   "cell_type": "markdown",
   "metadata": {},
   "source": [
    "When the composition alone is changed, the **temperature** and **density** are held constant. This means that the pressure and other intensive properties will change. The composition can also be set in conjunction with the intensive properties of the mixture:"
   ]
  },
  {
   "cell_type": "code",
   "execution_count": 17,
   "metadata": {},
   "outputs": [
    {
     "name": "stdout",
     "output_type": "stream",
     "text": [
      "\n",
      "  gri30:\n",
      "\n",
      "       temperature   1200 K\n",
      "          pressure   1.0133e+05 Pa\n",
      "           density   0.28063 kg/m^3\n",
      "  mean mol. weight   27.633 kg/kmol\n",
      "   phase of matter   gas\n",
      "\n",
      "                          1 kg             1 kmol     \n",
      "                     ---------------   ---------------\n",
      "          enthalpy        8.6193e+05        2.3818e+07  J\n",
      "   internal energy        5.0087e+05        1.3841e+07  J\n",
      "           entropy            8914.2        2.4633e+05  J/K\n",
      "    Gibbs function       -9.8351e+06       -2.7178e+08  J\n",
      " heat capacity c_p            1397.3             38611  J/K\n",
      " heat capacity c_v            1096.4             30296  J/K\n",
      "\n",
      "                      mass frac. Y      mole frac. X     chem. pot. / RT\n",
      "                     ---------------   ---------------   ---------------\n",
      "                O2           0.22014           0.19011           -28.747\n",
      "               CH4          0.055187          0.095057           -35.961\n",
      "                N2           0.72467           0.71483           -25.679\n",
      "     [  +50 minor]                 0                 0  \n",
      "\n"
     ]
    }
   ],
   "source": [
    "gas1.TPX = 1200, 101325, \"CH4:1, O2:2, N2:7.52\"\n",
    "gas1()"
   ]
  },
  {
   "cell_type": "markdown",
   "metadata": {},
   "source": [
    "When setting the state, you can control what properties are held constant by passing the special value `None` to the property setter. For example, to change the specific volume to 2.1 m<sup>3</sup>/kg while holding entropy constant:"
   ]
  },
  {
   "cell_type": "code",
   "execution_count": 18,
   "metadata": {},
   "outputs": [
    {
     "name": "stdout",
     "output_type": "stream",
     "text": [
      "\n",
      "  gri30:\n",
      "\n",
      "       temperature   1383.5 K\n",
      "          pressure   1.9823e+05 Pa\n",
      "           density   0.47619 kg/m^3\n",
      "  mean mol. weight   27.633 kg/kmol\n",
      "   phase of matter   gas\n",
      "\n",
      "                          1 kg             1 kmol     \n",
      "                     ---------------   ---------------\n",
      "          enthalpy        1.1224e+06        3.1017e+07  J\n",
      "   internal energy        7.0614e+05        1.9513e+07  J\n",
      "           entropy            8914.2        2.4633e+05  J/K\n",
      "    Gibbs function       -1.1211e+07       -3.0979e+08  J\n",
      " heat capacity c_p            1439.9             39788  J/K\n",
      " heat capacity c_v              1139             31474  J/K\n",
      "\n",
      "                      mass frac. Y      mole frac. X     chem. pot. / RT\n",
      "                     ---------------   ---------------   ---------------\n",
      "                O2           0.22014           0.19011           -28.513\n",
      "               CH4          0.055187          0.095057           -35.115\n",
      "                N2           0.72467           0.71483           -25.421\n",
      "     [  +50 minor]                 0                 0  \n",
      "\n"
     ]
    }
   ],
   "source": [
    "gas1.SV = None, 2.1\n",
    "gas1()"
   ]
  },
  {
   "cell_type": "markdown",
   "metadata": {},
   "source": [
    "Or to set the mass fractions while holding temperature and pressure constant:"
   ]
  },
  {
   "cell_type": "code",
   "execution_count": 19,
   "metadata": {},
   "outputs": [],
   "source": [
    "gas1.TPY = None, None, \"CH4:1.0, O2:0.5\""
   ]
  },
  {
   "cell_type": "markdown",
   "metadata": {},
   "source": [
    "## Working with a Subset of Species"
   ]
  },
  {
   "cell_type": "code",
   "execution_count": 20,
   "metadata": {},
   "outputs": [
    {
     "name": "stdout",
     "output_type": "stream",
     "text": [
      "[<Species H2>, <Species H>, <Species O>, <Species O2>, <Species OH>, <Species H2O>, <Species HO2>, <Species H2O2>, <Species C>, <Species CH>, <Species CH2>, <Species CH2(S)>, <Species CH3>, <Species CH4>, <Species CO>, <Species CO2>, <Species HCO>, <Species CH2O>, <Species CH2OH>, <Species CH3O>, <Species CH3OH>, <Species C2H>, <Species C2H2>, <Species C2H3>, <Species C2H4>, <Species C2H5>, <Species C2H6>, <Species HCCO>, <Species CH2CO>, <Species HCCOH>, <Species N>, <Species NH>, <Species NH2>, <Species NH3>, <Species NNH>, <Species NO>, <Species NO2>, <Species N2O>, <Species HNO>, <Species CN>, <Species HCN>, <Species H2CN>, <Species HCNN>, <Species HCNO>, <Species HOCN>, <Species HNCO>, <Species NCO>, <Species N2>, <Species AR>, <Species C3H7>, <Species C3H8>, <Species CH2CHO>, <Species CH3CHO>]\n"
     ]
    }
   ],
   "source": [
    "print(gas1.species())"
   ]
  },
  {
   "cell_type": "markdown",
   "metadata": {},
   "source": [
    "Many properties of a [`Solution`](https://cantera.org/documentation/docs-2.4/sphinx/html/cython/importing.html#cantera.Solution) provide values for each species present in the phase. If you want to get values only for a subset of these species, you can use Python's \"slicing\" syntax to select data for just the species of interest. To get the mole fractions of just the major species in `gas1`, in the order specified, you can write:"
   ]
  },
  {
   "cell_type": "code",
   "execution_count": 21,
   "metadata": {},
   "outputs": [
    {
     "name": "stdout",
     "output_type": "stream",
     "text": [
      "[0.79956021 0.20043979 0.         0.         0.        ]\n"
     ]
    }
   ],
   "source": [
    "Xmajor = gas1['CH4','O2','CO2','H2O','N2'].X\n",
    "print(Xmajor)"
   ]
  },
  {
   "cell_type": "markdown",
   "metadata": {},
   "source": [
    "If you want to use the same set of species repeatedly, you can keep a reference to the sliced phase object:"
   ]
  },
  {
   "cell_type": "code",
   "execution_count": 22,
   "metadata": {},
   "outputs": [
    {
     "name": "stdout",
     "output_type": "stream",
     "text": [
      "[-0.00599455 -0.00500799  0.          0.          0.        ]\n"
     ]
    }
   ],
   "source": [
    "major = gas1['CH4','O2','CO2','H2O','N2']\n",
    "cp_major = major.partial_molar_cp\n",
    "wdot_major = major.net_production_rates\n",
    "print(wdot_major)"
   ]
  },
  {
   "cell_type": "markdown",
   "metadata": {},
   "source": [
    "The slice object and the original object share the same internal state, so modifications to one will affect the other."
   ]
  },
  {
   "cell_type": "code",
   "execution_count": 23,
   "metadata": {},
   "outputs": [
    {
     "name": "stdout",
     "output_type": "stream",
     "text": [
      "[-8.65079074e-06 -8.53258691e-06  0.00000000e+00  0.00000000e+00\n",
      " -3.28511288e-13]\n",
      "[0.09505703 0.19011407 0.         0.         0.7148289 ]\n"
     ]
    }
   ],
   "source": [
    "gas1.TPX = 1200, 101325, \"CH4:1, N2:7.52, O2:2\"\n",
    "print(major.net_production_rates)\n",
    "print(major.X)"
   ]
  },
  {
   "cell_type": "markdown",
   "metadata": {},
   "source": [
    "## Working with Mechanism Files"
   ]
  },
  {
   "cell_type": "markdown",
   "metadata": {},
   "source": [
    "In the previous example, we created an object that models an ideal gas mixture with the species and reactions of GRI-Mech 3.0, using the `gri30.cti` input file included with Cantera. This is a CTI input file and is relatively easy for humans to read and write. Cantera also supports an XML-based input file format that is easy for Cantera to parse, but hard for humans to write. Several reaction mechanism files in both formats are included with Cantera, including ones that model high-temperature air, a hydrogen/oxygen reaction mechanism, and a few surface reaction mechanisms. These files are usually located in the `data` subdirectory of the Cantera installation directory, e.g., `C:\\Program Files\\Cantera\\data` on Windows or `/usr/local/cantera/data/` on Unix/Linux/Mac OS X machines, depending on how you installed Cantera and the options you specified.\n",
    "\n",
    "There are a number of mechanism files included with Cantera, including the `gri30.cti` example we saw earlier."
   ]
  },
  {
   "cell_type": "code",
   "execution_count": 24,
   "metadata": {},
   "outputs": [
    {
     "name": "stdout",
     "output_type": "stream",
     "text": [
      "['ohn.yaml', 'nDodecane_Reitz.yaml', 'graphite.yaml', 'h2o2.yaml', 'water.yaml', 'KOH.yaml', 'nasa_gas.yaml', 'gri30.yaml', 'methane_pox_on_pt.yaml', 'silicon_carbide.yaml', 'nasa_condensed.yaml', 'silicon.yaml', 'airNASA9.yaml', 'liquidvapor.yaml', 'critical-properties.yaml', 'sofc.yaml', 'diamond.yaml', 'lithium_ion_battery.yaml', 'air.yaml', 'element-standard-entropies.yaml', 'gri30_ion.yaml', 'ptcombust.yaml', 'silane.yaml', 'gri30_highT.yaml']\n"
     ]
    }
   ],
   "source": [
    "from pathlib import Path\n",
    "p = Path(ct.__file__)\n",
    "print([c.name for c in (p.parent / \"data\").glob(\"*.yaml\")])"
   ]
  },
  {
   "cell_type": "markdown",
   "metadata": {},
   "source": [
    "Cantera input files are plain text files, and can be created with any text editor. See the document *[Defining Phases](https://cantera.org/tutorials/cti/defining-phases.html)* for more information.\n",
    "\n",
    "A Cantera input file may contain more than one phase specification, or may contain specifications of interfaces (surfaces). Here, we import definitions of two bulk phases and the interface between them from the file `diamond.cti`:"
   ]
  },
  {
   "cell_type": "code",
   "execution_count": 25,
   "metadata": {},
   "outputs": [],
   "source": [
    "gas2 = ct.Solution('diamond.yaml', 'gas')\n",
    "diamond = ct.Solution('diamond.yaml', 'diamond')\n",
    "diamond_surf = ct.Interface('diamond.yaml', 'diamond_100', [gas2, diamond])"
   ]
  },
  {
   "cell_type": "markdown",
   "metadata": {},
   "source": [
    "Note that the bulk (i.e., 3D or homogenous) phases that participate in the surface reactions must also be passed as arguments to [`Interface`](http://cantera.github.io/docs/sphinx/html/cython/importing.html#cantera.Interface)."
   ]
  },
  {
   "cell_type": "markdown",
   "metadata": {},
   "source": [
    "### Converting CK-format files"
   ]
  },
  {
   "cell_type": "markdown",
   "metadata": {},
   "source": [
    "Cantera also comes with a script to convert CHEMKIN (CK)-format input files to the CTI format. We'll cover that in the [`chemkin_conversion.ipynb`](chemkin_conversion.ipynb) Notebook."
   ]
  },
  {
   "cell_type": "markdown",
   "metadata": {},
   "source": [
    "## Getting Help"
   ]
  },
  {
   "cell_type": "markdown",
   "metadata": {},
   "source": [
    "In addition to the Sphinx-generated *[Python Module Documentation](https://cantera.org/documentation/docs-2.4/sphinx/html/index.html)*, documentation of the Python classes and their methods can be accessed from within the Python interpreter as well.\n",
    "\n",
    "Suppose you have created a Cantera object and want to know what methads are avialable for it, and get help on using the methods:"
   ]
  },
  {
   "cell_type": "code",
   "execution_count": 26,
   "metadata": {},
   "outputs": [],
   "source": [
    "g = ct.Solution(\"gri30.yaml\")"
   ]
  },
  {
   "cell_type": "markdown",
   "metadata": {},
   "source": [
    "To get help on the Python class that this object is an instance of, put a question mark `?` after the variable:"
   ]
  },
  {
   "cell_type": "code",
   "execution_count": null,
   "metadata": {},
   "outputs": [],
   "source": [
    "g?"
   ]
  },
  {
   "cell_type": "markdown",
   "metadata": {},
   "source": [
    "For a simple list of the properties and methods of this object:"
   ]
  },
  {
   "cell_type": "code",
   "execution_count": 28,
   "metadata": {
    "scrolled": true
   },
   "outputs": [
    {
     "data": {
      "text/plain": [
       "['CK_mode',\n",
       " 'DP',\n",
       " 'DPX',\n",
       " 'DPY',\n",
       " 'HP',\n",
       " 'HPX',\n",
       " 'HPY',\n",
       " 'P',\n",
       " 'P_sat',\n",
       " 'SP',\n",
       " 'SPX',\n",
       " 'SPY',\n",
       " 'SV',\n",
       " 'SVX',\n",
       " 'SVY',\n",
       " 'T',\n",
       " 'TD',\n",
       " 'TDX',\n",
       " 'TDY',\n",
       " 'TP',\n",
       " 'TPX',\n",
       " 'TPY',\n",
       " 'T_sat',\n",
       " 'Te',\n",
       " 'UV',\n",
       " 'UVX',\n",
       " 'UVY',\n",
       " 'X',\n",
       " 'Y',\n",
       " '__call__',\n",
       " '__class__',\n",
       " '__composition_to_array',\n",
       " '__copy__',\n",
       " '__delattr__',\n",
       " '__dir__',\n",
       " '__doc__',\n",
       " '__eq__',\n",
       " '__format__',\n",
       " '__ge__',\n",
       " '__getattribute__',\n",
       " '__getitem__',\n",
       " '__getstate__',\n",
       " '__gt__',\n",
       " '__hash__',\n",
       " '__init__',\n",
       " '__init_subclass__',\n",
       " '__le__',\n",
       " '__lt__',\n",
       " '__module__',\n",
       " '__ne__',\n",
       " '__new__',\n",
       " '__pyx_vtable__',\n",
       " '__reduce__',\n",
       " '__reduce_cython__',\n",
       " '__reduce_ex__',\n",
       " '__repr__',\n",
       " '__setattr__',\n",
       " '__setstate__',\n",
       " '__setstate_cython__',\n",
       " '__sizeof__',\n",
       " '__slots__',\n",
       " '__str__',\n",
       " '__subclasshook__',\n",
       " '_check_kinetics_species_index',\n",
       " '_check_phase_index',\n",
       " '_check_reaction_index',\n",
       " '_cinit',\n",
       " '_enable_plasma',\n",
       " '_full_states',\n",
       " '_init_cti_xml',\n",
       " '_init_parts',\n",
       " '_init_yaml',\n",
       " '_native_state',\n",
       " '_partial_states',\n",
       " '_references',\n",
       " 'activities',\n",
       " 'activity_coefficients',\n",
       " 'add_reaction',\n",
       " 'add_species',\n",
       " 'add_species_alias',\n",
       " 'atomic_weight',\n",
       " 'atomic_weights',\n",
       " 'basis',\n",
       " 'binary_diff_coeffs',\n",
       " 'case_sensitive_species_names',\n",
       " 'charges',\n",
       " 'chemical_potentials',\n",
       " 'clear_user_data',\n",
       " 'clear_user_header',\n",
       " 'composite',\n",
       " 'concentrations',\n",
       " 'cp',\n",
       " 'cp_mass',\n",
       " 'cp_mole',\n",
       " 'creation_rates',\n",
       " 'creation_rates_ddC',\n",
       " 'creation_rates_ddP',\n",
       " 'creation_rates_ddT',\n",
       " 'creation_rates_ddX',\n",
       " 'critical_density',\n",
       " 'critical_pressure',\n",
       " 'critical_temperature',\n",
       " 'cv',\n",
       " 'cv_mass',\n",
       " 'cv_mole',\n",
       " 'delta_enthalpy',\n",
       " 'delta_entropy',\n",
       " 'delta_gibbs',\n",
       " 'delta_standard_enthalpy',\n",
       " 'delta_standard_entropy',\n",
       " 'delta_standard_gibbs',\n",
       " 'density',\n",
       " 'density_mass',\n",
       " 'density_mole',\n",
       " 'derivative_settings',\n",
       " 'destruction_rates',\n",
       " 'destruction_rates_ddC',\n",
       " 'destruction_rates_ddP',\n",
       " 'destruction_rates_ddT',\n",
       " 'destruction_rates_ddX',\n",
       " 'electric_potential',\n",
       " 'electrical_conductivity',\n",
       " 'electrochemical_potentials',\n",
       " 'electron_energy_distribution',\n",
       " 'electron_energy_distribution_type',\n",
       " 'electron_energy_levels',\n",
       " 'element_index',\n",
       " 'element_name',\n",
       " 'element_names',\n",
       " 'elemental_mass_fraction',\n",
       " 'elemental_mole_fraction',\n",
       " 'enthalpy_mass',\n",
       " 'enthalpy_mole',\n",
       " 'entropy_mass',\n",
       " 'entropy_mole',\n",
       " 'equilibrate',\n",
       " 'equilibrium_constants',\n",
       " 'equivalence_ratio',\n",
       " 'find_isomers',\n",
       " 'forward_rate_constants',\n",
       " 'forward_rate_constants_ddC',\n",
       " 'forward_rate_constants_ddP',\n",
       " 'forward_rate_constants_ddT',\n",
       " 'forward_rates_of_progress',\n",
       " 'forward_rates_of_progress_ddC',\n",
       " 'forward_rates_of_progress_ddP',\n",
       " 'forward_rates_of_progress_ddT',\n",
       " 'forward_rates_of_progress_ddX',\n",
       " 'g',\n",
       " 'get_binary_diff_coeffs_polynomial',\n",
       " 'get_collision_integral_polynomials',\n",
       " 'get_thermal_conductivity_polynomial',\n",
       " 'get_viscosity_polynomial',\n",
       " 'gibbs_mass',\n",
       " 'gibbs_mole',\n",
       " 'h',\n",
       " 'has_phase_transition',\n",
       " 'heat_production_rates',\n",
       " 'heat_release_rate',\n",
       " 'input_data',\n",
       " 'input_header',\n",
       " 'int_energy_mass',\n",
       " 'int_energy_mole',\n",
       " 'is_compressible',\n",
       " 'is_pure',\n",
       " 'is_reversible',\n",
       " 'isothermal_compressibility',\n",
       " 'isotropic_shape_factor',\n",
       " 'kinetics_model',\n",
       " 'kinetics_species_index',\n",
       " 'kinetics_species_name',\n",
       " 'kinetics_species_names',\n",
       " 'mass_fraction_dict',\n",
       " 'max_temp',\n",
       " 'mean_electron_energy',\n",
       " 'mean_molecular_weight',\n",
       " 'min_temp',\n",
       " 'mix_diff_coeffs',\n",
       " 'mix_diff_coeffs_mass',\n",
       " 'mix_diff_coeffs_mole',\n",
       " 'mixture_fraction',\n",
       " 'mobilities',\n",
       " 'modify_reaction',\n",
       " 'modify_species',\n",
       " 'mole_fraction_dict',\n",
       " 'molecular_weights',\n",
       " 'multi_diff_coeffs',\n",
       " 'multiplier',\n",
       " 'n_atoms',\n",
       " 'n_electron_energy_levels',\n",
       " 'n_elements',\n",
       " 'n_phases',\n",
       " 'n_reactions',\n",
       " 'n_selected_species',\n",
       " 'n_species',\n",
       " 'n_total_species',\n",
       " 'name',\n",
       " 'net_production_rates',\n",
       " 'net_production_rates_ddC',\n",
       " 'net_production_rates_ddP',\n",
       " 'net_production_rates_ddT',\n",
       " 'net_production_rates_ddX',\n",
       " 'net_rates_of_progress',\n",
       " 'net_rates_of_progress_ddC',\n",
       " 'net_rates_of_progress_ddP',\n",
       " 'net_rates_of_progress_ddT',\n",
       " 'net_rates_of_progress_ddX',\n",
       " 'normalize_electron_energy_distribution_enabled',\n",
       " 'partial_molar_cp',\n",
       " 'partial_molar_enthalpies',\n",
       " 'partial_molar_entropies',\n",
       " 'partial_molar_int_energies',\n",
       " 'partial_molar_volumes',\n",
       " 'phase_of_matter',\n",
       " 'product_stoich_coeff',\n",
       " 'product_stoich_coeffs',\n",
       " 'product_stoich_coeffs3',\n",
       " 'product_stoich_coeffs_reversible',\n",
       " 'products',\n",
       " 'quadrature_method',\n",
       " 'reactant_stoich_coeff',\n",
       " 'reactant_stoich_coeffs',\n",
       " 'reactant_stoich_coeffs3',\n",
       " 'reactants',\n",
       " 'reaction',\n",
       " 'reaction_equation',\n",
       " 'reaction_equations',\n",
       " 'reaction_phase_index',\n",
       " 'reaction_type',\n",
       " 'reactions',\n",
       " 'reference_pressure',\n",
       " 'report',\n",
       " 'reverse_rate_constants',\n",
       " 'reverse_rates_of_progress',\n",
       " 'reverse_rates_of_progress_ddC',\n",
       " 'reverse_rates_of_progress_ddP',\n",
       " 'reverse_rates_of_progress_ddT',\n",
       " 'reverse_rates_of_progress_ddX',\n",
       " 's',\n",
       " 'selected_species',\n",
       " 'set_binary_diff_coeffs_polynomial',\n",
       " 'set_collision_integral_polynomial',\n",
       " 'set_discretized_electron_energy_distribution',\n",
       " 'set_equivalence_ratio',\n",
       " 'set_mixture_fraction',\n",
       " 'set_multiplier',\n",
       " 'set_thermal_conductivity_polynomial',\n",
       " 'set_unnormalized_mass_fractions',\n",
       " 'set_unnormalized_mole_fractions',\n",
       " 'set_viscosity_polynomial',\n",
       " 'source',\n",
       " 'species',\n",
       " 'species_index',\n",
       " 'species_name',\n",
       " 'species_names',\n",
       " 'species_viscosities',\n",
       " 'standard_concentration_units',\n",
       " 'standard_cp_R',\n",
       " 'standard_enthalpies_RT',\n",
       " 'standard_entropies_R',\n",
       " 'standard_gibbs_RT',\n",
       " 'standard_int_energies_RT',\n",
       " 'state',\n",
       " 'state_size',\n",
       " 'stoich_air_fuel_ratio',\n",
       " 'thermal_conductivity',\n",
       " 'thermal_diff_coeffs',\n",
       " 'thermal_expansion_coeff',\n",
       " 'thermo_model',\n",
       " 'third_body_concentrations',\n",
       " 'transport_model',\n",
       " 'u',\n",
       " 'update_user_data',\n",
       " 'update_user_header',\n",
       " 'v',\n",
       " 'viscosity',\n",
       " 'volume_mass',\n",
       " 'volume_mole',\n",
       " 'write_yaml']"
      ]
     },
     "execution_count": 28,
     "metadata": {},
     "output_type": "execute_result"
    }
   ],
   "source": [
    "dir(g)"
   ]
  },
  {
   "cell_type": "markdown",
   "metadata": {},
   "source": [
    "To get help on a specific method, e.g. the `species_index` method:"
   ]
  },
  {
   "cell_type": "code",
   "execution_count": null,
   "metadata": {},
   "outputs": [],
   "source": [
    "g.species_index?"
   ]
  },
  {
   "cell_type": "markdown",
   "metadata": {},
   "source": [
    "For properties, getting the documentation is slightly trickier, as the usual method will give you help for the *result*, e.g.:"
   ]
  },
  {
   "cell_type": "code",
   "execution_count": null,
   "metadata": {
    "scrolled": true
   },
   "outputs": [],
   "source": [
    "g.T?"
   ]
  },
  {
   "cell_type": "markdown",
   "metadata": {},
   "source": [
    "provides help on Python's `float` class. To get the help for the temperature property, ask for the attribute of the class object itself:"
   ]
  },
  {
   "cell_type": "code",
   "execution_count": 27,
   "metadata": {},
   "outputs": [],
   "source": [
    "g.__class__.T?"
   ]
  },
  {
   "cell_type": "markdown",
   "metadata": {},
   "source": [
    "Help can also be obtained using the `help` function:"
   ]
  },
  {
   "cell_type": "code",
   "execution_count": 28,
   "metadata": {},
   "outputs": [
    {
     "name": "stdout",
     "output_type": "stream",
     "text": [
      "Help on built-in function species_index:\n",
      "\n",
      "species_index(...) method of cantera.composite.Solution instance\n",
      "    ThermoPhase.species_index(self, species) -> int\n",
      "    \n",
      "    The index of species *species*, which may be specified as a string or\n",
      "    an integer. In the latter case, the index is checked for validity and\n",
      "    returned. If no such species is present, an exception is thrown.\n",
      "\n"
     ]
    }
   ],
   "source": [
    "help(g.species_index)"
   ]
  },
  {
   "cell_type": "markdown",
   "metadata": {},
   "source": [
    "## Chemical Equilibrium"
   ]
  },
  {
   "cell_type": "markdown",
   "metadata": {},
   "source": [
    "To set a gas mixture to a state of chemical equilibrium, use the `equilibrate` method:"
   ]
  },
  {
   "cell_type": "code",
   "execution_count": 31,
   "metadata": {},
   "outputs": [
    {
     "name": "stdout",
     "output_type": "stream",
     "text": [
      "\n",
      "  gri30:\n",
      "\n",
      "       temperature   300 K\n",
      "          pressure   1.0133e+05 Pa\n",
      "           density   1.1248 kg/m^3\n",
      "  mean mol. weight   27.689 kg/kmol\n",
      "   phase of matter   gas\n",
      "\n",
      "                          1 kg             1 kmol     \n",
      "                     ---------------   ---------------\n",
      "          enthalpy       -2.8723e+06       -7.9532e+07  J\n",
      "   internal energy       -2.9624e+06       -8.2026e+07  J\n",
      "           entropy            7226.6         2.001e+05  J/K\n",
      "    Gibbs function       -5.0403e+06       -1.3956e+08  J\n",
      " heat capacity c_p            1106.5             30638  J/K\n",
      " heat capacity c_v            806.22             22323  J/K\n",
      "\n",
      "                      mass frac. Y      mole frac. X     chem. pot. / RT\n",
      "                     ---------------   ---------------   ---------------\n",
      "                O2          0.011038         0.0095511           -29.325\n",
      "               H2O           0.11807           0.18147           -121.37\n",
      "               CO2           0.14422          0.090735           -185.87\n",
      "               NO2        1.0069e-11        6.0604e-12           -41.007\n",
      "                N2           0.72668           0.71824           -23.364\n",
      "     [  +48 minor]        5.1542e-17        4.7534e-17  \n",
      "\n"
     ]
    }
   ],
   "source": [
    "g = ct.Solution(\"gri30.yaml\")\n",
    "g.TPX = 300.0, ct.one_atm, \"CH4:0.95, O2:2, N2:7.52\"\n",
    "g.equilibrate(\"TP\")\n",
    "g()"
   ]
  },
  {
   "cell_type": "markdown",
   "metadata": {},
   "source": [
    "The above statement sets the state of object `g` to the state of chemical equilibrium holding temperature and pressure fixed. Alternatively, the specific enthalpy and pressure can be held fixed:"
   ]
  },
  {
   "cell_type": "code",
   "execution_count": 32,
   "metadata": {},
   "outputs": [
    {
     "name": "stdout",
     "output_type": "stream",
     "text": [
      "\n",
      "  gri30:\n",
      "\n",
      "       temperature   2188.9 K\n",
      "          pressure   1.0133e+05 Pa\n",
      "           density   0.15349 kg/m^3\n",
      "  mean mol. weight   27.57 kg/kmol\n",
      "   phase of matter   gas\n",
      "\n",
      "                          1 kg             1 kmol     \n",
      "                     ---------------   ---------------\n",
      "          enthalpy       -2.4244e+05        -6.684e+06  J\n",
      "   internal energy       -9.0257e+05       -2.4884e+07  J\n",
      "           entropy            9804.1         2.703e+05  J/K\n",
      "    Gibbs function       -2.1703e+07       -5.9836e+08  J\n",
      " heat capacity c_p            1500.5             41370  J/K\n",
      " heat capacity c_v            1198.9             33055  J/K\n",
      "\n",
      "                      mass frac. Y      mole frac. X     chem. pot. / RT\n",
      "                     ---------------   ---------------   ---------------\n",
      "                H2        0.00013397         0.0018322           -26.072\n",
      "                 H        8.2844e-06        0.00022659           -13.036\n",
      "                 O        0.00015045        0.00025925           -16.819\n",
      "                O2          0.012303            0.0106           -33.638\n",
      "                OH         0.0018524          0.003003           -29.855\n",
      "               H2O           0.11582           0.17725           -42.891\n",
      "               HO2        9.6895e-07        8.0937e-07           -46.674\n",
      "              H2O2        7.4683e-08        6.0534e-08            -59.71\n",
      "                CO          0.004715         0.0046409           -39.462\n",
      "               CO2           0.13681          0.085706           -56.281\n",
      "               HCO        2.6871e-10        2.5531e-10           -52.498\n",
      "              CH2O        3.7766e-12        3.4677e-12           -65.534\n",
      "                 N        4.7066e-09        9.2641e-09           -13.788\n",
      "                NH        6.6614e-10        1.2231e-09           -26.825\n",
      "               NH2         2.355e-10        4.0521e-10           -39.861\n",
      "               NH3        6.3387e-10        1.0261e-09           -52.897\n",
      "               NNH        4.5639e-10        4.3356e-10           -40.613\n",
      "                NO         0.0028762         0.0026427           -30.607\n",
      "               NO2        1.2873e-06        7.7145e-07           -47.426\n",
      "               N2O        2.2492e-07         1.409e-07           -44.396\n",
      "               HNO        3.7252e-08        3.3116e-08           -43.643\n",
      "                CN         1.329e-14        1.4083e-14           -36.432\n",
      "               HCN        3.6949e-12        3.7693e-12           -49.468\n",
      "              HOCN        5.9567e-13         3.817e-13           -66.287\n",
      "              HNCO        2.2296e-10        1.4287e-10           -66.287\n",
      "               NCO        9.7085e-12        6.3704e-12            -53.25\n",
      "                N2           0.72533           0.71384           -27.577\n",
      "     [  +26 minor]        6.1778e-17        5.1197e-17  \n",
      "\n"
     ]
    }
   ],
   "source": [
    "g.TPX = 300.0, ct.one_atm, \"CH4:0.95, O2:2, N2:7.52\"\n",
    "g.equilibrate(\"HP\")\n",
    "g()"
   ]
  },
  {
   "cell_type": "markdown",
   "metadata": {},
   "source": [
    "Other options are:\n",
    "* `'UV'` for fixed specific internal energy and specific volume\n",
    "* `'SV'` for fixed specific entropy and specific volume\n",
    "* `'SP'` for fixed specific entropy and pressure\n",
    "\n",
    "How can you tell if `equilibrate` has correctly found the chemical equilibrium state? One way is to verify that the net rates of progress of all reversible reactions are zero. Here is the code to do this:"
   ]
  },
  {
   "cell_type": "code",
   "execution_count": 33,
   "metadata": {},
   "outputs": [],
   "source": [
    "g.TPX = 300.0, ct.one_atm, 'CH4:0.95, O2:2, N2:7.52'\n",
    "g.equilibrate('HP')"
   ]
  },
  {
   "cell_type": "code",
   "execution_count": 34,
   "metadata": {
    "scrolled": true
   },
   "outputs": [
    {
     "name": "stdout",
     "output_type": "stream",
     "text": [
      "   0\t-1.762e-16\n",
      "   1\t-3.702e-15\n",
      "   2\t-7.872e-16\n",
      "   3\t 5.418e-15\n",
      "   4\t -5.49e-15\n",
      "   5\t 1.253e-16\n",
      "   6\t 3.538e-15\n",
      "   7\t         0\n",
      "   8\t 3.218e-15\n",
      "   9\t-3.649e-15\n",
      "  10\t 3.438e-15\n",
      "  11\t 1.351e-16\n",
      "  12\t-3.656e-15\n",
      "  13\t-3.441e-15\n",
      "  14\t  3.22e-15\n",
      "  15\t 1.387e-15\n",
      "  16\t-1.743e-16\n",
      "  17\t-7.062e-16\n",
      "  18\t 7.666e-15\n",
      "  19\t         0\n",
      "  20\t 7.291e-15\n",
      "  21\t 7.106e-16\n",
      "  22\t 3.912e-15\n",
      "  23\t-3.804e-15\n",
      "  24\t 2.055e-15\n",
      "  25\t-3.544e-15\n",
      "  26\t-1.311e-14\n",
      "  27\t-3.702e-15\n",
      "  28\t 5.243e-16\n",
      "  29\t-3.464e-15\n",
      "  30\t-1.052e-15\n",
      "  31\t-7.965e-15\n",
      "  32\t-6.967e-15\n",
      "  33\t-6.939e-15\n",
      "  34\t-6.885e-15\n",
      "  35\t-6.839e-15\n",
      "  37\t-2.091e-15\n",
      "  38\t-1.423e-16\n",
      "  39\t-2.286e-16\n",
      "  40\t-2.692e-16\n",
      "  41\t-1.518e-16\n",
      "  42\t-3.422e-15\n",
      "  43\t 1.927e-15\n",
      "  44\t 3.537e-15\n",
      "  45\t 3.679e-15\n",
      "  46\t-1.136e-15\n",
      "  47\t -1.06e-14\n",
      "  48\t 3.367e-15\n",
      "  49\t 3.859e-15\n",
      "  50\t-1.841e-15\n",
      "  51\t-5.674e-15\n",
      "  52\t 9.625e-16\n",
      "  53\t-6.697e-15\n",
      "  54\t-7.039e-15\n",
      "  55\t-3.611e-15\n",
      "  56\t -1.13e-15\n",
      "  57\t 7.633e-15\n",
      "  58\t-7.351e-15\n",
      "  59\t 5.358e-15\n",
      "  60\t 5.014e-15\n",
      "  61\t 1.113e-15\n",
      "  62\t-1.065e-14\n",
      "  63\t-1.613e-15\n",
      "  64\t  3.79e-15\n",
      "  65\t 2.882e-15\n",
      "  66\t-9.137e-16\n",
      "  67\t 3.844e-15\n",
      "  68\t 5.592e-15\n",
      "  69\t-3.791e-15\n",
      "  70\t 7.429e-15\n",
      "  71\t-3.936e-15\n",
      "  72\t-9.305e-15\n",
      "  73\t-6.422e-15\n",
      "  74\t-4.304e-16\n",
      "  75\t 1.036e-14\n",
      "  76\t 8.515e-15\n",
      "  77\t-9.642e-15\n",
      "  78\t-4.589e-15\n",
      "  79\t 4.799e-15\n",
      "  80\t-1.485e-15\n",
      "  81\t 4.426e-15\n",
      "  82\t 2.614e-16\n",
      "  83\t-5.516e-15\n",
      "  84\t 1.352e-16\n",
      "  85\t-1.451e-15\n",
      "  86\t 3.539e-15\n",
      "  87\t-6.136e-15\n",
      "  88\t  -6.1e-15\n",
      "  89\t 3.816e-15\n",
      "  90\t 3.288e-15\n",
      "  91\t 1.955e-16\n",
      "  92\t-2.158e-15\n",
      "  93\t-1.528e-15\n",
      "  94\t-1.258e-14\n",
      "  95\t-3.699e-15\n",
      "  96\t-3.568e-15\n",
      "  97\t 2.123e-15\n",
      "  98\t 1.302e-15\n",
      "  99\t-3.208e-15\n",
      " 100\t 8.949e-15\n",
      " 101\t 1.198e-16\n",
      " 102\t-6.863e-15\n",
      " 103\t 4.847e-15\n",
      " 104\t 6.226e-15\n",
      " 105\t 7.184e-15\n",
      " 106\t 9.812e-15\n",
      " 107\t 5.413e-15\n",
      " 108\t 2.387e-15\n",
      " 109\t 9.281e-15\n",
      " 110\t-7.338e-15\n",
      " 111\t 4.503e-16\n",
      " 112\t-2.189e-14\n",
      " 113\t  5.51e-15\n",
      " 114\t 9.695e-15\n",
      " 115\t   9.6e-15\n",
      " 116\t 3.895e-15\n",
      " 117\t 1.727e-15\n",
      " 118\t-2.657e-16\n",
      " 119\t-1.586e-15\n",
      " 120\t  1.57e-14\n",
      " 121\t-3.405e-15\n",
      " 122\t-1.643e-15\n",
      " 123\t-3.829e-15\n",
      " 124\t         0\n",
      " 125\t -1.53e-15\n",
      " 126\t 1.968e-15\n",
      " 127\t 1.517e-16\n",
      " 128\t 5.307e-15\n",
      " 129\t 5.416e-15\n",
      " 130\t 7.298e-15\n",
      " 131\t-3.706e-15\n",
      " 132\t  5.23e-15\n",
      " 133\t-7.276e-15\n",
      " 135\t 4.845e-15\n",
      " 136\t         0\n",
      " 137\t 1.535e-15\n",
      " 138\t 5.856e-15\n",
      " 139\t 1.591e-15\n",
      " 140\t         0\n",
      " 141\t-6.869e-15\n",
      " 143\t 3.879e-15\n",
      " 144\t-2.951e-15\n",
      " 145\t-1.952e-15\n",
      " 146\t-8.842e-15\n",
      " 147\t-3.013e-16\n",
      " 148\t 1.595e-15\n",
      " 149\t 5.174e-15\n",
      " 150\t-2.996e-16\n",
      " 151\t-1.669e-16\n",
      " 152\t 4.005e-15\n",
      " 153\t-1.096e-14\n",
      " 154\t -5.52e-15\n",
      " 155\t-5.386e-15\n",
      " 156\t-1.484e-14\n",
      " 157\t 6.403e-15\n",
      " 158\t-4.803e-15\n",
      " 159\t-7.047e-15\n",
      " 160\t 1.318e-14\n",
      " 161\t-3.809e-15\n",
      " 162\t-1.769e-15\n",
      " 163\t-9.085e-16\n",
      " 164\t-2.986e-14\n",
      " 165\t-7.023e-16\n",
      " 166\t-8.206e-16\n",
      " 167\t 4.733e-15\n",
      " 168\t -3.71e-15\n",
      " 169\t-5.243e-15\n",
      " 170\t-3.422e-15\n",
      " 171\t-1.385e-15\n",
      " 172\t -6.88e-15\n",
      " 173\t-4.632e-15\n",
      " 174\t-7.198e-15\n",
      " 175\t-7.078e-15\n",
      " 176\t-1.429e-14\n",
      " 177\t 3.589e-16\n",
      " 178\t-5.036e-15\n",
      " 179\t 2.555e-16\n",
      " 180\t-7.416e-15\n",
      " 181\t-2.146e-15\n",
      " 182\t 3.564e-15\n",
      " 183\t-5.369e-15\n",
      " 184\t 2.549e-15\n",
      " 185\t 1.909e-15\n",
      " 186\t-2.468e-15\n",
      " 187\t 1.021e-14\n",
      " 188\t 1.482e-15\n",
      " 189\t-1.347e-16\n",
      " 190\t  1.87e-15\n",
      " 191\t  1.86e-15\n",
      " 192\t 9.124e-16\n",
      " 193\t 6.511e-15\n",
      " 194\t-1.671e-15\n",
      " 195\t -3.22e-15\n",
      " 196\t 7.456e-15\n",
      " 197\t 1.435e-16\n",
      " 198\t -4.98e-15\n",
      " 199\t-7.621e-15\n",
      " 200\t-5.211e-15\n",
      " 201\t-3.229e-15\n",
      " 202\t-5.206e-15\n",
      " 203\t-6.261e-15\n",
      " 204\t-6.094e-15\n",
      " 205\t-6.987e-15\n",
      " 206\t-3.343e-15\n",
      " 207\t-1.085e-15\n",
      " 208\t-3.825e-15\n",
      " 209\t-1.049e-14\n",
      " 210\t -1.08e-14\n",
      " 211\t 3.604e-16\n",
      " 212\t-9.167e-15\n",
      " 213\t 1.483e-15\n",
      " 214\t-3.551e-15\n",
      " 215\t-6.802e-15\n",
      " 216\t 3.523e-15\n",
      " 217\t 7.642e-15\n",
      " 218\t-5.338e-15\n",
      " 219\t  5.14e-15\n",
      " 220\t-3.905e-15\n",
      " 221\t-1.719e-16\n",
      " 222\t-5.307e-15\n",
      " 223\t 2.651e-15\n",
      " 224\t-1.052e-14\n",
      " 225\t-1.425e-14\n",
      " 226\t-4.685e-15\n",
      " 227\t-1.048e-14\n",
      " 228\t-6.907e-15\n",
      " 229\t 3.384e-15\n",
      " 230\t 1.365e-14\n",
      " 231\t  8.44e-15\n",
      " 232\t 6.127e-15\n",
      " 233\t 8.039e-15\n",
      " 234\t 7.855e-15\n",
      " 235\t 1.858e-14\n",
      " 236\t  1.09e-14\n",
      " 237\t-1.071e-14\n",
      " 238\t-1.957e-15\n",
      " 239\t-1.173e-15\n",
      " 240\t 2.492e-15\n",
      " 241\t-9.201e-16\n",
      " 242\t-7.485e-15\n",
      " 243\t-3.994e-15\n",
      " 244\t         0\n",
      " 245\t-6.835e-15\n",
      " 246\t 5.709e-15\n",
      " 247\t 6.152e-15\n",
      " 248\t         0\n",
      " 249\t-8.855e-15\n",
      " 250\t 3.726e-15\n",
      " 251\t-7.075e-15\n",
      " 252\t-1.398e-14\n",
      " 253\t-2.837e-15\n",
      " 254\t-1.058e-14\n",
      " 255\t -1.37e-15\n",
      " 256\t  3.58e-15\n",
      " 257\t-3.446e-15\n",
      " 258\t 1.451e-14\n",
      " 259\t 7.253e-15\n",
      " 260\t-3.424e-15\n",
      " 261\t 1.645e-15\n",
      " 262\t 1.817e-15\n",
      " 263\t 5.846e-15\n",
      " 264\t 1.067e-14\n",
      " 265\t 1.043e-14\n",
      " 266\t 1.112e-14\n",
      " 267\t 5.263e-15\n",
      " 268\t 1.583e-15\n",
      " 269\t-3.765e-15\n",
      " 270\t-1.244e-14\n",
      " 271\t 7.092e-15\n",
      " 272\t         0\n",
      " 273\t         0\n",
      " 274\t 2.738e-15\n",
      " 275\t-7.158e-15\n",
      " 276\t 7.836e-15\n",
      " 277\t 8.997e-15\n",
      " 278\t  3.62e-15\n",
      " 279\t  7.06e-16\n",
      " 280\t 1.391e-14\n",
      " 281\t-3.469e-15\n",
      " 282\t 3.545e-15\n",
      " 284\t-2.556e-15\n",
      " 285\t-3.541e-15\n",
      " 286\t 3.712e-15\n",
      " 288\t 3.765e-16\n",
      " 290\t-3.257e-15\n",
      " 293\t-7.256e-15\n",
      " 294\t-1.795e-14\n",
      " 295\t  4.99e-15\n",
      " 298\t  2.49e-15\n",
      " 303\t-4.338e-15\n",
      " 307\t 3.798e-15\n",
      " 308\t 7.121e-15\n",
      " 309\t-1.051e-14\n",
      " 310\t-6.982e-16\n",
      " 311\t-1.901e-16\n",
      " 312\t 6.937e-15\n",
      " 313\t 1.742e-14\n",
      " 314\t 1.247e-14\n",
      " 315\t-1.907e-14\n",
      " 316\t 1.682e-14\n",
      " 317\t 2.743e-15\n",
      " 318\t -1.38e-14\n",
      " 319\t-8.737e-15\n",
      " 320\t-9.524e-15\n",
      " 321\t-2.063e-14\n",
      " 322\t 4.465e-15\n",
      " 324\t -2.12e-14\n"
     ]
    },
    {
     "name": "stderr",
     "output_type": "stream",
     "text": [
      "/var/folders/ng/d9rd9fb92c7bxz9fy7vwpj7m0000gp/T/ipykernel_96509/1859125551.py:4: DeprecationWarning: 'is_reversible' is deprecated and will be removed after Cantera 2.6.\n",
      "Replaceable by property 'reversible' of the corresponding reaction object.\n",
      "  if g.is_reversible(i) and rf[i] != 0.0:\n"
     ]
    }
   ],
   "source": [
    "rf = g.forward_rates_of_progress\n",
    "rr = g.reverse_rates_of_progress\n",
    "for i in range(g.n_reactions):\n",
    "    if g.is_reversible(i) and rf[i] != 0.0:\n",
    "        print(f\"{i:4d}\\t{(rf[i] - rr[i])/rf[i]:10.4g}\")"
   ]
  },
  {
   "cell_type": "markdown",
   "metadata": {},
   "source": [
    "If the magnitudes of the numbers in this list are all very small (which in this case they are), then each reversible reaction is very nearly equilibrated, which only occurs if the gas is in chemical equilibrium.\n",
    "\n",
    "You might be wondering how `equilibrate` works. (Then again, you might not.) Method `equilibrate` invokes Cantera's chemical equilibrium solver, which uses an element potential method. The element potential method is one of a class of equivalent *nonstoichiometric* methods that all have the characteristic that the probelm reduces to solving a set of $M$ nonlinear algebraic equations, where $M$ is the number of elements (not species). The so-called *stoichiometric* methods, on the other hand (including the Gibbs minimization), require solving $K$ nonlinear equations, where $K$ is the number of species (usually $K >> M$). See Smith and Missen's \"Chemical Reaction Equilibrium Analysis\" for more information on the various algorithms and their characteristics.\n",
    "\n",
    "Cantera uses a damped Newton method to solve these equations, and does a few other things to generate a good starting guess and to produce a reasonably robust algorithm. If you want to know more about the details, look at the on-line documentated source code of Cantera C++ class [`ChemEquil.h`](https://cantera.org/documentation/docs-2.4/doxygen/html/d4/dd4/ChemEquil_8h.html)."
   ]
  }
 ],
 "metadata": {
  "kernelspec": {
   "display_name": "Python 3 (ipykernel)",
   "language": "python",
   "name": "python3"
  },
  "language_info": {
   "codemirror_mode": {
    "name": "ipython",
    "version": 3
   },
   "file_extension": ".py",
   "mimetype": "text/x-python",
   "name": "python",
   "nbconvert_exporter": "python",
   "pygments_lexer": "ipython3",
   "version": "3.10.5"
  }
 },
 "nbformat": 4,
 "nbformat_minor": 4
}
