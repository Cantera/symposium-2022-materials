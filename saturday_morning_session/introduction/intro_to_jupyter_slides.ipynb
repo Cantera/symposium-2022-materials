{
 "cells": [
  {
   "cell_type": "markdown",
   "metadata": {},
   "source": [
    "# Overview of Jupyter Notebooks and Python"
   ]
  },
  {
   "cell_type": "markdown",
   "metadata": {},
   "source": [
    "## Jupyter Notebooks"
   ]
  },
  {
   "cell_type": "markdown",
   "metadata": {},
   "source": [
    "The Jupyter Notebook is an interactive browser-based programming environment that allows users to mix prose explanations, equations, and code in the same document.\n",
    "\n",
    "The basic element of a Notebook is a \"Cell\". Each cell has a type:\n",
    "\n",
    "* Markdown: Used for text and equations\n",
    "* Code: Used for executable code\n",
    "* Raw: Used for input that should not be processed by the Notebook (typically something that will be passed to an output processor, e.g., LaTeX).\n",
    "\n",
    "where the first two are most commonly used. This cell is a Markdown cell."
   ]
  },
  {
   "cell_type": "code",
   "execution_count": null,
   "metadata": {},
   "outputs": [],
   "source": [
    "# This cell is a code cell"
   ]
  },
  {
   "cell_type": "markdown",
   "metadata": {},
   "source": [
    "Each cell also has two modes:\n",
    "\n",
    "* Command mode: Blue border, keyboard commands trigger environment shortcuts\n",
    "* Edit mode: Green border, keyboard commands enter text into the cell\n",
    "\n",
    "Cells can be switched from Edit to Command by pressing `Esc` and from Command to Edit by clicking or double-clicking or by pressing `Enter/Return`."
   ]
  },
  {
   "cell_type": "markdown",
   "metadata": {},
   "source": [
    "Finally, each cell has three states:\n",
    "\n",
    "* Unexecuted\n",
    "* In-Progress\n",
    "* Executed/Rendered\n",
    "\n",
    "Cells can be moved from the first Unexecuted state into the In-Progress state by three keyboard shortcuts:\n",
    "\n",
    "* `Shift+Enter`: Execute the cell and select the next cell, appending a cell if at the bottom of the Notebook\n",
    "* `Control+Enter`: Execute the cell and leave it selected\n",
    "* `Alt/Option + Enter`: Execute the cell and insert a cell immediately below\n",
    "\n",
    "There are also several UI functions that serve the same purposes:\n",
    "\n",
    "* The \"Run\" button in the top toolbar\n",
    "* The various \"Run\" options in the \"Cell\" menu\n",
    "* The \"Restart & Run\" option in the Kernel menu\n",
    "\n",
    "When Markdown cells are executed, they are rendered from monospace text to formatted text. When code cells are executed, the code in the cell is sent to the kernel associated with the Notebook, which executes the contents and returns any results (output, etc.)"
   ]
  },
  {
   "cell_type": "markdown",
   "metadata": {},
   "source": [
    "### What is a kernel?\n",
    "\n",
    "Jupyter Notebooks are a language-agnostic format. Code cells are executed by a process running on the server called the kernel. There are kernels developed for many languages with varying levels of support. Python, as the original kernel, enjoys the best support but other options include:\n",
    "\n",
    "* Matlab/Octave\n",
    "* R\n",
    "* C++\n",
    "* Julia\n",
    "\n",
    "and [more](https://github.com/jupyter/jupyter/wiki/Jupyter-kernels). Kernels store the state of the computation, so any variables defined in a cell can be used in any other cell.\n",
    "\n",
    "This leads to one of the most confusing parts of Jupyter Notebooks - they are non-linear. Since the execution of any cell modifies the state of the kernel, it can be confusing to keep track of the state of a variable as you move around in the Notebook. For instance, executing a cell at the bottom of a Notebook that changes the value of a variable `a`, then moving to the top of the Notebook and running a cell that relies on `a` will work fine, but can lead to difficult to diagnose behavior. When in doubt, Restarting the kernel erases all of the stored state and let's you start from a fresh slate."
   ]
  },
  {
   "cell_type": "markdown",
   "metadata": {},
   "source": [
    "## Python"
   ]
  },
  {
   "cell_type": "markdown",
   "metadata": {},
   "source": [
    "Python is a general-purpose scripting language that has become very popular in the last 5-10 years. There are a few reasons for this, but in my opinion the main ones are\n",
    "\n",
    "* The syntax is relatively easy to read\n",
    "  * No braces\n",
    "  * No semicolons\n",
    "  * Meaningful whitespace enforces consistency\n",
    "* Interpreted language, so a short feedback loop for programming\n",
    "* An easy-to-extend C-API that lets users write high-performance code with easy-to-use interfaces\n",
    "\n",
    "The combination of these mean that it is relatively easy for new users to have access to powerful code quickly."
   ]
  },
  {
   "cell_type": "markdown",
   "metadata": {},
   "source": [
    "### Brief Overview of Syntax\n",
    "\n",
    "The mathematical operators in Python are similar to other programming languages:\n",
    "\n",
    "* `+`: Addition\n",
    "* `-`: Subtraction\n",
    "* `*`: Multiplication\n",
    "* `/`: Division\n",
    "* `**`: Power\n",
    "\n",
    "To print some output to the screen, use `print()`."
   ]
  },
  {
   "cell_type": "code",
   "execution_count": 1,
   "metadata": {},
   "outputs": [
    {
     "name": "stdout",
     "output_type": "stream",
     "text": [
      "4\n",
      "0\n",
      "4\n",
      "1.0\n",
      "4\n"
     ]
    }
   ],
   "source": [
    "print(2 + 2)\n",
    "print(2 - 2)\n",
    "print(2 * 2)\n",
    "print(2 / 2)\n",
    "print(2**2)"
   ]
  },
  {
   "cell_type": "markdown",
   "metadata": {},
   "source": [
    "Python has several very common types that you will encounter:\n",
    "\n",
    "* Integers: `var = 1`\n",
    "* Floats: `var = 1.0`\n",
    "* Strings: `var = \"string\"` (Python strings can use single or double quotes with the same meaning)\n",
    "\n",
    "Notice that variable assignment is done with the variable on the left and the value on the right of the `=` sign. Trying to use a variable before it is defined will result in a `NameError`:"
   ]
  },
  {
   "cell_type": "code",
   "execution_count": 2,
   "metadata": {},
   "outputs": [
    {
     "name": "stdout",
     "output_type": "stream",
     "text": [
      "a\n"
     ]
    },
    {
     "ename": "NameError",
     "evalue": "name 'not_a_var' is not defined",
     "output_type": "error",
     "traceback": [
      "\u001b[0;31m---------------------------------------------------------------------------\u001b[0m",
      "\u001b[0;31mNameError\u001b[0m                                 Traceback (most recent call last)",
      "\u001b[0;32m<ipython-input-2-d1e63ac9cacc>\u001b[0m in \u001b[0;36m<module>\u001b[0;34m\u001b[0m\n\u001b[1;32m      2\u001b[0m \u001b[0mprint\u001b[0m\u001b[0;34m(\u001b[0m\u001b[0mvar\u001b[0m\u001b[0;34m)\u001b[0m\u001b[0;34m\u001b[0m\u001b[0;34m\u001b[0m\u001b[0m\n\u001b[1;32m      3\u001b[0m \u001b[0;34m\u001b[0m\u001b[0m\n\u001b[0;32m----> 4\u001b[0;31m \u001b[0mprint\u001b[0m\u001b[0;34m(\u001b[0m\u001b[0mnot_a_var\u001b[0m\u001b[0;34m)\u001b[0m\u001b[0;34m\u001b[0m\u001b[0;34m\u001b[0m\u001b[0m\n\u001b[0m",
      "\u001b[0;31mNameError\u001b[0m: name 'not_a_var' is not defined"
     ]
    }
   ],
   "source": [
    "var = \"a\"\n",
    "print(var)\n",
    "\n",
    "print(not_a_var)"
   ]
  },
  {
   "cell_type": "markdown",
   "metadata": {},
   "source": [
    "Python also has a number of data structures that are very useful:\n",
    "\n",
    "* Dictionary: `var = {\"key\": \"value\"}`\n",
    "  * Dictionaries are mappings of keys to values. Keys can be any hashable type (strings, floats, integers, and more), while values can be any type at all\n",
    "* List: `var = [\"elem1\", 2.0, 3]`\n",
    "  * Lists are a sequence of values. The values can be of any type and do not have to all be the same type. Lists are **mutable**; we can add and remove items from lists.\n",
    "* Tuple: `var = (\"elem1\", 2.0, 3)`\n",
    "  * Tuples are also a sequence of values, and like lists, the values can be of any type and do not all have to be the same type. The difference from lists is that tuples are **immutable** - to add or remove elements, we have to create a new tuple\n",
    "* Arrays\n",
    "  * Python does not natively have an \"array\" type. One can use nested lists of lists, but these tend to be inefficient. Fortunately, there is a third-party library called NumPy that provides a high-performance array library based on a C-extension for Python. We'll see more about NumPy a bit later on.\n",
    "  \n",
    "In Python, sequences (lists, tuples, and strings) and arrays are indexed with square brackets, and the indexing starts with 0. This is notably different from Matlab, so be careful! You can get a range of elements from a sequence with a _slice_ using the colon.\n",
    "\n",
    "You can get the length of a sequence with `len()`."
   ]
  },
  {
   "cell_type": "code",
   "execution_count": 3,
   "metadata": {},
   "outputs": [
    {
     "name": "stdout",
     "output_type": "stream",
     "text": [
      "a\n",
      "3.0\n",
      "========\n",
      "['b']\n",
      "['a', 'b', 'c']\n",
      "['c', 3.0]\n",
      "========\n",
      "4\n"
     ]
    }
   ],
   "source": [
    "var = [\"a\", \"b\", \"c\", 3.0]\n",
    "print(var[0])\n",
    "print(var[-1])\n",
    "print(8*\"=\")\n",
    "\n",
    "print(var[1:2])\n",
    "print(var[:3])\n",
    "print(var[2:])\n",
    "print(8*\"=\")\n",
    "\n",
    "print(len(var))"
   ]
  },
  {
   "cell_type": "markdown",
   "metadata": {},
   "source": [
    "In Python, whitespace is meaningful. This means that code structures such as loops and conditionals use the leading whitespace on a line to delimit the beginning and end of the block. Each level of indentation is always 4 spaces (never tabs!). For instance:"
   ]
  },
  {
   "cell_type": "code",
   "execution_count": 4,
   "metadata": {},
   "outputs": [
    {
     "name": "stdout",
     "output_type": "stream",
     "text": [
      "Found a!\n",
      "0\n",
      "1\n",
      "2\n",
      "The End\n"
     ]
    }
   ],
   "source": [
    "var = \"a\"\n",
    "if var == \"a\":\n",
    "    print(\"Found a!\")\n",
    "\n",
    "for i in range(3):\n",
    "    print(i)\n",
    "print(\"The End\")"
   ]
  },
  {
   "cell_type": "markdown",
   "metadata": {},
   "source": [
    "In Python, the `#` symbol is used to create a comment in the code. (In a Jupyter Notebook, the `#` in a Markdown cell creates a header HTML element.)"
   ]
  },
  {
   "cell_type": "code",
   "execution_count": null,
   "metadata": {},
   "outputs": [],
   "source": [
    "# This is a comment in a code cell"
   ]
  },
  {
   "cell_type": "markdown",
   "metadata": {},
   "source": [
    "# This is a header in a Markdown Cell"
   ]
  },
  {
   "cell_type": "markdown",
   "metadata": {},
   "source": [
    "---\n",
    "\n",
    "The last stop on our tour of Python is importing. Python includes a fairly large standard library and people have also developed a huge number of libraries tha can be downloaded from the Python Package Index (PyPI, also called the cheese shop). To be able to use this code in a particular file or interpreter session, the library must be `import`ed. The `import` statement finds the requested library and allows you to access the functions in that library. Python also allows you to define aliases for a library so you don't have to type a long name over and over again."
   ]
  },
  {
   "cell_type": "code",
   "execution_count": 5,
   "metadata": {},
   "outputs": [
    {
     "name": "stdout",
     "output_type": "stream",
     "text": [
      "The Zen of Python, by Tim Peters\n",
      "\n",
      "Beautiful is better than ugly.\n",
      "Explicit is better than implicit.\n",
      "Simple is better than complex.\n",
      "Complex is better than complicated.\n",
      "Flat is better than nested.\n",
      "Sparse is better than dense.\n",
      "Readability counts.\n",
      "Special cases aren't special enough to break the rules.\n",
      "Although practicality beats purity.\n",
      "Errors should never pass silently.\n",
      "Unless explicitly silenced.\n",
      "In the face of ambiguity, refuse the temptation to guess.\n",
      "There should be one-- and preferably only one --obvious way to do it.\n",
      "Although that way may not be obvious at first unless you're Dutch.\n",
      "Now is better than never.\n",
      "Although never is often better than *right* now.\n",
      "If the implementation is hard to explain, it's a bad idea.\n",
      "If the implementation is easy to explain, it may be a good idea.\n",
      "Namespaces are one honking great idea -- let's do more of those!\n"
     ]
    }
   ],
   "source": [
    "import this"
   ]
  },
  {
   "cell_type": "code",
   "execution_count": 6,
   "metadata": {},
   "outputs": [],
   "source": [
    "import antigravity"
   ]
  },
  {
   "cell_type": "code",
   "execution_count": 7,
   "metadata": {},
   "outputs": [
    {
     "name": "stdout",
     "output_type": "stream",
     "text": [
      "3.7.1 | packaged by conda-forge | (default, Mar 13 2019, 05:40:40) \n",
      "[Clang 4.0.1 (tags/RELEASE_401/final)]\n",
      "========\n",
      "The version of Cantera is 2.4.0\n"
     ]
    }
   ],
   "source": [
    "import sys\n",
    "print(sys.version)\n",
    "print(8*\"=\")\n",
    "\n",
    "import cantera as ct\n",
    "print(f\"The version of Cantera is {ct.__version__}\")"
   ]
  },
  {
   "cell_type": "markdown",
   "metadata": {},
   "source": [
    "Note that we use the `.` (dot) notation for access in the imported modules' variables and functions. This is common in Python; essentially, the dot in `a.b` means **from within the object `a`, get (or set) the value of the attribute `b`**."
   ]
  },
  {
   "cell_type": "markdown",
   "metadata": {},
   "source": [
    "### Python 2 or 3?\n",
    "\n",
    "Python 3. No question. Official Python 2 support will end in on Jan. 1, 2020. Most scientific Python projects are dropping legacy Python support, including Cantera—2.4.0 is the last version of Cantera that will support legacy Python.\n",
    "\n",
    "Note that on Linux and macOS, the default system version of Python accessed with the bare `python` executable is almost certainly Python 2 (I think the only exception is Arch Linux). Python 3 is accessed with the `python3` executable."
   ]
  },
  {
   "cell_type": "markdown",
   "metadata": {},
   "source": [
    "# Do you want to know more?"
   ]
  },
  {
   "cell_type": "markdown",
   "metadata": {},
   "source": [
    "Check out the official Python Tutorial: https://docs.python.org/3/tutorial/ or search for Python tutorials, there are a bunch out there!"
   ]
  }
 ],
 "metadata": {
  "kernelspec": {
   "display_name": "Python 3",
   "language": "python",
   "name": "python3"
  },
  "language_info": {
   "codemirror_mode": {
    "name": "ipython",
    "version": 3
   },
   "file_extension": ".py",
   "mimetype": "text/x-python",
   "name": "python",
   "nbconvert_exporter": "python",
   "pygments_lexer": "ipython3",
   "version": "3.7.1"
  }
 },
 "nbformat": 4,
 "nbformat_minor": 2
}
