{
 "cells": [
  {
   "cell_type": "markdown",
   "metadata": {},
   "source": [
    "## Converting from Chemkin"
   ]
  },
  {
   "cell_type": "markdown",
   "metadata": {},
   "source": [
    "Cantera comes with a script to convert CHEMKIN input files to the YAML format. This script is called `ck2yaml`. There are three ways to call `ck2yaml`:\n",
    "\n",
    "1. Directly from the command line or terminal prompt\n",
    "\n",
    "   ```\n",
    "   ck2yaml --help\n",
    "   ```\n",
    "\n",
    "   This assumes that `ck2yaml` is installed somewhere on your `PATH`.\n",
    "\n",
    "2. If you have multiple versions of Cantera installed, or `ck2yaml` is not on your `PATH`, you can also have Python find the `ck2yaml` module and run that:\n",
    "\n",
    "   ```\n",
    "   python -m cantera.ck2yaml --help\n",
    "   ```\n",
    "\n",
    "3. If you are already running a Python interpreter (`python`, IPython, Jupyter Notebook, etc.) you can directly call the `convert_mech` function from the `ck2yaml` module\n",
    "\n",
    "   ```python\n",
    "   from cantera.ck2yaml import convert_mech\n",
    "   convert_mech?\n",
    "   ```"
   ]
  },
  {
   "cell_type": "code",
   "execution_count": null,
   "metadata": {},
   "outputs": [],
   "source": [
    "from cantera.ck2yaml import convert_mech\n",
    "convert_mech?"
   ]
  },
  {
   "cell_type": "markdown",
   "metadata": {},
   "source": [
    "There is one mandatory argument to `convert_mech` (and the command line equivalents):\n",
    "\n",
    "- `input_file`: The CHEMKIN input file that contains at least an `ELEMENTS`, `SPECIES`, and `REACTIONS` section, and optionally contains a `THERMO` or `TRANSPORT` section\n",
    "\n",
    "There are seven other optional arguments to `convert_mech` (and the command line equivalents):\n",
    "\n",
    "- `thermo_file`: A CHEMKIN-formatted file with thermodynamics data for the species present in the `input_file`. Must be passed if the thermodynamics data is not present in the `input_file`\n",
    "- `transport_file`: A CHEMKIN-formatted file with transport data for the species present in the `input_file`\n",
    "- `surface_file`: A Surface CHEMKIN-formatted input file with surface reactions\n",
    "- `phase_name`: The name of the phase that should be created in the resulting CTI file\n",
    "- `out_name`: The filename of the CTI output file\n",
    "- `quiet`: Reduce the output from the conversion\n",
    "- `permissive`: Convert some ambiguous input conditions from errors to warnings\n",
    "\n",
    "One of the most common problems that users encounter is converting CHEMKIN format input files to Cantera YAML format. Unfortunately, the CHEMKIN interpreter for these files is not very strict about complying with its own standard, so files that appear to work just fine in CHEMKIN require some massaging to work with Cantera. Let's look at one example using the `convert_mech` function."
   ]
  },
  {
   "cell_type": "code",
   "execution_count": 13,
   "metadata": {},
   "outputs": [
    {
     "name": "stdout",
     "output_type": "stream",
     "text": [
      "\n",
      "ERROR: Unable to parse 'input-files/mech_debug/mech.txt' near line 73:\n",
      "Unrecognized token on REACTIONS line, 'BASE'\n",
      "Please check https://cantera.org/tutorials/ck2yaml-tutorial.html#debugging-common-errors-in-ck-files\n",
      "for the correct Chemkin syntax.\n",
      "\n"
     ]
    },
    {
     "ename": "InputError",
     "evalue": "Unrecognized token on REACTIONS line, 'BASE'\nPlease check https://cantera.org/tutorials/ck2yaml-tutorial.html#debugging-common-errors-in-ck-files\nfor the correct Chemkin syntax.",
     "output_type": "error",
     "traceback": [
      "\u001b[0;31m---------------------------------------------------------------------------\u001b[0m",
      "\u001b[0;31mInputError\u001b[0m                                Traceback (most recent call last)",
      "Input \u001b[0;32mIn [13]\u001b[0m, in \u001b[0;36m<cell line: 1>\u001b[0;34m()\u001b[0m\n\u001b[0;32m----> 1\u001b[0m \u001b[43mconvert_mech\u001b[49m\u001b[43m(\u001b[49m\n\u001b[1;32m      2\u001b[0m \u001b[43m    \u001b[49m\u001b[43minput_file\u001b[49m\u001b[38;5;241;43m=\u001b[39;49m\u001b[38;5;124;43m'\u001b[39;49m\u001b[38;5;124;43minput-files/mech_debug/mech.txt\u001b[39;49m\u001b[38;5;124;43m'\u001b[39;49m\u001b[43m,\u001b[49m\n\u001b[1;32m      3\u001b[0m \u001b[43m    \u001b[49m\u001b[43mthermo_file\u001b[49m\u001b[38;5;241;43m=\u001b[39;49m\u001b[38;5;124;43m'\u001b[39;49m\u001b[38;5;124;43minput-files/mech_debug/thermo.txt\u001b[39;49m\u001b[38;5;124;43m'\u001b[39;49m\u001b[43m,\u001b[49m\n\u001b[1;32m      4\u001b[0m \u001b[43m    \u001b[49m\u001b[43mtransport_file\u001b[49m\u001b[38;5;241;43m=\u001b[39;49m\u001b[38;5;124;43m'\u001b[39;49m\u001b[38;5;124;43minput-files/mech_debug/tran.txt\u001b[39;49m\u001b[38;5;124;43m'\u001b[39;49m\u001b[43m,\u001b[49m\n\u001b[1;32m      5\u001b[0m \u001b[43m    \u001b[49m\u001b[43mout_name\u001b[49m\u001b[38;5;241;43m=\u001b[39;49m\u001b[38;5;124;43m'\u001b[39;49m\u001b[38;5;124;43minput-files/mech_debug/mech.yaml\u001b[39;49m\u001b[38;5;124;43m'\u001b[39;49m\u001b[43m,\u001b[49m\n\u001b[1;32m      6\u001b[0m \u001b[43m)\u001b[49m\n",
      "File \u001b[0;32m/opt/homebrew/Caskroom/miniconda/base/envs/ct-env/lib/python3.10/site-packages/cantera/ck2yaml.py:2165\u001b[0m, in \u001b[0;36mconvert_mech\u001b[0;34m(input_file, thermo_file, transport_file, surface_file, phase_name, extra_file, out_name, single_intermediate_temperature, quiet, permissive)\u001b[0m\n\u001b[1;32m   2161\u001b[0m \u001b[38;5;28;01mdef\u001b[39;00m \u001b[38;5;21mconvert_mech\u001b[39m(input_file, thermo_file\u001b[38;5;241m=\u001b[39m\u001b[38;5;28;01mNone\u001b[39;00m, transport_file\u001b[38;5;241m=\u001b[39m\u001b[38;5;28;01mNone\u001b[39;00m,\n\u001b[1;32m   2162\u001b[0m                  surface_file\u001b[38;5;241m=\u001b[39m\u001b[38;5;28;01mNone\u001b[39;00m, phase_name\u001b[38;5;241m=\u001b[39m\u001b[38;5;124m'\u001b[39m\u001b[38;5;124mgas\u001b[39m\u001b[38;5;124m'\u001b[39m, extra_file\u001b[38;5;241m=\u001b[39m\u001b[38;5;28;01mNone\u001b[39;00m,\n\u001b[1;32m   2163\u001b[0m                  out_name\u001b[38;5;241m=\u001b[39m\u001b[38;5;28;01mNone\u001b[39;00m, single_intermediate_temperature\u001b[38;5;241m=\u001b[39m\u001b[38;5;28;01mFalse\u001b[39;00m, quiet\u001b[38;5;241m=\u001b[39m\u001b[38;5;28;01mFalse\u001b[39;00m,\n\u001b[1;32m   2164\u001b[0m                  permissive\u001b[38;5;241m=\u001b[39m\u001b[38;5;28;01mNone\u001b[39;00m):\n\u001b[0;32m-> 2165\u001b[0m     _, surface_names \u001b[38;5;241m=\u001b[39m \u001b[43mParser\u001b[49m\u001b[38;5;241;43m.\u001b[39;49m\u001b[43mconvert_mech\u001b[49m\u001b[43m(\u001b[49m\n\u001b[1;32m   2166\u001b[0m \u001b[43m        \u001b[49m\u001b[43minput_file\u001b[49m\u001b[43m,\u001b[49m\u001b[43m \u001b[49m\u001b[43mthermo_file\u001b[49m\u001b[43m,\u001b[49m\u001b[43m \u001b[49m\u001b[43mtransport_file\u001b[49m\u001b[43m,\u001b[49m\u001b[43m \u001b[49m\u001b[43msurface_file\u001b[49m\u001b[43m,\u001b[49m\u001b[43m \u001b[49m\u001b[43mphase_name\u001b[49m\u001b[43m,\u001b[49m\n\u001b[1;32m   2167\u001b[0m \u001b[43m        \u001b[49m\u001b[43mextra_file\u001b[49m\u001b[43m,\u001b[49m\u001b[43m \u001b[49m\u001b[43mout_name\u001b[49m\u001b[43m,\u001b[49m\u001b[43m \u001b[49m\u001b[43msingle_intermediate_temperature\u001b[49m\u001b[43m,\u001b[49m\u001b[43m \u001b[49m\u001b[43mquiet\u001b[49m\u001b[43m,\u001b[49m\u001b[43m \u001b[49m\u001b[43mpermissive\u001b[49m\u001b[43m)\u001b[49m\n\u001b[1;32m   2168\u001b[0m     \u001b[38;5;28;01mreturn\u001b[39;00m surface_names\n",
      "File \u001b[0;32m/opt/homebrew/Caskroom/miniconda/base/envs/ct-env/lib/python3.10/site-packages/cantera/ck2yaml.py:2062\u001b[0m, in \u001b[0;36mParser.convert_mech\u001b[0;34m(input_file, thermo_file, transport_file, surface_file, phase_name, extra_file, out_name, single_intermediate_temperature, quiet, permissive)\u001b[0m\n\u001b[1;32m   2059\u001b[0m     \u001b[38;5;28;01mraise\u001b[39;00m \u001b[38;5;167;01mIOError\u001b[39;00m(\u001b[38;5;124m'\u001b[39m\u001b[38;5;124mMissing input file: \u001b[39m\u001b[38;5;132;01m{0!r}\u001b[39;00m\u001b[38;5;124m'\u001b[39m\u001b[38;5;241m.\u001b[39mformat(input_file))\n\u001b[1;32m   2060\u001b[0m \u001b[38;5;28;01mtry\u001b[39;00m:\n\u001b[1;32m   2061\u001b[0m     \u001b[38;5;66;03m# Read input mechanism files\u001b[39;00m\n\u001b[0;32m-> 2062\u001b[0m     \u001b[43mparser\u001b[49m\u001b[38;5;241;43m.\u001b[39;49m\u001b[43mload_chemkin_file\u001b[49m\u001b[43m(\u001b[49m\u001b[43minput_file\u001b[49m\u001b[43m)\u001b[49m\n\u001b[1;32m   2063\u001b[0m \u001b[38;5;28;01mexcept\u001b[39;00m \u001b[38;5;167;01mException\u001b[39;00m \u001b[38;5;28;01mas\u001b[39;00m err:\n\u001b[1;32m   2064\u001b[0m     logger\u001b[38;5;241m.\u001b[39mwarning(\u001b[38;5;124m\"\u001b[39m\u001b[38;5;130;01m\\n\u001b[39;00m\u001b[38;5;124mERROR: Unable to parse \u001b[39m\u001b[38;5;124m'\u001b[39m\u001b[38;5;132;01m{0}\u001b[39;00m\u001b[38;5;124m'\u001b[39m\u001b[38;5;124m near line \u001b[39m\u001b[38;5;132;01m{1}\u001b[39;00m\u001b[38;5;124m:\u001b[39m\u001b[38;5;130;01m\\n\u001b[39;00m\u001b[38;5;132;01m{2}\u001b[39;00m\u001b[38;5;130;01m\\n\u001b[39;00m\u001b[38;5;124m\"\u001b[39m\u001b[38;5;241m.\u001b[39mformat(\n\u001b[1;32m   2065\u001b[0m                     input_file, parser\u001b[38;5;241m.\u001b[39mline_number, err))\n",
      "File \u001b[0;32m/opt/homebrew/Caskroom/miniconda/base/envs/ct-env/lib/python3.10/site-packages/cantera/ck2yaml.py:1744\u001b[0m, in \u001b[0;36mParser.load_chemkin_file\u001b[0;34m(self, path, skip_undeclared_species, surface)\u001b[0m\n\u001b[1;32m   1742\u001b[0m         \u001b[38;5;28mself\u001b[39m\u001b[38;5;241m.\u001b[39mmotz_wise \u001b[38;5;241m=\u001b[39m \u001b[38;5;28;01mFalse\u001b[39;00m\n\u001b[1;32m   1743\u001b[0m     \u001b[38;5;28;01melse\u001b[39;00m:\n\u001b[0;32m-> 1744\u001b[0m         \u001b[38;5;28;01mraise\u001b[39;00m InputError(\u001b[38;5;124m\"\u001b[39m\u001b[38;5;124mUnrecognized token on REACTIONS line, \u001b[39m\u001b[38;5;132;01m{0!r}\u001b[39;00m\u001b[38;5;124m\"\u001b[39m, token)\n\u001b[1;32m   1746\u001b[0m \u001b[38;5;28mself\u001b[39m\u001b[38;5;241m.\u001b[39mprocessed_units \u001b[38;5;241m=\u001b[39m \u001b[38;5;28;01mTrue\u001b[39;00m\n\u001b[1;32m   1748\u001b[0m kineticsList \u001b[38;5;241m=\u001b[39m []\n",
      "\u001b[0;31mInputError\u001b[0m: Unrecognized token on REACTIONS line, 'BASE'\nPlease check https://cantera.org/tutorials/ck2yaml-tutorial.html#debugging-common-errors-in-ck-files\nfor the correct Chemkin syntax."
     ]
    }
   ],
   "source": [
    "convert_mech(\n",
    "    input_file='input-files/mech_debug/mech.txt',\n",
    "    thermo_file='input-files/mech_debug/thermo.txt',\n",
    "    transport_file='input-files/mech_debug/tran.txt',\n",
    "    out_name='input-files/mech_debug/mech.yaml',\n",
    ");"
   ]
  },
  {
   "cell_type": "markdown",
   "metadata": {},
   "source": [
    "The key error message here is:\n",
    "\n",
    "```\n",
    "WARNING:root:\n",
    "ERROR: Unable to parse 'input-files/mech_debug/mech.txt' near line 73:\n",
    "...\n",
    "InputError: Unrecognized token on REACTIONS line, 'BASE'\n",
    "```\n",
    "\n",
    "Looking at the input file at line 73, we find the end of the `SPECIES` section and the start of the `REACTIONS` section:\n",
    "\n",
    "```text\n",
    "70  C6H5      ! phenyl        \n",
    "71  AR        N2\n",
    "72  END\n",
    "73  REACTIONS          BASE M=N2\n",
    "```\n",
    "\n",
    "The error is occuring because Cantera doesn't know how to interpret the `BASE M=N2` portion of that line. It appears to be a comment from the mechanism author about the default identity of the bath gas, so we can probably safely delete that portion of the line. Let's do that and save the file as `mech_fixed.txt` and try the conversion again:"
   ]
  },
  {
   "cell_type": "code",
   "execution_count": 14,
   "metadata": {},
   "outputs": [
    {
     "name": "stdout",
     "output_type": "stream",
     "text": [
      "Skipping unexpected species \"C3H4CY\" while reading thermodynamics entry.\n",
      "Skipping unexpected species \"C4H5\" while reading thermodynamics entry.\n",
      "Skipping unexpected species \"CH3NO3\" while reading thermodynamics entry.\n",
      "Skipping unexpected species \"CH2NO3\" while reading thermodynamics entry.\n",
      "Skipping unexpected species \"HCCOH\" while reading thermodynamics entry.\n",
      "Skipping unexpected species \"N2O5\" while reading thermodynamics entry.\n",
      "Error while reading thermo entry starting on line 523:\n",
      "\"\"\"\n",
      "TC4H7             A 8/83C   4H\t 7    0    0G   300.     3000.\t  1500.        1\n",
      " 0.4219753E 01  0.2882451E-01 -0.1399213E-04  0.3340718E-08 -0.3226427E-12     2\n",
      " 0.1266295E 05  0.3253111E 01 -0.2152314E+01  0.5547424E-01 -0.6226715E-04     3\n",
      " 0.4593056E-07 -0.1492297E-10  0.1407443E 05  0.3421103E 02  0.1543086E+05     4\n",
      "\"\"\"\n",
      "\n",
      "ERROR: Unable to parse 'input-files/mech_debug/thermo.txt' near line 526:\n",
      "\n"
     ]
    },
    {
     "ename": "InputError",
     "evalue": "Error parsing elemental composition for species thermo entry:\n 0.4219753E 01  0.2882451E-01 -0.1399213E-04  0.3340718E-08 -0.3226427E-12     2\n 0.1266295E 05  0.3253111E 01 -0.2152314E+01  0.5547424E-01 -0.6226715E-04     3\n 0.4593056E-07 -0.1492297E-10  0.1407443E 05  0.3421103E 02  0.1543086E+05     4\n\nElement amounts can have no more than 3 digits.\nPlease check https://cantera.org/tutorials/ck2yaml-tutorial.html#debugging-common-errors-in-ck-files\nfor the correct Chemkin syntax.",
     "output_type": "error",
     "traceback": [
      "\u001b[0;31m---------------------------------------------------------------------------\u001b[0m",
      "\u001b[0;31mInputError\u001b[0m                                Traceback (most recent call last)",
      "Input \u001b[0;32mIn [14]\u001b[0m, in \u001b[0;36m<cell line: 1>\u001b[0;34m()\u001b[0m\n\u001b[0;32m----> 1\u001b[0m \u001b[43mconvert_mech\u001b[49m\u001b[43m(\u001b[49m\n\u001b[1;32m      2\u001b[0m \u001b[43m    \u001b[49m\u001b[43minput_file\u001b[49m\u001b[38;5;241;43m=\u001b[39;49m\u001b[38;5;124;43m'\u001b[39;49m\u001b[38;5;124;43minput-files/mech_debug/mech_fixed.txt\u001b[39;49m\u001b[38;5;124;43m'\u001b[39;49m\u001b[43m,\u001b[49m\n\u001b[1;32m      3\u001b[0m \u001b[43m    \u001b[49m\u001b[43mthermo_file\u001b[49m\u001b[38;5;241;43m=\u001b[39;49m\u001b[38;5;124;43m'\u001b[39;49m\u001b[38;5;124;43minput-files/mech_debug/thermo.txt\u001b[39;49m\u001b[38;5;124;43m'\u001b[39;49m\u001b[43m,\u001b[49m\n\u001b[1;32m      4\u001b[0m \u001b[43m    \u001b[49m\u001b[43mtransport_file\u001b[49m\u001b[38;5;241;43m=\u001b[39;49m\u001b[38;5;124;43m'\u001b[39;49m\u001b[38;5;124;43minput-files/mech_debug/tran.txt\u001b[39;49m\u001b[38;5;124;43m'\u001b[39;49m\u001b[43m,\u001b[49m\n\u001b[1;32m      5\u001b[0m \u001b[43m    \u001b[49m\u001b[43mout_name\u001b[49m\u001b[38;5;241;43m=\u001b[39;49m\u001b[38;5;124;43m'\u001b[39;49m\u001b[38;5;124;43minput-files/mech_debug/mech.cti\u001b[39;49m\u001b[38;5;124;43m'\u001b[39;49m\u001b[43m,\u001b[49m\n\u001b[1;32m      6\u001b[0m \u001b[43m)\u001b[49m\n",
      "File \u001b[0;32m/opt/homebrew/Caskroom/miniconda/base/envs/ct-env/lib/python3.10/site-packages/cantera/ck2yaml.py:2165\u001b[0m, in \u001b[0;36mconvert_mech\u001b[0;34m(input_file, thermo_file, transport_file, surface_file, phase_name, extra_file, out_name, single_intermediate_temperature, quiet, permissive)\u001b[0m\n\u001b[1;32m   2161\u001b[0m \u001b[38;5;28;01mdef\u001b[39;00m \u001b[38;5;21mconvert_mech\u001b[39m(input_file, thermo_file\u001b[38;5;241m=\u001b[39m\u001b[38;5;28;01mNone\u001b[39;00m, transport_file\u001b[38;5;241m=\u001b[39m\u001b[38;5;28;01mNone\u001b[39;00m,\n\u001b[1;32m   2162\u001b[0m                  surface_file\u001b[38;5;241m=\u001b[39m\u001b[38;5;28;01mNone\u001b[39;00m, phase_name\u001b[38;5;241m=\u001b[39m\u001b[38;5;124m'\u001b[39m\u001b[38;5;124mgas\u001b[39m\u001b[38;5;124m'\u001b[39m, extra_file\u001b[38;5;241m=\u001b[39m\u001b[38;5;28;01mNone\u001b[39;00m,\n\u001b[1;32m   2163\u001b[0m                  out_name\u001b[38;5;241m=\u001b[39m\u001b[38;5;28;01mNone\u001b[39;00m, single_intermediate_temperature\u001b[38;5;241m=\u001b[39m\u001b[38;5;28;01mFalse\u001b[39;00m, quiet\u001b[38;5;241m=\u001b[39m\u001b[38;5;28;01mFalse\u001b[39;00m,\n\u001b[1;32m   2164\u001b[0m                  permissive\u001b[38;5;241m=\u001b[39m\u001b[38;5;28;01mNone\u001b[39;00m):\n\u001b[0;32m-> 2165\u001b[0m     _, surface_names \u001b[38;5;241m=\u001b[39m \u001b[43mParser\u001b[49m\u001b[38;5;241;43m.\u001b[39;49m\u001b[43mconvert_mech\u001b[49m\u001b[43m(\u001b[49m\n\u001b[1;32m   2166\u001b[0m \u001b[43m        \u001b[49m\u001b[43minput_file\u001b[49m\u001b[43m,\u001b[49m\u001b[43m \u001b[49m\u001b[43mthermo_file\u001b[49m\u001b[43m,\u001b[49m\u001b[43m \u001b[49m\u001b[43mtransport_file\u001b[49m\u001b[43m,\u001b[49m\u001b[43m \u001b[49m\u001b[43msurface_file\u001b[49m\u001b[43m,\u001b[49m\u001b[43m \u001b[49m\u001b[43mphase_name\u001b[49m\u001b[43m,\u001b[49m\n\u001b[1;32m   2167\u001b[0m \u001b[43m        \u001b[49m\u001b[43mextra_file\u001b[49m\u001b[43m,\u001b[49m\u001b[43m \u001b[49m\u001b[43mout_name\u001b[49m\u001b[43m,\u001b[49m\u001b[43m \u001b[49m\u001b[43msingle_intermediate_temperature\u001b[49m\u001b[43m,\u001b[49m\u001b[43m \u001b[49m\u001b[43mquiet\u001b[49m\u001b[43m,\u001b[49m\u001b[43m \u001b[49m\u001b[43mpermissive\u001b[49m\u001b[43m)\u001b[49m\n\u001b[1;32m   2168\u001b[0m     \u001b[38;5;28;01mreturn\u001b[39;00m surface_names\n",
      "File \u001b[0;32m/opt/homebrew/Caskroom/miniconda/base/envs/ct-env/lib/python3.10/site-packages/cantera/ck2yaml.py:2076\u001b[0m, in \u001b[0;36mParser.convert_mech\u001b[0;34m(input_file, thermo_file, transport_file, surface_file, phase_name, extra_file, out_name, single_intermediate_temperature, quiet, permissive)\u001b[0m\n\u001b[1;32m   2074\u001b[0m     \u001b[38;5;28;01mraise\u001b[39;00m \u001b[38;5;167;01mIOError\u001b[39;00m(\u001b[38;5;124m'\u001b[39m\u001b[38;5;124mMissing thermo file: \u001b[39m\u001b[38;5;132;01m{0!r}\u001b[39;00m\u001b[38;5;124m'\u001b[39m\u001b[38;5;241m.\u001b[39mformat(thermo_file))\n\u001b[1;32m   2075\u001b[0m \u001b[38;5;28;01mtry\u001b[39;00m:\n\u001b[0;32m-> 2076\u001b[0m     \u001b[43mparser\u001b[49m\u001b[38;5;241;43m.\u001b[39;49m\u001b[43mload_chemkin_file\u001b[49m\u001b[43m(\u001b[49m\u001b[43mthermo_file\u001b[49m\u001b[43m,\u001b[49m\n\u001b[1;32m   2077\u001b[0m \u001b[43m                           \u001b[49m\u001b[43mskip_undeclared_species\u001b[49m\u001b[38;5;241;43m=\u001b[39;49m\u001b[38;5;28;43mbool\u001b[39;49m\u001b[43m(\u001b[49m\u001b[43minput_file\u001b[49m\u001b[43m)\u001b[49m\u001b[43m)\u001b[49m\n\u001b[1;32m   2078\u001b[0m \u001b[38;5;28;01mexcept\u001b[39;00m \u001b[38;5;167;01mException\u001b[39;00m:\n\u001b[1;32m   2079\u001b[0m     logger\u001b[38;5;241m.\u001b[39mwarning(\u001b[38;5;124m\"\u001b[39m\u001b[38;5;130;01m\\n\u001b[39;00m\u001b[38;5;124mERROR: Unable to parse \u001b[39m\u001b[38;5;124m'\u001b[39m\u001b[38;5;132;01m{0}\u001b[39;00m\u001b[38;5;124m'\u001b[39m\u001b[38;5;124m near line \u001b[39m\u001b[38;5;132;01m{1}\u001b[39;00m\u001b[38;5;124m:\u001b[39m\u001b[38;5;130;01m\\n\u001b[39;00m\u001b[38;5;124m\"\u001b[39m\u001b[38;5;241m.\u001b[39mformat(\n\u001b[1;32m   2080\u001b[0m                    thermo_file, parser\u001b[38;5;241m.\u001b[39mline_number))\n",
      "File \u001b[0;32m/opt/homebrew/Caskroom/miniconda/base/envs/ct-env/lib/python3.10/site-packages/cantera/ck2yaml.py:1681\u001b[0m, in \u001b[0;36mParser.load_chemkin_file\u001b[0;34m(self, path, skip_undeclared_species, surface)\u001b[0m\n\u001b[1;32m   1679\u001b[0m \u001b[38;5;28;01mif\u001b[39;00m line[\u001b[38;5;241m79\u001b[39m] \u001b[38;5;241m==\u001b[39m \u001b[38;5;124m'\u001b[39m\u001b[38;5;124m4\u001b[39m\u001b[38;5;124m'\u001b[39m:\n\u001b[1;32m   1680\u001b[0m     \u001b[38;5;28;01mtry\u001b[39;00m:\n\u001b[0;32m-> 1681\u001b[0m         label, thermo, comp \u001b[38;5;241m=\u001b[39m \u001b[38;5;28;43mself\u001b[39;49m\u001b[38;5;241;43m.\u001b[39;49m\u001b[43mread_NASA7_entry\u001b[49m\u001b[43m(\u001b[49m\u001b[43mthermo\u001b[49m\u001b[43m,\u001b[49m\u001b[43m \u001b[49m\u001b[43mTintDefault\u001b[49m\u001b[43m,\u001b[49m\u001b[43m \u001b[49m\u001b[43mcomments\u001b[49m\u001b[43m)\u001b[49m\n\u001b[1;32m   1682\u001b[0m     \u001b[38;5;28;01mexcept\u001b[39;00m \u001b[38;5;167;01mException\u001b[39;00m \u001b[38;5;28;01mas\u001b[39;00m e:\n\u001b[1;32m   1683\u001b[0m         error_line_number \u001b[38;5;241m=\u001b[39m \u001b[38;5;28mself\u001b[39m\u001b[38;5;241m.\u001b[39mline_number \u001b[38;5;241m-\u001b[39m \u001b[38;5;28mlen\u001b[39m(current) \u001b[38;5;241m+\u001b[39m \u001b[38;5;241m1\u001b[39m\n",
      "File \u001b[0;32m/opt/homebrew/Caskroom/miniconda/base/envs/ct-env/lib/python3.10/site-packages/cantera/ck2yaml.py:905\u001b[0m, in \u001b[0;36mParser.read_NASA7_entry\u001b[0;34m(self, lines, TintDefault, comments)\u001b[0m\n\u001b[1;32m    899\u001b[0m \u001b[38;5;28;01mfor\u001b[39;00m symbol \u001b[38;5;129;01min\u001b[39;00m composition\u001b[38;5;241m.\u001b[39mkeys():\n\u001b[1;32m    900\u001b[0m     \u001b[38;5;66;03m# Some CHEMKIN input files may have quantities of elements with\u001b[39;00m\n\u001b[1;32m    901\u001b[0m     \u001b[38;5;66;03m# more than 3 digits. This violates the column-based input format\u001b[39;00m\n\u001b[1;32m    902\u001b[0m     \u001b[38;5;66;03m# standard, so the entry cannot be read and we need to raise a\u001b[39;00m\n\u001b[1;32m    903\u001b[0m     \u001b[38;5;66;03m# more useful error message.\u001b[39;00m\n\u001b[1;32m    904\u001b[0m     \u001b[38;5;28;01mif\u001b[39;00m \u001b[38;5;28many\u001b[39m(\u001b[38;5;28mmap\u001b[39m(\u001b[38;5;28mstr\u001b[39m\u001b[38;5;241m.\u001b[39misdigit, symbol)) \u001b[38;5;129;01mand\u001b[39;00m symbol \u001b[38;5;129;01mnot\u001b[39;00m \u001b[38;5;129;01min\u001b[39;00m \u001b[38;5;28mself\u001b[39m\u001b[38;5;241m.\u001b[39melements:\n\u001b[0;32m--> 905\u001b[0m         \u001b[38;5;28;01mraise\u001b[39;00m InputError(\u001b[38;5;124m\"\u001b[39m\u001b[38;5;124mError parsing elemental composition for \u001b[39m\u001b[38;5;124m\"\u001b[39m\n\u001b[1;32m    906\u001b[0m                          \u001b[38;5;124m\"\u001b[39m\u001b[38;5;124mspecies thermo entry:\u001b[39m\u001b[38;5;130;01m\\n\u001b[39;00m\u001b[38;5;132;01m{}\u001b[39;00m\u001b[38;5;130;01m\\n\u001b[39;00m\u001b[38;5;124mElement amounts \u001b[39m\u001b[38;5;124m\"\u001b[39m\n\u001b[1;32m    907\u001b[0m                          \u001b[38;5;124m\"\u001b[39m\u001b[38;5;124mcan have no more than 3 digits.\u001b[39m\u001b[38;5;124m\"\u001b[39m,\n\u001b[1;32m    908\u001b[0m                          \u001b[38;5;124m\"\u001b[39m\u001b[38;5;124m\"\u001b[39m\u001b[38;5;241m.\u001b[39mjoin(lines))\n\u001b[1;32m    910\u001b[0m \u001b[38;5;66;03m# Extract the NASA polynomial coefficients\u001b[39;00m\n\u001b[1;32m    911\u001b[0m \u001b[38;5;66;03m# Remember that the high-T polynomial comes first!\u001b[39;00m\n\u001b[1;32m    912\u001b[0m Tmin \u001b[38;5;241m=\u001b[39m fortFloat(lines[\u001b[38;5;241m0\u001b[39m][\u001b[38;5;241m45\u001b[39m:\u001b[38;5;241m55\u001b[39m])\n",
      "\u001b[0;31mInputError\u001b[0m: Error parsing elemental composition for species thermo entry:\n 0.4219753E 01  0.2882451E-01 -0.1399213E-04  0.3340718E-08 -0.3226427E-12     2\n 0.1266295E 05  0.3253111E 01 -0.2152314E+01  0.5547424E-01 -0.6226715E-04     3\n 0.4593056E-07 -0.1492297E-10  0.1407443E 05  0.3421103E 02  0.1543086E+05     4\n\nElement amounts can have no more than 3 digits.\nPlease check https://cantera.org/tutorials/ck2yaml-tutorial.html#debugging-common-errors-in-ck-files\nfor the correct Chemkin syntax."
     ]
    }
   ],
   "source": [
    "convert_mech(\n",
    "    input_file='input-files/mech_debug/mech_fixed.txt',\n",
    "    thermo_file='input-files/mech_debug/thermo.txt',\n",
    "    transport_file='input-files/mech_debug/tran.txt',\n",
    "    out_name='input-files/mech_debug/mech.cti',\n",
    ");"
   ]
  },
  {
   "cell_type": "markdown",
   "metadata": {},
   "source": [
    "There are a few things to parse out of this error message. First, there are a number of warnings about species whose thermodynamics properties are provided in the `thermo.txt` file but are not declared as valid species in the `SPECIES` secton of the `mech_fixed.txt` file:\n",
    "\n",
    "```\n",
    "INFO:root:Skipping unexpected species \"C3H4CY\" while reading thermodynamics entry.\n",
    "INFO:root:Skipping unexpected species \"C4H5\" while reading thermodynamics entry.\n",
    "INFO:root:Skipping unexpected species \"CH3NO3\" while reading thermodynamics entry.\n",
    "INFO:root:Skipping unexpected species \"CH2NO3\" while reading thermodynamics entry.\n",
    "INFO:root:Skipping unexpected species \"HCCOH\" while reading thermodynamics entry.\n",
    "INFO:root:Skipping unexpected species \"N2O5\" while reading thermodynamics entry.\n",
    "```\n",
    "\n",
    "We can safely ignore these warnings because the mechanism file won't use these species data anyways. The next line starts the actual error that caused the conversion to fail:\n",
    "\n",
    "```\n",
    "INFO:root:Error while reading thermo entry starting on line 526:\n",
    "\"\"\"\n",
    "TC4H7             A 8/83C   4H\t 7    0    0G   300.     3000.\t  1500.        1\n",
    " 0.4219753E 01  0.2882451E-01 -0.1399213E-04  0.3340718E-08 -0.3226427E-12     2\n",
    " 0.1266295E 05  0.3253111E 01 -0.2152314E+01  0.5547424E-01 -0.6226715E-04     3\n",
    " 0.4593056E-07 -0.1492297E-10  0.1407443E 05  0.3421103E 02  0.1543086E+05     4\n",
    "\"\"\"\n",
    "WARNING:root:\n",
    "ERROR: Unable to parse 'input-files/mech_debug/thermo.txt' near line 526:\n",
    "...\n",
    "ValueError: could not convert string to float: 'E-08 -0.32'\n",
    "```\n",
    "\n",
    "This one is really tricky to figure out. The error here is because of some bad input on the first line of the thermo section (the `ValueError` is a bit of a red herring). The CHEMKIN/NASA fixed-format specification says that there should be spaces between each of the entries on the first line, but this input file includes a tab character on that line rather than spaces. We can see this by inspecting the file in an editor that shows whitespace characters.\n",
    "\n",
    "Once that line is fixed, we can try the conversion again:"
   ]
  },
  {
   "cell_type": "code",
   "execution_count": 15,
   "metadata": {},
   "outputs": [
    {
     "name": "stdout",
     "output_type": "stream",
     "text": [
      "Skipping unexpected species \"C3H4CY\" while reading thermodynamics entry.\n",
      "Skipping unexpected species \"C4H5\" while reading thermodynamics entry.\n",
      "Skipping unexpected species \"CH3NO3\" while reading thermodynamics entry.\n",
      "Skipping unexpected species \"CH2NO3\" while reading thermodynamics entry.\n",
      "Skipping unexpected species \"HCCOH\" while reading thermodynamics entry.\n",
      "Skipping unexpected species \"N2O5\" while reading thermodynamics entry.\n",
      "Skipping unexpected species \"TC4H7\" while reading thermodynamics entry.\n"
     ]
    },
    {
     "ename": "InputError",
     "evalue": "Ignoring duplicate transport data for species \"NCN\" on line 152 of \"input-files/mech_debug/tran.txt\".\nPlease check https://cantera.org/tutorials/ck2yaml-tutorial.html#debugging-common-errors-in-ck-files\nfor the correct Chemkin syntax.",
     "output_type": "error",
     "traceback": [
      "\u001b[0;31m---------------------------------------------------------------------------\u001b[0m",
      "\u001b[0;31mInputError\u001b[0m                                Traceback (most recent call last)",
      "Input \u001b[0;32mIn [15]\u001b[0m, in \u001b[0;36m<cell line: 1>\u001b[0;34m()\u001b[0m\n\u001b[0;32m----> 1\u001b[0m \u001b[43mconvert_mech\u001b[49m\u001b[43m(\u001b[49m\n\u001b[1;32m      2\u001b[0m \u001b[43m    \u001b[49m\u001b[43minput_file\u001b[49m\u001b[38;5;241;43m=\u001b[39;49m\u001b[38;5;124;43m'\u001b[39;49m\u001b[38;5;124;43minput-files/mech_debug/mech_fixed.txt\u001b[39;49m\u001b[38;5;124;43m'\u001b[39;49m\u001b[43m,\u001b[49m\n\u001b[1;32m      3\u001b[0m \u001b[43m    \u001b[49m\u001b[43mthermo_file\u001b[49m\u001b[38;5;241;43m=\u001b[39;49m\u001b[38;5;124;43m'\u001b[39;49m\u001b[38;5;124;43minput-files/mech_debug/thermo_fixed.txt\u001b[39;49m\u001b[38;5;124;43m'\u001b[39;49m\u001b[43m,\u001b[49m\n\u001b[1;32m      4\u001b[0m \u001b[43m    \u001b[49m\u001b[43mtransport_file\u001b[49m\u001b[38;5;241;43m=\u001b[39;49m\u001b[38;5;124;43m'\u001b[39;49m\u001b[38;5;124;43minput-files/mech_debug/tran.txt\u001b[39;49m\u001b[38;5;124;43m'\u001b[39;49m\u001b[43m,\u001b[49m\n\u001b[1;32m      5\u001b[0m \u001b[43m    \u001b[49m\u001b[43mout_name\u001b[49m\u001b[38;5;241;43m=\u001b[39;49m\u001b[38;5;124;43m'\u001b[39;49m\u001b[38;5;124;43minput-files/mech_debug/mech.yaml\u001b[39;49m\u001b[38;5;124;43m'\u001b[39;49m\u001b[43m,\u001b[49m\n\u001b[1;32m      6\u001b[0m \u001b[43m)\u001b[49m\n",
      "File \u001b[0;32m/opt/homebrew/Caskroom/miniconda/base/envs/ct-env/lib/python3.10/site-packages/cantera/ck2yaml.py:2165\u001b[0m, in \u001b[0;36mconvert_mech\u001b[0;34m(input_file, thermo_file, transport_file, surface_file, phase_name, extra_file, out_name, single_intermediate_temperature, quiet, permissive)\u001b[0m\n\u001b[1;32m   2161\u001b[0m \u001b[38;5;28;01mdef\u001b[39;00m \u001b[38;5;21mconvert_mech\u001b[39m(input_file, thermo_file\u001b[38;5;241m=\u001b[39m\u001b[38;5;28;01mNone\u001b[39;00m, transport_file\u001b[38;5;241m=\u001b[39m\u001b[38;5;28;01mNone\u001b[39;00m,\n\u001b[1;32m   2162\u001b[0m                  surface_file\u001b[38;5;241m=\u001b[39m\u001b[38;5;28;01mNone\u001b[39;00m, phase_name\u001b[38;5;241m=\u001b[39m\u001b[38;5;124m'\u001b[39m\u001b[38;5;124mgas\u001b[39m\u001b[38;5;124m'\u001b[39m, extra_file\u001b[38;5;241m=\u001b[39m\u001b[38;5;28;01mNone\u001b[39;00m,\n\u001b[1;32m   2163\u001b[0m                  out_name\u001b[38;5;241m=\u001b[39m\u001b[38;5;28;01mNone\u001b[39;00m, single_intermediate_temperature\u001b[38;5;241m=\u001b[39m\u001b[38;5;28;01mFalse\u001b[39;00m, quiet\u001b[38;5;241m=\u001b[39m\u001b[38;5;28;01mFalse\u001b[39;00m,\n\u001b[1;32m   2164\u001b[0m                  permissive\u001b[38;5;241m=\u001b[39m\u001b[38;5;28;01mNone\u001b[39;00m):\n\u001b[0;32m-> 2165\u001b[0m     _, surface_names \u001b[38;5;241m=\u001b[39m \u001b[43mParser\u001b[49m\u001b[38;5;241;43m.\u001b[39;49m\u001b[43mconvert_mech\u001b[49m\u001b[43m(\u001b[49m\n\u001b[1;32m   2166\u001b[0m \u001b[43m        \u001b[49m\u001b[43minput_file\u001b[49m\u001b[43m,\u001b[49m\u001b[43m \u001b[49m\u001b[43mthermo_file\u001b[49m\u001b[43m,\u001b[49m\u001b[43m \u001b[49m\u001b[43mtransport_file\u001b[49m\u001b[43m,\u001b[49m\u001b[43m \u001b[49m\u001b[43msurface_file\u001b[49m\u001b[43m,\u001b[49m\u001b[43m \u001b[49m\u001b[43mphase_name\u001b[49m\u001b[43m,\u001b[49m\n\u001b[1;32m   2167\u001b[0m \u001b[43m        \u001b[49m\u001b[43mextra_file\u001b[49m\u001b[43m,\u001b[49m\u001b[43m \u001b[49m\u001b[43mout_name\u001b[49m\u001b[43m,\u001b[49m\u001b[43m \u001b[49m\u001b[43msingle_intermediate_temperature\u001b[49m\u001b[43m,\u001b[49m\u001b[43m \u001b[49m\u001b[43mquiet\u001b[49m\u001b[43m,\u001b[49m\u001b[43m \u001b[49m\u001b[43mpermissive\u001b[49m\u001b[43m)\u001b[49m\n\u001b[1;32m   2168\u001b[0m     \u001b[38;5;28;01mreturn\u001b[39;00m surface_names\n",
      "File \u001b[0;32m/opt/homebrew/Caskroom/miniconda/base/envs/ct-env/lib/python3.10/site-packages/cantera/ck2yaml.py:2090\u001b[0m, in \u001b[0;36mParser.convert_mech\u001b[0;34m(input_file, thermo_file, transport_file, surface_file, phase_name, extra_file, out_name, single_intermediate_temperature, quiet, permissive)\u001b[0m\n\u001b[1;32m   2088\u001b[0m \u001b[38;5;28;01mwith\u001b[39;00m \u001b[38;5;28mopen\u001b[39m(transport_file, \u001b[38;5;124m'\u001b[39m\u001b[38;5;124mr\u001b[39m\u001b[38;5;124m'\u001b[39m, errors\u001b[38;5;241m=\u001b[39m\u001b[38;5;124m'\u001b[39m\u001b[38;5;124mignore\u001b[39m\u001b[38;5;124m'\u001b[39m) \u001b[38;5;28;01mas\u001b[39;00m f:\n\u001b[1;32m   2089\u001b[0m     lines \u001b[38;5;241m=\u001b[39m [strip_nonascii(line) \u001b[38;5;28;01mfor\u001b[39;00m line \u001b[38;5;129;01min\u001b[39;00m f]\n\u001b[0;32m-> 2090\u001b[0m \u001b[43mparser\u001b[49m\u001b[38;5;241;43m.\u001b[39;49m\u001b[43mparse_transport_data\u001b[49m\u001b[43m(\u001b[49m\u001b[43mlines\u001b[49m\u001b[43m,\u001b[49m\u001b[43m \u001b[49m\u001b[43mtransport_file\u001b[49m\u001b[43m,\u001b[49m\u001b[43m \u001b[49m\u001b[38;5;241;43m1\u001b[39;49m\u001b[43m)\u001b[49m\n\u001b[1;32m   2092\u001b[0m \u001b[38;5;66;03m# Transport validation: make sure all species have transport data\u001b[39;00m\n\u001b[1;32m   2093\u001b[0m \u001b[38;5;28;01mfor\u001b[39;00m s \u001b[38;5;129;01min\u001b[39;00m parser\u001b[38;5;241m.\u001b[39mspecies_list:\n",
      "File \u001b[0;32m/opt/homebrew/Caskroom/miniconda/base/envs/ct-env/lib/python3.10/site-packages/cantera/ck2yaml.py:1895\u001b[0m, in \u001b[0;36mParser.parse_transport_data\u001b[0;34m(self, lines, filename, line_offset)\u001b[0m\n\u001b[1;32m   1893\u001b[0m     \u001b[38;5;28mself\u001b[39m\u001b[38;5;241m.\u001b[39mspecies_dict[speciesName]\u001b[38;5;241m.\u001b[39mtransport \u001b[38;5;241m=\u001b[39m TransportData(\u001b[38;5;241m*\u001b[39mdata, note\u001b[38;5;241m=\u001b[39mcomment)\n\u001b[1;32m   1894\u001b[0m \u001b[38;5;28;01melse\u001b[39;00m:\n\u001b[0;32m-> 1895\u001b[0m     \u001b[38;5;28;43mself\u001b[39;49m\u001b[38;5;241;43m.\u001b[39;49m\u001b[43mwarn\u001b[49m\u001b[43m(\u001b[49m\u001b[38;5;124;43m'\u001b[39;49m\u001b[38;5;124;43mIgnoring duplicate transport data\u001b[39;49m\u001b[38;5;124;43m'\u001b[39;49m\n\u001b[1;32m   1896\u001b[0m \u001b[43m         \u001b[49m\u001b[38;5;124;43m'\u001b[39;49m\u001b[38;5;124;43m for species \u001b[39;49m\u001b[38;5;124;43m\"\u001b[39;49m\u001b[38;5;132;43;01m{}\u001b[39;49;00m\u001b[38;5;124;43m\"\u001b[39;49m\u001b[38;5;124;43m on line \u001b[39;49m\u001b[38;5;132;43;01m{}\u001b[39;49;00m\u001b[38;5;124;43m of \u001b[39;49m\u001b[38;5;124;43m\"\u001b[39;49m\u001b[38;5;132;43;01m{}\u001b[39;49;00m\u001b[38;5;124;43m\"\u001b[39;49m\u001b[38;5;124;43m.\u001b[39;49m\u001b[38;5;124;43m'\u001b[39;49m\u001b[38;5;241;43m.\u001b[39;49m\u001b[43mformat\u001b[49m\u001b[43m(\u001b[49m\n\u001b[1;32m   1897\u001b[0m \u001b[43m            \u001b[49m\u001b[43mspeciesName\u001b[49m\u001b[43m,\u001b[49m\u001b[43m \u001b[49m\u001b[43mline_offset\u001b[49m\u001b[43m \u001b[49m\u001b[38;5;241;43m+\u001b[39;49m\u001b[43m \u001b[49m\u001b[43mi\u001b[49m\u001b[43m,\u001b[49m\u001b[43m \u001b[49m\u001b[43mfilename\u001b[49m\u001b[43m)\u001b[49m\u001b[43m)\u001b[49m\n",
      "File \u001b[0;32m/opt/homebrew/Caskroom/miniconda/base/envs/ct-env/lib/python3.10/site-packages/cantera/ck2yaml.py:788\u001b[0m, in \u001b[0;36mParser.warn\u001b[0;34m(self, message)\u001b[0m\n\u001b[1;32m    786\u001b[0m \u001b[38;5;28;01mdef\u001b[39;00m \u001b[38;5;21mwarn\u001b[39m(\u001b[38;5;28mself\u001b[39m, message):\n\u001b[1;32m    787\u001b[0m     \u001b[38;5;28;01mif\u001b[39;00m \u001b[38;5;28mself\u001b[39m\u001b[38;5;241m.\u001b[39mwarning_as_error:\n\u001b[0;32m--> 788\u001b[0m         \u001b[38;5;28;01mraise\u001b[39;00m InputError(message)\n\u001b[1;32m    789\u001b[0m     \u001b[38;5;28;01melse\u001b[39;00m:\n\u001b[1;32m    790\u001b[0m         logger\u001b[38;5;241m.\u001b[39mwarning(message)\n",
      "\u001b[0;31mInputError\u001b[0m: Ignoring duplicate transport data for species \"NCN\" on line 152 of \"input-files/mech_debug/tran.txt\".\nPlease check https://cantera.org/tutorials/ck2yaml-tutorial.html#debugging-common-errors-in-ck-files\nfor the correct Chemkin syntax."
     ]
    }
   ],
   "source": [
    "convert_mech(\n",
    "    input_file='input-files/mech_debug/mech_fixed.txt',\n",
    "    thermo_file='input-files/mech_debug/thermo_fixed.txt',\n",
    "    transport_file='input-files/mech_debug/tran.txt',\n",
    "    out_name='input-files/mech_debug/mech.yaml',\n",
    ");"
   ]
  },
  {
   "cell_type": "markdown",
   "metadata": {},
   "source": [
    "In this output, we can see the same warnings about undeclared species and then the error output:\n",
    "\n",
    "```\n",
    "InputError: Ignoring duplicate transport data for species \"NCN\" on line 152 of \"input-files/mech_debug/tran.txt\".\n",
    "```\n",
    "\n",
    "This is a case where the input file is valid syntactically, but the possible output conditions are ambiguous. In the transport file, there are two definitions of the properties for the species `NCN`:\n",
    "\n",
    "```\n",
    "108  NCN                1   232.400     3.828     0.000     0.000     1.000 !=CNN\n",
    "...\n",
    "152  NCN                1   232.400     3.828     0.000     0.000     1.000 ! OIS\n",
    "```\n",
    "\n",
    "Fortunately, both of these sets of properties are identical, so it doesn't matter which one is picked. In this case, you can use the `permissive` option to the converter to allow this error to pass with just a warning, and the converter will automatically use the first declaration of the species. This is also a common problem with thermodynamics input files.\n",
    "\n",
    "If the inputs were different, it would be up to you to choose which input is more correct and comment out or delete the other one.\n",
    "\n",
    "Let's supply the `permissive` option to the converter and see what happens:"
   ]
  },
  {
   "cell_type": "code",
   "execution_count": 10,
   "metadata": {},
   "outputs": [
    {
     "name": "stdout",
     "output_type": "stream",
     "text": [
      "Skipping unexpected species \"C3H4CY\" while reading thermodynamics entry.\n",
      "Skipping unexpected species \"C4H5\" while reading thermodynamics entry.\n",
      "Skipping unexpected species \"CH3NO3\" while reading thermodynamics entry.\n",
      "Skipping unexpected species \"CH2NO3\" while reading thermodynamics entry.\n",
      "Skipping unexpected species \"HCCOH\" while reading thermodynamics entry.\n",
      "Skipping unexpected species \"N2O5\" while reading thermodynamics entry.\n",
      "Skipping unexpected species \"TC4H7\" while reading thermodynamics entry.\n",
      "Ignoring duplicate transport data for species \"NCN\" on line 152 of \"input-files/mech_debug/tran.txt\".\n",
      "Wrote YAML mechanism file to 'input-files/mech_debug/mech.yaml'.\n",
      "Mechanism contains 129 species and 1231 reactions.\n"
     ]
    }
   ],
   "source": [
    "convert_mech(\n",
    "    input_file='input-files/mech_debug/mech_fixed.txt',\n",
    "    thermo_file='input-files/mech_debug/thermo_fixed.txt',\n",
    "    transport_file='input-files/mech_debug/tran.txt',\n",
    "    out_name='input-files/mech_debug/mech.yaml',\n",
    "    permissive=True,\n",
    ");"
   ]
  },
  {
   "cell_type": "markdown",
   "metadata": {},
   "source": [
    "And finally, we have successfully converted the file.\n",
    "\n",
    "We have compiled a list of the most common errors in CHEMKIN format input files, which you can find in our documentation: https://cantera.org/tutorials/ck2cti-tutorial.html#debugging-common-errors-in-ck-files"
   ]
  }
 ],
 "metadata": {
  "kernelspec": {
   "display_name": "Python 3 (ipykernel)",
   "language": "python",
   "name": "python3"
  },
  "language_info": {
   "codemirror_mode": {
    "name": "ipython",
    "version": 3
   },
   "file_extension": ".py",
   "mimetype": "text/x-python",
   "name": "python",
   "nbconvert_exporter": "python",
   "pygments_lexer": "ipython3",
   "version": "3.10.5"
  }
 },
 "nbformat": 4,
 "nbformat_minor": 4
}
