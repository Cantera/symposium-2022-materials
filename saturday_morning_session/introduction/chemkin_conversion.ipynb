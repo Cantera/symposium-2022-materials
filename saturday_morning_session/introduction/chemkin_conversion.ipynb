{
 "cells": [
  {
   "cell_type": "markdown",
   "metadata": {},
   "source": [
    "## Converting from Chemkin"
   ]
  },
  {
   "cell_type": "markdown",
   "metadata": {},
   "source": [
    "Cantera comes with a script to convert CHEMKIN input files to the YAML format. This script is called `ck2yaml`. There are three ways to call `ck2yaml`:\n",
    "\n",
    "1. Directly from the command line or terminal prompt\n",
    "\n",
    "   ```\n",
    "   ck2yaml --help\n",
    "   ```\n",
    "\n",
    "   This assumes that `ck2yaml` is installed somewhere on your `PATH`.\n",
    "\n",
    "2. If you have multiple versions of Cantera installed, or `ck2yaml` is not on your `PATH`, you can also have Python find the `ck2yaml` module and run that:\n",
    "\n",
    "   ```\n",
    "   python -m cantera.ck2yaml --help\n",
    "   ```\n",
    "\n",
    "3. If you are already running a Python interpreter (`python`, IPython, Jupyter Notebook, etc.) you can directly call the `convert_mech` function from the `ck2yaml` module\n",
    "\n",
    "   ```python\n",
    "   from cantera.ck2yaml import convert_mech\n",
    "   convert_mech?\n",
    "   ```"
   ]
  },
  {
   "cell_type": "code",
   "execution_count": null,
   "metadata": {},
   "outputs": [],
   "source": [
    "from cantera.ck2yaml import convert_mech\n",
    "convert_mech?"
   ]
  },
  {
   "cell_type": "markdown",
   "metadata": {},
   "source": [
    "There is one mandatory argument to `convert_mech` (and the command line equivalents):\n",
    "\n",
    "- `input_file`: The CHEMKIN input file that contains at least an `ELEMENTS`, `SPECIES`, and `REACTIONS` section, and optionally contains a `THERMO` or `TRANSPORT` section\n",
    "\n",
    "There are seven other optional arguments to `convert_mech` (and the command line equivalents):\n",
    "\n",
    "- `thermo_file`: A CHEMKIN-formatted file with thermodynamics data for the species present in the `input_file`. Must be passed if the thermodynamics data is not present in the `input_file`\n",
    "- `transport_file`: A CHEMKIN-formatted file with transport data for the species present in the `input_file`\n",
    "- `surface_file`: A Surface CHEMKIN-formatted input file with surface reactions\n",
    "- `phase_name`: The name of the phase that should be created in the resulting CTI file\n",
    "- `out_name`: The filename of the CTI output file\n",
    "- `quiet`: Reduce the output from the conversion\n",
    "- `permissive`: Convert some ambiguous input conditions from errors to warnings\n",
    "\n",
    "One of the most common problems that users encounter is converting CHEMKIN format input files to Cantera YAML format. Unfortunately, the CHEMKIN interpreter for these files is not very strict about complying with its own standard, so files that appear to work just fine in CHEMKIN require some massaging to work with Cantera. Let's look at one example using the `convert_mech` function."
   ]
  },
  {
   "cell_type": "code",
   "execution_count": null,
   "metadata": {},
   "outputs": [],
   "source": [
    "convert_mech(\n",
    "    input_file='input-files/mech_debug/mech.txt',\n",
    "    thermo_file='input-files/mech_debug/thermo.txt',\n",
    "    transport_file='input-files/mech_debug/tran.txt',\n",
    "    out_name='input-files/mech_debug/mech.yaml',\n",
    ");"
   ]
  },
  {
   "cell_type": "markdown",
   "metadata": {},
   "source": [
    "The key error message here is:\n",
    "\n",
    "```\n",
    "WARNING:root:\n",
    "ERROR: Unable to parse 'input-files/mech_debug/mech.txt' near line 73:\n",
    "...\n",
    "InputError: Unrecognized token on REACTIONS line, 'BASE'\n",
    "```\n",
    "\n",
    "Looking at the input file at line 73, we find the end of the `SPECIES` section and the start of the `REACTIONS` section:\n",
    "\n",
    "```text\n",
    "70  C6H5      ! phenyl        \n",
    "71  AR        N2\n",
    "72  END\n",
    "73  REACTIONS          BASE M=N2\n",
    "```\n",
    "\n",
    "The error is occuring because Cantera doesn't know how to interpret the `BASE M=N2` portion of that line. It appears to be a comment from the mechanism author about the default identity of the bath gas, so we can probably safely delete that portion of the line. Let's do that and save the file as `mech_fixed.txt` and try the conversion again:"
   ]
  },
  {
   "cell_type": "code",
   "execution_count": null,
   "metadata": {},
   "outputs": [],
   "source": [
    "convert_mech(\n",
    "    input_file='input-files/mech_debug/mech_fixed.txt',\n",
    "    thermo_file='input-files/mech_debug/thermo.txt',\n",
    "    transport_file='input-files/mech_debug/tran.txt',\n",
    "    out_name='input-files/mech_debug/mech.cti',\n",
    ");"
   ]
  },
  {
   "cell_type": "markdown",
   "metadata": {},
   "source": [
    "There are a few things to parse out of this error message. First, there are a number of warnings about species whose thermodynamics properties are provided in the `thermo.txt` file but are not declared as valid species in the `SPECIES` secton of the `mech_fixed.txt` file:\n",
    "\n",
    "```\n",
    "INFO:root:Skipping unexpected species \"C3H4CY\" while reading thermodynamics entry.\n",
    "INFO:root:Skipping unexpected species \"C4H5\" while reading thermodynamics entry.\n",
    "INFO:root:Skipping unexpected species \"CH3NO3\" while reading thermodynamics entry.\n",
    "INFO:root:Skipping unexpected species \"CH2NO3\" while reading thermodynamics entry.\n",
    "INFO:root:Skipping unexpected species \"HCCOH\" while reading thermodynamics entry.\n",
    "INFO:root:Skipping unexpected species \"N2O5\" while reading thermodynamics entry.\n",
    "```\n",
    "\n",
    "We can safely ignore these warnings because the mechanism file won't use these species data anyways. The next line starts the actual error that caused the conversion to fail:\n",
    "\n",
    "```\n",
    "INFO:root:Error while reading thermo entry starting on line 526:\n",
    "\"\"\"\n",
    "TC4H7             A 8/83C   4H\t 7    0    0G   300.     3000.\t  1500.        1\n",
    " 0.4219753E 01  0.2882451E-01 -0.1399213E-04  0.3340718E-08 -0.3226427E-12     2\n",
    " 0.1266295E 05  0.3253111E 01 -0.2152314E+01  0.5547424E-01 -0.6226715E-04     3\n",
    " 0.4593056E-07 -0.1492297E-10  0.1407443E 05  0.3421103E 02  0.1543086E+05     4\n",
    "\"\"\"\n",
    "WARNING:root:\n",
    "ERROR: Unable to parse 'input-files/mech_debug/thermo.txt' near line 526:\n",
    "...\n",
    "ValueError: could not convert string to float: 'E-08 -0.32'\n",
    "```\n",
    "\n",
    "This one is really tricky to figure out. The error here is because of some bad input on the first line of the thermo section (the `ValueError` is a bit of a red herring). The CHEMKIN/NASA fixed-format specification says that there should be spaces between each of the entries on the first line, but this input file includes a tab character on that line rather than spaces. We can see this by inspecting the file in an editor that shows whitespace characters.\n",
    "\n",
    "Once that line is fixed, we can try the conversion again:"
   ]
  },
  {
   "cell_type": "code",
   "execution_count": null,
   "metadata": {},
   "outputs": [],
   "source": [
    "convert_mech(\n",
    "    input_file='input-files/mech_debug/mech_fixed.txt',\n",
    "    thermo_file='input-files/mech_debug/thermo_fixed.txt',\n",
    "    transport_file='input-files/mech_debug/tran.txt',\n",
    "    out_name='input-files/mech_debug/mech.yaml',\n",
    ");"
   ]
  },
  {
   "cell_type": "markdown",
   "metadata": {},
   "source": [
    "In this output, we can see the same warnings about undeclared species and then the error output:\n",
    "\n",
    "```\n",
    "InputError: Ignoring duplicate transport data for species \"NCN\" on line 152 of \"input-files/mech_debug/tran.txt\".\n",
    "```\n",
    "\n",
    "This is a case where the input file is valid syntactically, but the possible output conditions are ambiguous. In the transport file, there are two definitions of the properties for the species `NCN`:\n",
    "\n",
    "```\n",
    "108  NCN                1   232.400     3.828     0.000     0.000     1.000 !=CNN\n",
    "...\n",
    "152  NCN                1   232.400     3.828     0.000     0.000     1.000 ! OIS\n",
    "```\n",
    "\n",
    "Fortunately, both of these sets of properties are identical, so it doesn't matter which one is picked. In this case, you can use the `permissive` option to the converter to allow this error to pass with just a warning, and the converter will automatically use the first declaration of the species. This is also a common problem with thermodynamics input files.\n",
    "\n",
    "If the inputs were different, it would be up to you to choose which input is more correct and comment out or delete the other one.\n",
    "\n",
    "Let's supply the `permissive` option to the converter and see what happens:"
   ]
  },
  {
   "cell_type": "code",
   "execution_count": null,
   "metadata": {},
   "outputs": [],
   "source": [
    "convert_mech(\n",
    "    input_file='input-files/mech_debug/mech_fixed.txt',\n",
    "    thermo_file='input-files/mech_debug/thermo_fixed.txt',\n",
    "    transport_file='input-files/mech_debug/tran.txt',\n",
    "    out_name='input-files/mech_debug/mech.yaml',\n",
    "    permissive=True,\n",
    ");"
   ]
  },
  {
   "cell_type": "markdown",
   "metadata": {},
   "source": [
    "And finally, we have successfully converted the file.\n",
    "\n",
    "We have compiled a list of the most common errors in CHEMKIN format input files, which you can find in our documentation: https://cantera.org/tutorials/ck2cti-tutorial.html#debugging-common-errors-in-ck-files"
   ]
  }
 ],
 "metadata": {
  "kernelspec": {
   "display_name": "Python 3 (ipykernel)",
   "language": "python",
   "name": "python3"
  },
  "language_info": {
   "codemirror_mode": {
    "name": "ipython",
    "version": 3
   },
   "file_extension": ".py",
   "mimetype": "text/x-python",
   "name": "python",
   "nbconvert_exporter": "python",
   "pygments_lexer": "ipython3",
   "version": "3.10.5"
  }
 },
 "nbformat": 4,
 "nbformat_minor": 4
}
