{
 "cells": [
  {
   "cell_type": "markdown",
   "metadata": {},
   "source": [
    "$$\\require{mhchem}$$"
   ]
  },
  {
   "cell_type": "markdown",
   "metadata": {},
   "source": [
    "# Adiabatic Flame Temperature: Constant $C_p$\n",
    "\n",
    "The adiabatic flame temperature is the temperature achieved when a given fuel-oxidizer combination is combusted in a perfectly insulated reactor. If no energy is lost to the surroundings via heat transfer and the reaction occurs at constant pressure, conservation of energy dictates that the total enthalpy of the reactants is equal to the total enthalpy of the products. Defining _state 1_ as the reactants and _state 2_ as the products, we can write:\n",
    "\n",
    "$$h_{\\text{mix}, 2} = h_{\\text{mix}, 1}$$\n",
    "\n",
    "The enthalpy of the mixture has two components:\n",
    "\n",
    "1. the enthalpy of formation: $\\Delta^{\\circ}_{\\text{f}}h$ \n",
    "2. the sensible enthalpy: $h_i$\n",
    "\n",
    "To make this more concrete, let's pick a specific reaction: stoichiometric combustion of methane, $\\ce{CH4}$ with air:\n",
    "\n",
    "$$\\ce{CH4 + 2 O2 + $7.52$N2 <=> 2 H2O + CO2 + $7.52$N2}$$"
   ]
  },
  {
   "cell_type": "markdown",
   "metadata": {},
   "source": [
    "From the reaction stoichiometry (note that the net stoichiometric coefficient for $\\ce{N2}$ is zero), the heat of combustion released by this reaction is:\n",
    "\n",
    "$$\\begin{aligned}q_{\\text{rxn}} &= -\\sum_k \\nu_k \\Delta^{\\circ}_{\\text{f}}h_k\\\\\n",
    "&= \\Delta^{\\circ}_{\\text{f}}h_{\\rm CH_4} + 2\\Delta^\\circ_{\\rm f}h_{\\rm O_2} - \\Delta^\\circ_{\\rm f}h_{\\rm CO_2}-2 \\Delta^\\circ_{\\rm f}h_{\\rm H_2O}\\end{aligned}$$\n",
    "\n",
    "where $\\nu_k$ is the stoichiometric coefficient of species $k$, which is positive for products and negative for reactants. By definition, the heat of reaction is released at the reference temperature.\n",
    "\n",
    "However, since the reaction must occur at constant enthalpy, the heat released must be stored in the products. In essence, the heat is used to heat the products from the initial, reference, temperature to a final temperature:\n",
    "\n",
    "$$\\begin{aligned}q_{\\text{heating}} &= \\sum_k\\nu_{\\text{prod},k}\\left[h_k\\left(T_2\\right) - h_k\\left(T_1\\right)\\right]\\\\\n",
    "&= h_{\\ce{CO2}}\\left(T_2\\right) - h_{\\ce{CO_2}}\\left(T_1\\right) + 2\\left[h_{\\ce{H2O}}\\left(T_2\\right) - h_{\\ce{H2O}}\\left(T_1\\right)\\right] + 7.52\\left[h_{\\ce{N2}}\\left(T_2\\right) - h_{\\ce{N_2}}\\left(T_1\\right)\\right]\\end{aligned}$$\n",
    "\n",
    "where, again, states 1 and 2 represent the final and initial states, respectively. $\\nu_{\\text{prod}}$ is the product stoichiometric coefficient. Note that this assumes complete combution - there are no reactant species left to heat."
   ]
  },
  {
   "cell_type": "markdown",
   "metadata": {},
   "source": [
    "For a purely adiabatic reaction, we will have $q_{\\rm rxn} = q_{\\rm heating}$, and hence:\n",
    "\n",
    "$$\\sum_k\\nu_{\\text{prod},k}\\left[h_k\\left(T_2\\right) - h_k\\left(T_1\\right)\\right] + \\sum_k \\nu_k \\Delta^{\\circ}_{\\text{f}}h_k = 0$$\n",
    "\n",
    "or:\n",
    "\n",
    "$$h_{\\ce{CO2}}\\left(T_2\\right) - h_{\\ce{CO_2}}\\left(T_1\\right) + 2\\left[h_{\\ce{H2O}}\\left(T_2\\right) - h_{\\ce{H2O}}\\left(T_1\\right)\\right] + 7.52\\left[h_{\\ce{N2}}\\left(T_2\\right) - h_{\\ce{N_2}}\\left(T_1\\right)\\right] + \\Delta^{\\circ}_{\\text{f}}h_{\\rm CH_4} + 2\\Delta^\\circ_{\\rm f}h_{\\rm O_2} - \\Delta^\\circ_{\\rm f}h_{\\rm CO_2}-2 \\Delta^\\circ_{\\rm f}h_{\\rm H_2O} = 0$$\n",
    "\n",
    "Note that only a few variables are dependent on the final temperature $T_2$.  We might be tempted to write the above equation in terms of those variables, but let's hold off for now. Our next step really depends on what method we use to solve the problem. In short, we need a means of calculating the enthalpy values, so that we may determine which value of $T_2$ satisfies our adiabatic condition.  "
   ]
  },
  {
   "cell_type": "markdown",
   "metadata": {},
   "source": [
    "## JANAF Tables\n",
    "\n",
    "One popular source for the enthalpy values are the [JANAF tables](https://janaf.nist.gov/), a thermodynamic database maintained by NIST. These provide a range of thermodynamic properties, including enthalpies of formation, total sensible enthalpy, and others, for a range of temperatures and for a wide variety of species. For the curious, a collection of these tables are stored in the `data` folder that accompanies this notebook.\n",
    "\n",
    "We will take the enthalpies of formation at the initial condition of 298.15 K:\n",
    "\n",
    "|   Species  | $\\Delta^{\\circ}_{\\text{f}}h_k\\left(298.15\\,\\mathrm{K}\\right))\\,\\frac{\\mathrm{kJ}}{\\mathrm{mol}}$ |\n",
    "|------------|--------------------------------------------------------------------------------------------------|\n",
    "| $\\ce{CH4}$ | -74.873                                                                                          |\n",
    "| $\\ce{O2}$  | 0.0                                                                                              |\n",
    "| $\\ce{N2}$  | 0.0                                                                                              |\n",
    "| $\\ce{CO2}$ | -393.522                                                                                         |\n",
    "| $\\ce{H2O}$ | -241.826                                                                                         |\n",
    "\n",
    "From these, let's solve for the heat released by the reaction.  Give it the variable name `q_rxn`:"
   ]
  },
  {
   "cell_type": "code",
   "execution_count": 3,
   "metadata": {
    "tags": [
     "clean"
    ]
   },
   "outputs": [],
   "source": [
    "# Entahlpies of formation, kJ/mol\n",
    "h_f_CH4 = -74.873\n",
    "h_f_CO2 = -393.522\n",
    "h_f_H2O = -241.826\n",
    "h_f_O2 = 0\n",
    "\n",
    "q_rxn = h_f_CO2 + 2 * h_f_H2O - h_f_CH4 - 2*h_f_O2\n",
    "\n",
    "print(f\"The heat of reaction is {q_rxn:.2f} kJ/mol\")"
   ]
  },
  {
   "cell_type": "markdown",
   "metadata": {},
   "source": [
    "This heat must be stored in the sensible enthalpy of the products, which reach an elevated temperature $T_2$, after combustion.\n",
    "\n",
    "To calculate the final temeprature, we need to estimate how the species enthalpies change as a function of temperature. The JANAF tables actually give us $h_k(T) - h_k(298.15\\,\\mathrm{K})$ as a function of $T$, allowing for a high-precision solution. This is demonstrated in another [Notebook using interpolation](./ad-flame-T-interpolated.ipynb)."
   ]
  },
  {
   "cell_type": "markdown",
   "metadata": {},
   "source": [
    "However, a simpler and nearly as accurate solution uses the definition of the specific heat at constant pressure to calculate the change in enthalpy. $C_p$ is defined such that:\n",
    "\n",
    "$$h_k(T_2) - h_k(T_1) = \\int_{T_1}^{T_2}C_{p,k} dT$$\n",
    "\n",
    "If we assume $C_{p,k}$ is constant, this reduces to:\n",
    "\n",
    "$$h_k(T_2) - h_k(T_1) = C_{p,k}\\left(T_2 - T_1\\right)$$\n",
    "\n",
    "While $C_p$ is not truly constant, we can take the value at some intermediate temperature and assume that the variation in $C_p$ from this average value is not _too_ significant. This simplifies the calculation because we can use average values of $C_p$ for each species.\n",
    "\n",
    "Finally, to simplify a little bit further we note that nitrogen makes up the bulk of the products on a molar basis. For instance, the mole fraction of nitrogen in the products is:\n",
    "\n",
    "$$X_{\\ce{N2}} = \\frac{7.52}{10.52} = 0.715$$\n",
    "\n",
    "Therefore, we will assume that the change in sensible enthalpy of all of the products can be approximated by using an average $C_p$ value of nitrogen:\n",
    "\n",
    "$$q_{\\text{heating}} = \\sum_k\\nu_{\\text{prod},k}\\left[h_k\\left(T_2\\right) - h_k\\left(T_1\\right)\\right] \\approx C_{p,\\ce{N2}} n_{\\text{tot}} \\left(T_2 - T_1\\right)$$\n",
    "\n",
    "where $n_{\\text{tot}} = 10.52$ for the products.\n",
    "\n",
    "So let's consult the JANAF tables once more to find a value for $C_p$. We guess that the final temperature will be around 2000 K, so an intermediate temperature of $T_{\\text{avg}} =$ 1000 K is sufficiently accurate here.\n",
    "\n",
    "$$C_{p,\\ce{N2}} = 32.697\\,\\frac{\\text{J}}{\\text{mol K}}$$\n",
    "\n",
    "Now we can solve algebraically for $T_2$:\n",
    "\n",
    "$$T_2 = T_1 - \\frac{q_{\\text{rxn}}}{n_{\\text{tot}}C_{p,\\text{avg}}}$$"
   ]
  },
  {
   "cell_type": "code",
   "execution_count": 7,
   "metadata": {
    "tags": [
     "clean"
    ]
   },
   "outputs": [
    {
     "name": "stdout",
     "output_type": "stream",
     "text": [
      "Initial T_ad = 2630.61 K\n",
      "T_avg = 1464.38 K\n"
     ]
    }
   ],
   "source": [
    "T_1 = 298.15  # Initial temperature, K\n",
    "C_p_avg = 32.697E-3  # Convert to kJ/mol-K\n",
    "n_tot = 10.52\n",
    "\n",
    "T_2 = T_1 - q_rxn / n_tot / C_p_avg\n",
    "T_avg = (T_1 + T_2) / 2\n",
    "print(f\"Initial T_ad = {T_2:.2f} K\")\n",
    "print(f\"T_avg = {T_avg:.2f} K\")"
   ]
  },
  {
   "cell_type": "markdown",
   "metadata": {},
   "source": [
    "Not bad! If this is correct, the average temperature is 1464.4 K. So the average $C_p$ at 1000 K is perhaps a bit too low. Let's try to improve the accuracy by using:\n",
    "\n",
    "$$C_{p,\\ce{N2}}(1400\\,\\mathrm{ K})=34.518\\,\\frac{\\mathrm{J}}{\\text{mol K}}$$\n",
    "\n",
    "Right away, we can see that $C_p$ hasn't changed all _that_ much, in going from 1000 K to 1400 K.  But let's check, anyway:"
   ]
  },
  {
   "cell_type": "code",
   "execution_count": 9,
   "metadata": {
    "tags": [
     "clean"
    ]
   },
   "outputs": [
    {
     "name": "stdout",
     "output_type": "stream",
     "text": [
      "Improved T_ad = 2507.56 K\n",
      "T_avg = 1402.85\n"
     ]
    }
   ],
   "source": [
    "C_p_avg = 34.518E-3  # Convert to kJ/mol-K\n",
    "\n",
    "T_2 = T_1 - q_rxn/n_tot/C_p_avg\n",
    "T_avg = (T_1 + T_2) / 2\n",
    "print(f\"Improved T_ad = {T_2:.2f} K\")\n",
    "print(f\"T_avg = {T_avg:.2f} K\")"
   ]
  },
  {
   "cell_type": "markdown",
   "metadata": {},
   "source": [
    "We see that the adiabatic flame temperature estimate dropped by 123 K, and now our actual average temperature is quite close to our guess value.\n",
    "\n",
    "The detailed approach mentioned previously ([ad-flame-T-interpolated](./ad-flame-T-interpolated.ipynb)) returns an adiabatic flame temperature of $T_{\\text{ad}} =$ 2327 K, which is not _too_ far off from our rather simple estimate here!"
   ]
  }
 ],
 "metadata": {
  "celltoolbar": "Tags",
  "kernelspec": {
   "display_name": "Python 3",
   "language": "python",
   "name": "python3"
  },
  "language_info": {
   "codemirror_mode": {
    "name": "ipython",
    "version": 3
   },
   "file_extension": ".py",
   "mimetype": "text/x-python",
   "name": "python",
   "nbconvert_exporter": "python",
   "pygments_lexer": "ipython3",
   "version": "3.9.4"
  }
 },
 "nbformat": 4,
 "nbformat_minor": 2
}
