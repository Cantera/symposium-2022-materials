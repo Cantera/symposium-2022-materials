{
 "cells": [
  {
   "cell_type": "markdown",
   "metadata": {},
   "source": [
    "$$\\require{mhchem}$$"
   ]
  },
  {
   "cell_type": "markdown",
   "metadata": {},
   "source": [
    "# Adiabatic flame temperature notebook.\n",
    "\n",
    "## Extension: detailed calculations, using interpolation of $h_k$ via JANAF tables.\n",
    "\n",
    "Here, we will extend the initial JANAF table demonstration by interpolating the JANAF table species enthalpy values to locate the temperature where $h_{\\rm mix, 2} = h_{\\rm mix, 1}$.\n",
    "\n",
    "To do this, we will use some slightly more advanced coding, where we import an interpolation function from an external library (the popular [SciPy](https://scipy.org/)) to create a lookup function for us.  We will also use the [NumPy](https://numpy.org/) library to handle matrix mathematics for us.  Lastly, we will import [Matplotlib](https://matplotlib.org) to handle some basic plotting.\n",
    "\n",
    "### Import libraries\n",
    "Begin by importing the necessary external libraries and functions. The `import XX as YY` syntax gives us an alias for each library."
   ]
  },
  {
   "cell_type": "code",
   "execution_count": 1,
   "metadata": {},
   "outputs": [],
   "source": [
    "import numpy as np\n",
    "from scipy.interpolate import interp1d\n",
    "from scipy.optimize import brentq, newton\n",
    "\n",
    "%matplotlib inline\n",
    "import matplotlib.pyplot as plt"
   ]
  },
  {
   "cell_type": "markdown",
   "metadata": {},
   "source": [
    "### Load the JANAF Tables\n",
    "\n",
    "JANAF (Joint Army Navy Air Force) tables are a standardized data format for species and can be downloaded from [janaf.nist.gov](https://janaf.nist.gov/).\n",
    "\n",
    "JANAF files start with two header lines indicating the species and the data in the columns. The following rows contain the actual data and the columns are separated by tab characters.\n",
    "\n",
    "```text\n",
    "Methane (CH4)\tC1H4(g)\n",
    "T(K)\tCp\tS\t-[G-H(Tr)]/T\tH-H(Tr)\tdelta-f H\tdelta-f G\tlog Kf\n",
    "0\t0.\t0.\tINFINITE\t-10.024\t-66.911\t-66.911\tINFINITE\n",
    "100\t33.258\t149.500\t216.485\t-6.698\t-69.644\t-64.353\t33.615\n",
    "...\n",
    "```\n",
    "\n",
    "\n",
    "The NumPy `loadtxt()` function reads and loads these data files as NumPy arrays. NumPy does not know how to handle the `INFINITE` data, and we aren't interested in data at 0 K anyways, so we need to skip reading the first three rows of the data. The `skiprows` argument tells NumPy to skip the number of rows in the data file that you pass."
   ]
  },
  {
   "cell_type": "code",
   "execution_count": 2,
   "metadata": {},
   "outputs": [],
   "source": [
    "ch4_data = np.loadtxt(\"data/ch4_janaf.txt\", skiprows=3)\n",
    "o2_data = np.loadtxt(\"data/o2_janaf.txt\", skiprows=3)\n",
    "co2_data = np.loadtxt(\"data/co2_janaf.txt\", skiprows=3)\n",
    "h2o_data = np.loadtxt(\"data/h2o_janaf.txt\", skiprows=3)\n",
    "n2_data = np.loadtxt(\"data/n2_janaf.txt\", skiprows=3)"
   ]
  },
  {
   "cell_type": "markdown",
   "metadata": {},
   "source": [
    "### Determine the Heats of Formation\n",
    "\n",
    "To calculate the adiabatic flame temperature, we need the enthalpy of formation and the sensible enthalpy for each species. The enthalpy of formation is in the 6th column of the JANAF table. We need the enthalpy of formation at the reference temperature, 298.15 K. This reference temperature is very common, so the JANAF tables include data at this specific temperature.\n",
    "\n",
    "By inspecting the tables, we see that the 298.15 K row is the 4th row in the $\\ce{CH4}$, $\\ce{O2}$, and $\\ce{N2}$ tables, and the 3rd row in the $\\ce{CO2}$ and $\\ce{H2O}$ tables.\n",
    "\n",
    "NumPy and Python start counting all indices at 0 and they use square brackets for indexing. The variable `data[0]` therefore corresponds to the first item in the vector `data`, `data[1]` the second item, and so on. The heat of formation at 298.15 K is therefore at index `[3, 5]` or `[2, 5]`."
   ]
  },
  {
   "cell_type": "code",
   "execution_count": 3,
   "metadata": {},
   "outputs": [
    {
     "name": "stdout",
     "output_type": "stream",
     "text": [
      "ch4_h_f=-74.873\n",
      "o2_h_f=0.0\n",
      "n2_h_f=0.0\n",
      "co2_h_f=-393.522\n",
      "h2o_h_f=-241.826\n"
     ]
    }
   ],
   "source": [
    "ch4_h_f = ch4_data[3, 5]\n",
    "o2_h_f = o2_data[3, 5]\n",
    "n2_h_f = n2_data[3, 5]\n",
    "co2_h_f = co2_data[2, 5]\n",
    "h2o_h_f = h2o_data[2, 5]\n",
    "\n",
    "print(f\"{ch4_h_f=}\", f\"{o2_h_f=}\", f\"{n2_h_f=}\", f\"{co2_h_f=}\", f\"{h2o_h_f=}\", sep=\"\\n\")"
   ]
  },
  {
   "cell_type": "markdown",
   "metadata": {},
   "source": [
    "### Create Interpolation Functions\n",
    "\n",
    "The JANAF tables give us molar enthalpies at discrete temperature values, which may or may not correspond to the adiabatic flame temperatrure of interest. The SciPy library includes a function that computes interpolated values to given data called [`interp1d()`](https://docs.scipy.org/doc/scipy/reference/generated/scipy.interpolate.interp1d.html) for 1-dimensional data.\n",
    "\n",
    "The first column for each data file is the temperature in K and the 5th column is the sensible enthalpy relative to the reference temperature. Thus, we do not need to subtract $h_k \\left(298\\,\\text{K}\\right)$ in order to find $q_{\\text{heating}}$!\n",
    "\n",
    "In Python, the colon (`:`) indicates that all of the values in that dimension should be used."
   ]
  },
  {
   "cell_type": "code",
   "execution_count": 4,
   "metadata": {},
   "outputs": [],
   "source": [
    "ch4_h_T = interp1d(ch4_data[:, 0], ch4_data[:, 4])\n",
    "o2_h_T = interp1d(o2_data[:, 0], o2_data[:, 4])\n",
    "n2_h_T = interp1d(n2_data[:, 0], n2_data[:, 4])\n",
    "co2_h_T = interp1d(co2_data[:, 0], co2_data[:, 4])\n",
    "h2o_h_T = interp1d(h2o_data[:, 0], h2o_data[:, 4])"
   ]
  },
  {
   "cell_type": "markdown",
   "metadata": {},
   "source": [
    "These functions are now callable, as a function of temperature.  We can loop through a range of temperatures and create a more densely populated table of species enthalpies. To demonstrate, let's plot the sensible enthalpy of $\\ce{CO2}$ as a function of temperature betwen 300 K and 6000 K, and shows that it accurately reproduces the JANAF data:"
   ]
  },
  {
   "cell_type": "code",
   "execution_count": 5,
   "metadata": {},
   "outputs": [
    {
     "data": {
      "image/png": "[encoded data removed]",
      "text/plain": [
       "<Figure size 432x288 with 1 Axes>"
      ]
     },
     "metadata": {
      "needs_background": "light"
     },
     "output_type": "display_data"
    }
   ],
   "source": [
    "temperatures = np.linspace(300, 6000, 100)\n",
    "h_co2 = co2_h_T(temperatures)\n",
    "\n",
    "fig, ax = plt.subplots()\n",
    "\n",
    "ax.plot(co2_data[:, 0], co2_data[:, 4], \"o\", markersize=3, label=\"JANAF\")\n",
    "ax.plot(temperatures, h_co2, label=\"Interpolated\")\n",
    "ax.set_xlabel(\"Temperature (K)\")\n",
    "ax.set_ylabel(\"Sensible enthalpy (kJ/mol)\")\n",
    "ax.legend();"
   ]
  },
  {
   "cell_type": "markdown",
   "metadata": {},
   "source": [
    "As we can see, the interpolation function provides an accurate represntation of the tabulated data.\n",
    "\n",
    "Now, let's calculate the heat released by the reaction."
   ]
  },
  {
   "cell_type": "code",
   "execution_count": 6,
   "metadata": {},
   "outputs": [
    {
     "name": "stdout",
     "output_type": "stream",
     "text": [
      "Heat of combustion = -802.30 kJ/mol.\n"
     ]
    }
   ],
   "source": [
    "q_rxn = 2 * h2o_h_f + co2_h_f - ch4_h_f - 2 * o2_h_f - 2 * 3.76 * n2_h_f\n",
    "\n",
    "print(f\"Heat of combustion = {q_rxn:.2f} kJ/mol.\")"
   ]
  },
  {
   "cell_type": "markdown",
   "metadata": {},
   "source": [
    "This energy is stored as sensible enthalpy of the products, heating the products to a higher temperature. We need to find the temperature at which the enthalpy of the products, relative to their enthalpy at the initial temperature, equals the heat of the reaction.\n",
    "\n",
    "Now we need to find the temperature at which the enthalpy of the products is equal to the heat of combustion. To find an initial guess, we can plot the enthalpy of the products as a function of temperature."
   ]
  },
  {
   "cell_type": "code",
   "execution_count": 7,
   "metadata": {},
   "outputs": [
    {
     "data": {
      "image/png": "[encoded data removed]",
      "text/plain": [
       "<Figure size 432x288 with 1 Axes>"
      ]
     },
     "metadata": {
      "needs_background": "light"
     },
     "output_type": "display_data"
    }
   ],
   "source": [
    "def h_products(T):\n",
    "    return 2 * h2o_h_T(T) + co2_h_T(T) + 2 * 3.76 * n2_h_T(T)\n",
    "\n",
    "fig_2, ax_2 = plt.subplots()\n",
    "\n",
    "ax_2.plot(temperatures, h_products(temperatures))\n",
    "ax_2.axhline(-q_rxn, color=\"C1\")\n",
    "ax_2.set_ylabel(\"Sensible Enthalpy (kJ/mol)\")\n",
    "ax_2.set_xlabel(\"Temperature (K)\");"
   ]
  },
  {
   "cell_type": "markdown",
   "metadata": {},
   "source": [
    "The intersection point is between 2,300 K and 2,400 K, which we can confirm by printing the values."
   ]
  },
  {
   "cell_type": "code",
   "execution_count": 8,
   "metadata": {},
   "outputs": [
    {
     "name": "stdout",
     "output_type": "stream",
     "text": [
      "790.3044\n",
      "834.4738\n"
     ]
    }
   ],
   "source": [
    "print(h_products(2300), h_products(2400), sep=\"\\n\")"
   ]
  },
  {
   "cell_type": "markdown",
   "metadata": {},
   "source": [
    "To find a more precise value of the temperature, we need to find the root of the function:\n",
    "\n",
    "$$q_{\\text{heating}} + q_{\\text{rxn}} = 0$$\n",
    "\n",
    "SciPy also includes a number of root finding algorithms. Since this is a well-behaved function, a simple Newton-Raphson solver will be sufficient. This is found in the [`newton()`](https://docs.scipy.org/doc/scipy/reference/generated/scipy.optimize.newton.html#scipy.optimize.newton) function, which takes the function to solve and an initial guess as arguments."
   ]
  },
  {
   "cell_type": "code",
   "execution_count": 9,
   "metadata": {},
   "outputs": [
    {
     "name": "stdout",
     "output_type": "stream",
     "text": [
      "The adiabatic flame temperature is T_ad = 2327.16 K\n"
     ]
    }
   ],
   "source": [
    "def adiabatic_temperature(T):\n",
    "    return h_products(T) + q_rxn\n",
    "\n",
    "T_ad = newton(adiabatic_temperature, 2300)\n",
    "print(f\"The adiabatic flame temperature is T_ad = {T_ad:.2f} K\")"
   ]
  },
  {
   "cell_type": "markdown",
   "metadata": {},
   "source": [
    "One advantage of this method is that it scales to work with a range of stoichiometry of the original reaction. For the reaction of methane, the equivalence ratio is twice the inverse of the stoichiometric number for oxygen. For complete combustion and fuel lean equivalence ratios, the additional oxygen is present as a product:\n",
    "\n",
    "$$\\ce{CH4 + $\\frac{2}{\\phi}$(O2 + $3.76$ N2) -> CO2 + 2 H2O + $\\frac{7.52}{\\phi}$ N2 + $\\frac{2}{\\phi}\\left(1-\\phi\\right)$ O2}$$\n",
    "\n",
    "The `newton()` function allows us to pass an array of additional arguments to the function and solve for multiple values simultaneously."
   ]
  },
  {
   "cell_type": "code",
   "execution_count": 10,
   "metadata": {},
   "outputs": [
    {
     "data": {
      "image/png": "[encoded data removed]",
      "text/plain": [
       "<Figure size 432x288 with 1 Axes>"
      ]
     },
     "metadata": {
      "needs_background": "light"
     },
     "output_type": "display_data"
    }
   ],
   "source": [
    "phis = np.linspace(0.1, 1.0, 200)\n",
    "T_guess = np.ones_like(phis) * 1000.0\n",
    "\n",
    "def ad_temp_vec(T, phis):\n",
    "    h_products = 2 * h2o_h_T(T) + co2_h_T(T) + 7.52 / phis * n2_h_T(T) + 2 / phis * (1 - phis) * o2_h_T(T)\n",
    "    return h_products + q_rxn\n",
    "\n",
    "T_ads = newton(ad_temp_vec, T_guess, args=(phis,))\n",
    "\n",
    "fig_3, ax_3 = plt.subplots()\n",
    "ax_3.plot(phis, T_ads)\n",
    "ax_3.set_xlabel(\"Equivalence Ratio (-)\")\n",
    "ax_3.set_ylabel(\"Adiabatic Flame Temperature (K)\");"
   ]
  }
 ],
 "metadata": {
  "celltoolbar": "Tags",
  "kernelspec": {
   "display_name": "Python 3",
   "language": "python",
   "name": "python3"
  },
  "language_info": {
   "codemirror_mode": {
    "name": "ipython",
    "version": 3
   },
   "file_extension": ".py",
   "mimetype": "text/x-python",
   "name": "python",
   "nbconvert_exporter": "python",
   "pygments_lexer": "ipython3",
   "version": "3.10.5"
  },
  "metadata": {
   "interpreter": {
    "hash": "87995a0f67cf0d9f9fb3ce1e4ce704a160717037b03d534624e62ba2ca0273ee"
   }
  }
 },
 "nbformat": 4,
 "nbformat_minor": 2
}
