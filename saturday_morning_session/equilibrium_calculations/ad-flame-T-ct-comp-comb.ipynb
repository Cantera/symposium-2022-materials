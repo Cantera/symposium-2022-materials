{
 "cells": [
  {
   "cell_type": "markdown",
   "id": "85b94f6c",
   "metadata": {},
   "source": [
    "$$\\require{mhchem}$$"
   ]
  },
  {
   "cell_type": "markdown",
   "id": "8c56171a",
   "metadata": {},
   "source": [
    "# Adiabatic Flame Temperature: Complete Combustion with Cantera\n",
    "\n",
    "The adiabatic flame temperature is the temperature achieved when a given fuel-oxidizer combination is combusted in a perfectly insulated reactor. If no energy is lost to the surroundings via heat transfer and the reaction occurs at constant pressure, conservation of energy dictates that the total enthalpy of the reactants is equal to the total enthalpy of the products. Defining _state 1_ as the reactants and _state 2_ as the products, we can write:\n",
    "\n",
    "$$h_{\\text{mix}, 2} = h_{\\text{mix}, 1}$$\n",
    "\n",
    "The enthalpy of the mixture has two components:\n",
    "\n",
    "1. the enthalpy of formation: $\\Delta^{\\circ}_{\\text{f}}h$ \n",
    "2. the sensible enthalpy: $h_i$\n",
    "\n",
    "To make this more concrete, let's pick a specific reaction: stoichiometric combustion of methane, $\\ce{CH4}$ with air:\n",
    "\n",
    "$$\\ce{CH4 + 2 O2 + $7.52$N2 <=> 2 H2O + CO2 + $7.52$N2}$$"
   ]
  },
  {
   "cell_type": "markdown",
   "id": "fc238768",
   "metadata": {},
   "source": [
    "From the reaction stoichiometry (note that the net stoichiometric coefficient for $\\ce{N2}$ is zero), the heat of combustion released by this reaction is:\n",
    "\n",
    "$$\\begin{aligned}q_{\\text{rxn}} &= -\\sum_k \\nu_k \\Delta^{\\circ}_{\\text{f}}h_k\\\\\n",
    "&= \\Delta^{\\circ}_{\\text{f}}h_{\\rm CH_4} + 2\\Delta^\\circ_{\\rm f}h_{\\rm O_2} - \\Delta^\\circ_{\\rm f}h_{\\rm CO_2}-2 \\Delta^\\circ_{\\rm f}h_{\\rm H_2O}\\end{aligned}$$\n",
    "\n",
    "where $\\nu_k$ is the stoichiometric coefficient of species $k$, which is positive for products and negative for reactants. By definition, the heat of reaction is released at the reference temperature.\n",
    "\n",
    "However, since the reaction must occur at constant enthalpy, the heat released must be stored in the products. In essence, the heat is used to heat the products from the initial, reference, temperature to a final temperature:\n",
    "\n",
    "$$\\begin{aligned}q_{\\text{heating}} &= \\sum_k\\nu_{\\text{prod},k}\\left[h_k\\left(T_2\\right) - h_k\\left(T_1\\right)\\right]\\\\\n",
    "&= h_{\\ce{CO2}}\\left(T_2\\right) - h_{\\ce{CO_2}}\\left(T_1\\right) + 2\\left[h_{\\ce{H2O}}\\left(T_2\\right) - h_{\\ce{H2O}}\\left(T_1\\right)\\right] + 7.52\\left[h_{\\ce{N2}}\\left(T_2\\right) - h_{\\ce{N_2}}\\left(T_1\\right)\\right]\\end{aligned}$$\n",
    "\n",
    "where, again, states 1 and 2 represent the final and initial states, respectively. $\\nu_{\\text{prod}}$ is the product stoichiometric coefficient. Note that this assumes complete combution - there are no reactant species left to heat."
   ]
  },
  {
   "cell_type": "markdown",
   "id": "29a87033",
   "metadata": {},
   "source": [
    "For a purely adiabatic reaction, we will have $q_{\\rm rxn} = q_{\\rm heating}$, and hence:\n",
    "\n",
    "$$\\sum_k\\nu_{\\text{prod},k}\\left[h_k\\left(T_2\\right) - h_k\\left(T_1\\right)\\right] + \\sum_k \\nu_k \\Delta^{\\circ}_{\\text{f}}h_k = 0$$\n",
    "\n",
    "or:\n",
    "\n",
    "$$h_{\\ce{CO2}}\\left(T_2\\right) - h_{\\ce{CO_2}}\\left(T_1\\right) + 2\\left[h_{\\ce{H2O}}\\left(T_2\\right) - h_{\\ce{H2O}}\\left(T_1\\right)\\right] + 7.52\\left[h_{\\ce{N2}}\\left(T_2\\right) - h_{\\ce{N_2}}\\left(T_1\\right)\\right] + \\Delta^{\\circ}_{\\text{f}}h_{\\rm CH_4} + 2\\Delta^\\circ_{\\rm f}h_{\\rm O_2} - \\Delta^\\circ_{\\rm f}h_{\\rm CO_2}-2 \\Delta^\\circ_{\\rm f}h_{\\rm H_2O} = 0$$\n",
    "\n",
    "Note that only a few variables are dependent on the final temperature $T_2$.  We might be tempted to write the above equation in terms of those variables, but let's hold off for now. Our next step really depends on what method we use to solve the problem. In short, we need a means of calculating the enthalpy values, so that we may determine which value of $T_2$ satisfies our adiabatic condition.  "
   ]
  },
  {
   "cell_type": "markdown",
   "id": "85a53e94",
   "metadata": {},
   "source": [
    "## Cantera\n",
    "\n",
    "We will now find the enthalpy values necessary to solve this problem using Cantera. As it happens, we do not need to explicitly find enthalpy values. Instead, we will use Cantera to solve for the equilibrium state of the mixture of reactants while constraining the number of species considered in the problem.\n",
    "\n",
    "In general, performing calculations with Cantera involves three basic steps:\n",
    "\n",
    "1. Identify or create a YAML-based input file.\n",
    "2. Create Cantera phases and set initial conditions.\n",
    "3. Run the calculation.\n",
    "\n",
    "Let's start by creating an appropriate input file."
   ]
  },
  {
   "cell_type": "markdown",
   "id": "60a443db",
   "metadata": {},
   "source": [
    "### 1. Create a Cantera Input File\n",
    "\n",
    "For equilibrium calculations, Cantera requires thermodynamic data for the species in the problem. The possible formats for these data are described on the [Cantera website](https://cantera.org/science/science-species.html#sec-thermo-models). Fortunately, it is not usually necessary to write entire Cantera input files by hand. They are often [converted](https://cantera.org/tutorials/ck2yaml-tutorial.html) from the common Chemkin format and they can reference other Cantera input files.\n",
    "\n",
    "Cantera 2.5 introduces a new format for the input files referred to as _YAML format_. YAML stands for [YAML Ain't Markup Language](https://yaml.org/) and is a general purpose, declarative data file format. There are two main structures in a YAML file:\n",
    "\n",
    "1. **Mappings** associate a _key_ with a _value_\n",
    "2. **Arrays** collect multiple data into a single _value_"
   ]
  },
  {
   "cell_type": "markdown",
   "id": "f6c85440",
   "metadata": {},
   "source": [
    "<div class=\"alert alert-info\" role=\"alert\">\n",
    "    \n",
    "**Note:** These two structures are similar to the Python dictionary and list data types, respectively.\n",
    "\n",
    "</div>"
   ]
  },
  {
   "cell_type": "markdown",
   "id": "be2d8b64",
   "metadata": {},
   "source": [
    "More information about the YAML syntax is available in [Cantera's documentation](https://cantera.org/tutorials/yaml/yaml-format.html). In Cantera, valid input files _must_ have a mapping with the **key** `phases`. The **value** of this mapping is an array of phase definitions, which tell Cantera where to find thermodynamic, chemical kinetic, and transport information for each species and reaction in your system.\n",
    "\n",
    "In this problem, we need thermodynamic data for $\\ce{CH4}$, $\\ce{O2}$, $\\ce{N2}$, $\\ce{CO2}$, and $\\ce{H2O}$. The data for these species can all be found in the GRI-3.0 reaction mechanism. You are going to create a YAML input file that imports the thermodynamic data for these species from GRI-3.0. The advantage of this approach is that you can restrict the species to be exactly the five we are interested, rather than _all_ the species from GRI-3.0."
   ]
  },
  {
   "cell_type": "code",
   "execution_count": 2,
   "id": "f43d1b80",
   "metadata": {
    "tags": [
     "deliberately-not-cleaned"
    ]
   },
   "outputs": [
    {
     "data": {
      "text/plain": [
       "108"
      ]
     },
     "execution_count": 2,
     "metadata": {},
     "output_type": "execute_result"
    }
   ],
   "source": [
    "from pathlib import Path\n",
    "\n",
    "yaml_input = \"\"\"\n",
    "phases:\n",
    "- name: methane-air\n",
    "  thermo: ideal-gas\n",
    "  species:\n",
    "  - gri30.yaml/species: [CH4, O2, H2O, N2, CO2]\n",
    "\"\"\"\n",
    "\n",
    "Path(\"input-files/methane.yaml\").write_text(yaml_input);"
   ]
  },
  {
   "cell_type": "markdown",
   "id": "3f440dea",
   "metadata": {},
   "source": [
    "This string defines one phase with the name `methane-air` and thermodynamics modeled as an ideal gas. We have chosen to load data for each species from mapping with the key `species` in the `gri30.yaml` file. This file is included with Cantera, but you could use any input file that you develop to load species data.\n",
    "\n",
    "Species can also be defined in the same file as the phase definition. This is usually done when converting from other formats.\n",
    "\n",
    "On the last line, the text in the `yaml_input` variable is written to a file called `methane.yaml`."
   ]
  },
  {
   "cell_type": "markdown",
   "id": "c2da1394",
   "metadata": {},
   "source": [
    "### 2. Create Cantera phases and set initial conditions\n",
    "\n",
    "We now have an input file named `methane.yaml`. Following step 2 of the procedure, we have to create the phase in Python.\n",
    "\n",
    "First, we have to tell Python where it can find Cantera by using an `import` statement. Then, we create a Cantera `Solution`."
   ]
  },
  {
   "cell_type": "code",
   "execution_count": 3,
   "id": "66999a7a",
   "metadata": {
    "tags": [
     "clean"
    ]
   },
   "outputs": [
    {
     "name": "stdout",
     "output_type": "stream",
     "text": [
      "2.5.1\n"
     ]
    }
   ],
   "source": [
    "import cantera as ct\n",
    "print(ct.__version__)\n",
    "\n",
    "gas = ct.Solution('input-files/methane.yaml')"
   ]
  },
  {
   "cell_type": "markdown",
   "id": "e82685a4",
   "metadata": {},
   "source": [
    "You now have Cantera `Solution` with the Python variable name `gas`, representing an ideal gas phase object.\n",
    "\n",
    "We next want to set the initial conditions using the temperature, pressure, and mole fractions:\n",
    "\n",
    "1. Temperature: 298.15 K\n",
    "2. Stoichiometric mixture of methane and air: 1 mole of $\\ce{CH4}$ to 2 moles of ($\\ce{O2 + $3.76$ N2}$)\n",
    "3. Pressure: 1 atmosphere\n",
    "\n",
    "To do this, we will use the `TPX` property. This lets you set temperature, pressure, and mole fractions simultaneously. The syntax looks like this:\n",
    "\n",
    "```python\n",
    "gas.TPX = T_1, P_1, X_1\n",
    "```\n",
    "\n",
    "where `T_1`, `P_1`, and `X_1` are variables we create to specify the relevant values.  \n",
    "\n",
    "Temperature and pressure are relatively straightforwad: we set the numerical values in units of K and Pa, respectively. For pressure, Cantera includes a property called `one_atm` that has the value of one standard atmosphere in Pa."
   ]
  },
  {
   "cell_type": "code",
   "execution_count": 4,
   "id": "fd8739e6",
   "metadata": {
    "tags": [
     "clean"
    ]
   },
   "outputs": [
    {
     "name": "stdout",
     "output_type": "stream",
     "text": [
      "101325.0\n"
     ]
    }
   ],
   "source": [
    "T_1 = 298.15  # K\n",
    "P_1 = ct.one_atm  # Pa\n",
    "print(P_1)"
   ]
  },
  {
   "cell_type": "markdown",
   "id": "dd627013",
   "metadata": {},
   "source": [
    "For the mole fraction values, we have two options:\n",
    "\n",
    "1. an array of mole fractions, in the exact order specified in the input file\n",
    "2. a string that specifies the mole fractions of individual species, in any order\n",
    "\n",
    "For either option, Cantera's default behavior is to normalize the values so that the sum of all mole fractions equals one, so that only the relative values matter.\n",
    "\n",
    "We will choose the second option, where the species names and mole fractions are separated by a colon, and entries for each species are separated by commas. This way, we don't have to remember the order of the species in the input file:"
   ]
  },
  {
   "cell_type": "code",
   "execution_count": 5,
   "id": "98a78a35",
   "metadata": {
    "tags": [
     "clean"
    ]
   },
   "outputs": [],
   "source": [
    "X_1 = \"CH4:1, O2:2, N2:7.52\"\n",
    "\n",
    "gas.TPX = T_1, P_1, X_1"
   ]
  },
  {
   "cell_type": "markdown",
   "id": "7f97b57a",
   "metadata": {},
   "source": [
    "We can verify that we set the state as intended by printing out the state of the `gas` object:"
   ]
  },
  {
   "cell_type": "code",
   "execution_count": 6,
   "id": "a75a6ea1",
   "metadata": {
    "tags": [
     "clean"
    ]
   },
   "outputs": [
    {
     "name": "stdout",
     "output_type": "stream",
     "text": [
      "\n",
      "  methane-air:\n",
      "\n",
      "       temperature   298.15 K\n",
      "          pressure   1.0132e+05 Pa\n",
      "           density   1.1295 kg/m^3\n",
      "  mean mol. weight   27.633 kg/kmol\n",
      "   phase of matter   gas\n",
      "\n",
      "                          1 kg             1 kmol     \n",
      "                     ---------------   ---------------\n",
      "          enthalpy       -2.5658e+05       -7.0902e+06  J\n",
      "   internal energy       -3.4629e+05       -9.5691e+06  J\n",
      "           entropy              7241         2.001e+05  J/K\n",
      "    Gibbs function       -2.4155e+06       -6.6749e+07  J\n",
      " heat capacity c_p            1076.9             29759  J/K\n",
      " heat capacity c_v            776.02             21444  J/K\n",
      "\n",
      "                      mass frac. Y      mole frac. X     chem. pot. / RT\n",
      "                     ---------------   ---------------   ---------------\n",
      "               CH4          0.055187          0.095057           -54.862\n",
      "                O2           0.22014           0.19011           -26.334\n",
      "                N2           0.72467           0.71483           -23.369\n",
      "     [   +2 minor]                 0                 0  \n",
      "\n"
     ]
    }
   ],
   "source": [
    "gas()"
   ]
  },
  {
   "cell_type": "markdown",
   "id": "22d6d7c2",
   "metadata": {},
   "source": [
    "From this, we can see that the temperature and pressure are set appropriately. Cantera has automatically calculated the mixture properties using the thermodynamic data in the input file.\n",
    "\n",
    "Now let's store the initial enthalpy and initial pressure for later verification."
   ]
  },
  {
   "cell_type": "code",
   "execution_count": 7,
   "id": "4affabb0",
   "metadata": {
    "tags": [
     "clean"
    ]
   },
   "outputs": [],
   "source": [
    "h_1 = gas.h\n",
    "P_1 = gas.P"
   ]
  },
  {
   "cell_type": "markdown",
   "id": "2f369094",
   "metadata": {},
   "source": [
    "### 3. Run the calcualtion\n",
    "\n",
    "Finally, the adiabatic flame temperature is found by equilibrating the initial mixture. Recall that the adiabatic flame temperature is defined such that enthalpy and pressure are held constant during the reaction. Therefore, you have to tell Cantera that these are the values which should be held constant in the equilbrium solver.\n",
    "\n",
    "To equilibrate a `Solution`, you can use the `equilibrate()` method. This method takes one argument, a string of two characters, which should be the properties to be held constant."
   ]
  },
  {
   "cell_type": "code",
   "execution_count": 8,
   "id": "101b32b0",
   "metadata": {
    "tags": [
     "clean"
    ]
   },
   "outputs": [],
   "source": [
    "gas.equilibrate(\"HP\")"
   ]
  },
  {
   "cell_type": "markdown",
   "id": "67bef73c",
   "metadata": {},
   "source": [
    "Now the thermodynamic state of the mixture is at the equlibrium condition. We can confirm that the enthalpy and pressure have been held constant:"
   ]
  },
  {
   "cell_type": "code",
   "execution_count": 9,
   "id": "f11baf4d",
   "metadata": {
    "tags": [
     "clean"
    ]
   },
   "outputs": [
    {
     "name": "stdout",
     "output_type": "stream",
     "text": [
      "The enthalpy difference is: 2.6028137654066086e-06 J/kg\n",
      "The pressure difference is: -7.712384103797376e-06 Pa\n"
     ]
    }
   ],
   "source": [
    "h_2 = gas.h\n",
    "P_2 = gas.P\n",
    "\n",
    "print(f\"The enthalpy difference is: {h_1 - h_2} J/kg\")\n",
    "print(f\"The pressure difference is: {P_1 - P_2} Pa\")"
   ]
  },
  {
   "cell_type": "markdown",
   "id": "014d30ce",
   "metadata": {},
   "source": [
    "These values are very nearly zero, so the required condition is satisfied. The adiabatic flame temperature is the temperature associated with the equlibrated object:"
   ]
  },
  {
   "cell_type": "code",
   "execution_count": 10,
   "id": "cadc5f04",
   "metadata": {
    "tags": [
     "clean"
    ]
   },
   "outputs": [
    {
     "name": "stdout",
     "output_type": "stream",
     "text": [
      "The adiabatic flame temperature is T_ad = 2325.60 K\n"
     ]
    }
   ],
   "source": [
    "T_ad = gas.T\n",
    "print(f\"The adiabatic flame temperature is T_ad = {T_ad:.2f} K\")"
   ]
  },
  {
   "cell_type": "markdown",
   "id": "cdcc77be",
   "metadata": {},
   "source": [
    "We may also be interested in the equilibrium mole fractions. We expect that the equilbrium composition should be made entirely of the reaction products, $\\ce{CO2}$, $\\ce{H2O}$, and $\\ce{N2}$."
   ]
  },
  {
   "cell_type": "code",
   "execution_count": 11,
   "id": "dfecbf63",
   "metadata": {
    "tags": [
     "clean"
    ]
   },
   "outputs": [
    {
     "name": "stdout",
     "output_type": "stream",
     "text": [
      "{'CH4': 1.0881481710433403e-07, 'CO2': 0.09505692540341804, 'H2O': 0.19011385081452406, 'N2': 0.7148288973371203, 'O2': 2.1763012039398762e-07}\n"
     ]
    }
   ],
   "source": [
    "print(gas.mole_fraction_dict())"
   ]
  },
  {
   "cell_type": "markdown",
   "id": "b3971a43",
   "metadata": {},
   "source": [
    "Note that not _all_ of the methane and oxygen are consumed in this equilibrium calculation. However, values on the order of $10^{-7}$ or 0.1 ppm are negligible for most practical purposes.\n",
    "\n",
    "As expected, the mole fraction of $\\ce{N2}$ is nearly constant since it is not participating in any reactions."
   ]
  }
 ],
 "metadata": {
  "celltoolbar": "Tags",
  "kernelspec": {
   "display_name": "Python 3",
   "language": "python",
   "name": "python3"
  },
  "language_info": {
   "codemirror_mode": {
    "name": "ipython",
    "version": 3
   },
   "file_extension": ".py",
   "mimetype": "text/x-python",
   "name": "python",
   "nbconvert_exporter": "python",
   "pygments_lexer": "ipython3",
   "version": "3.9.4"
  }
 },
 "nbformat": 4,
 "nbformat_minor": 5
}
