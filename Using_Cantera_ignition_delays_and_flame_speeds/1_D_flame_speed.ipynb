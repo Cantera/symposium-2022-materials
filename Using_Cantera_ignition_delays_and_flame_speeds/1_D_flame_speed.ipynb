{
 "cells": [
  {
   "cell_type": "markdown",
   "id": "ab73f17b",
   "metadata": {},
   "source": [
    "# Flame Speed"
   ]
  },
  {
   "cell_type": "markdown",
   "id": "3f3c08f2",
   "metadata": {},
   "source": [
    "In this example we simulate a freely-propagating, adiabatic, 1-D flame and\n",
    "* Calculate its laminar burning velocity\n",
    "* Perform a sensitivity analysis of its kinetics\n",
    "\n",
    "The figure below illustrates the setup, in a flame-fixed coordinate system. The reactants enter with density $\\rho_{u}$, temperature $T_{u}$ and speed $S_{u}$. The products exit the flame at speed $S_{b}$, density $\\rho_{b}$ and temperature $T_{b}$."
   ]
  },
  {
   "cell_type": "markdown",
   "id": "b69a5abd",
   "metadata": {},
   "source": [
    "<img src=\"./images/flameSpeed.png\" alt=\"Freely Propagating Flame\" style=\"width: 300px;\"/>"
   ]
  },
  {
   "cell_type": "code",
   "execution_count": 157,
   "id": "59a1f855",
   "metadata": {},
   "outputs": [],
   "source": [
    "# Add python code here"
   ]
  },
  {
   "cell_type": "markdown",
   "id": "aa2f4c93",
   "metadata": {},
   "source": [
    "## Cantera Simulation Steps\n",
    "\n",
    "Most Cantera simulations are accomplished by three steps:\n",
    "\n",
    "1. Create a phase from an input file\n",
    "2. Set boundary/input conditions\n",
    "3. Run the simulation\n",
    "\n",
    "In the case of an adiabatic free flame, Cantera has a built-in model to quickly calculate flame speeds."
   ]
  },
  {
   "cell_type": "markdown",
   "id": "25517f27",
   "metadata": {},
   "source": [
    "### Define the reactant conditions, gas mixture and kinetic mechanism associated with the gas"
   ]
  },
  {
   "cell_type": "code",
   "execution_count": 158,
   "id": "057dfe90",
   "metadata": {},
   "outputs": [],
   "source": [
    "# Add python code here"
   ]
  },
  {
   "cell_type": "markdown",
   "id": "0b037b14",
   "metadata": {},
   "source": [
    "### Define flame simulation conditions"
   ]
  },
  {
   "cell_type": "code",
   "execution_count": 159,
   "id": "e86c7e1e",
   "metadata": {},
   "outputs": [],
   "source": [
    "# Add python code here"
   ]
  },
  {
   "cell_type": "markdown",
   "id": "e6fc39d5",
   "metadata": {},
   "source": [
    "### Run the simulation\n",
    "\n",
    "With the input conditions set, we need to create the appropriate flame object and run the simulation. The `FreeFlame` class can take either an array of grid points or a width. Specifying the width is preferred and Cantera will automatically set and refine a grid in the simulation."
   ]
  },
  {
   "cell_type": "code",
   "execution_count": 160,
   "id": "a1fad8f9",
   "metadata": {},
   "outputs": [],
   "source": [
    "# Add python code here"
   ]
  },
  {
   "cell_type": "code",
   "execution_count": 161,
   "id": "c34977b1",
   "metadata": {},
   "outputs": [],
   "source": [
    "# Add python code here"
   ]
  },
  {
   "cell_type": "markdown",
   "id": "0d01b691",
   "metadata": {},
   "source": [
    "With 1-D flames, we need to consider species and energy transport by convection and diffusion. For species diffusion, there are several ways of calculating the binary diffusion coefficient of every pair of species. The simpler assumption is that the species is diffusing into an average mixture. The more complicated, but more accurate, assumption is to calculate the multi-component diffusion coefficients.\n",
    "\n",
    "In this example, we are using the mixture-average assumption, with the `\"Mix\"` keyword. Using the `\"Multi\"` solution can substantially increase the time it takes to reach a solution.\n",
    "\n",
    "However, you can start by solving the system with the mixture-average assumption and switch to the multicomponent assumption after a good initial solution has already been achieved."
   ]
  },
  {
   "cell_type": "code",
   "execution_count": 162,
   "id": "2dc1d644",
   "metadata": {},
   "outputs": [],
   "source": [
    "# Add python code here"
   ]
  },
  {
   "cell_type": "markdown",
   "id": "6aa2a758",
   "metadata": {},
   "source": [
    "The auto option in the solve function tries to \"automatically\" solve the flame by applying a few common techniques. First, the flame is solved on a sparse grid with the transport calculations set to mixture averaged. Then grid refinement is enabled, with points added according to the values of the ratio, slope, and curve parameters in the set_refine_criteria function. If the initial solve on the sparse grid fails to converge, the simulation is attempted again, but this time with the energy equation disabled. Once the simulation has been solved on the refined grid with the mixture averaged transport, Cantera enables the multicomponent transport and Soret diffusion, if they have been set by the user.\n",
    "\n",
    "In general, it is recommended that you use the auto option the first time you run the solver, unless the simulation fails. On subsequent invocations of solve, you should not include the auto option (or set it to False)."
   ]
  },
  {
   "cell_type": "code",
   "execution_count": 163,
   "id": "0a08052c",
   "metadata": {},
   "outputs": [],
   "source": [
    "# Add python code here"
   ]
  },
  {
   "cell_type": "markdown",
   "id": "97401d46",
   "metadata": {},
   "source": [
    "Cantera can automatically refine the solution grid to meet certain criteria. "
   ]
  },
  {
   "cell_type": "code",
   "execution_count": 164,
   "id": "166c4895",
   "metadata": {},
   "outputs": [],
   "source": [
    "# Add python code here"
   ]
  },
  {
   "cell_type": "markdown",
   "id": "70303bf0",
   "metadata": {},
   "source": [
    "The four refinement parameters are `ratio`, `slope`, `curve`, and `prune`.\n",
    "\n",
    "   * `ratio` limits the maximum distance between two grid points\n",
    "   * `slope` adds grid points where the first derivative of the solution exceeds the threshold\n",
    "   * `curve` adds grid points where the second derivative of the solution exceeds the threshold\n",
    "   * `prune` will remove unnesseccary grid points in regions where the solution is over-refined (setting prune to 0.0 will preserve all solution points)\n"
   ]
  },
  {
   "cell_type": "code",
   "execution_count": 165,
   "id": "a0a6a13a",
   "metadata": {},
   "outputs": [],
   "source": [
    "# Add python code here"
   ]
  },
  {
   "cell_type": "markdown",
   "id": "285164dd",
   "metadata": {},
   "source": [
    "Cantera's 1-D solver can produce several levels of output, depending on how much detail you want to see. If you're pretty sure a solution is going to work, then a `loglevel` of 0 (no output) or 1 (minimal output) will be appropriate. If a case is failing, you can increase `loglevel` up to a maximum of 8 to have more and more output from each solution step."
   ]
  },
  {
   "cell_type": "code",
   "execution_count": 166,
   "id": "c59bd9c9",
   "metadata": {},
   "outputs": [],
   "source": [
    "# Add python code here"
   ]
  },
  {
   "cell_type": "markdown",
   "id": "62007b0a",
   "metadata": {},
   "source": [
    "Create a new flame object and set a higher refinement criteria to observe the difference in solution time and flamespeed."
   ]
  },
  {
   "cell_type": "code",
   "execution_count": 167,
   "id": "a435e6c8",
   "metadata": {},
   "outputs": [],
   "source": [
    "# Add python code here"
   ]
  },
  {
   "cell_type": "markdown",
   "id": "9db769c9",
   "metadata": {},
   "source": [
    "Set the new refinement criteria and solve."
   ]
  },
  {
   "cell_type": "code",
   "execution_count": 168,
   "id": "23f81d19",
   "metadata": {},
   "outputs": [],
   "source": [
    "# Add python code here"
   ]
  },
  {
   "cell_type": "markdown",
   "id": "06e67093",
   "metadata": {},
   "source": [
    "### Plot figures\n",
    "\n",
    "Check and see if all has gone well. Plot temperature and species fractions to see. We expect that the solution at the boundaries of the domain will have zero gradient (in other words, that the domain width that we specified is wide enough for the flame). Notice that Cantera automatically expanded the domain from 2 cm to 4 cm to accommodate the flame thickness."
   ]
  },
  {
   "cell_type": "markdown",
   "id": "b710d748",
   "metadata": {},
   "source": [
    "#### Temperature Plot"
   ]
  },
  {
   "cell_type": "code",
   "execution_count": 169,
   "id": "a2af4de6",
   "metadata": {
    "scrolled": false
   },
   "outputs": [],
   "source": [
    "# Add python code here"
   ]
  },
  {
   "cell_type": "markdown",
   "id": "6e992062",
   "metadata": {},
   "source": [
    "#### Major species plot"
   ]
  },
  {
   "cell_type": "code",
   "execution_count": 170,
   "id": "83f051bb",
   "metadata": {
    "scrolled": false
   },
   "outputs": [],
   "source": [
    "# Add python code here"
   ]
  },
  {
   "cell_type": "markdown",
   "id": "8a778be5",
   "metadata": {},
   "source": [
    "#### Comparing Refinement Levels"
   ]
  },
  {
   "cell_type": "code",
   "execution_count": 171,
   "id": "64b9ed70",
   "metadata": {
    "scrolled": false
   },
   "outputs": [],
   "source": [
    "# Add python code here"
   ]
  },
  {
   "cell_type": "markdown",
   "id": "05125d78",
   "metadata": {},
   "source": [
    "## Sensitivity analysis\n",
    "Compute normalized sensitivities of flame speed $S_u$ to changes in the rate coefficient $k_i$ for each reaction\n",
    "$$s_i = \\frac{k_i}{S_u} \\frac{d S_u}{d k_i}$$\n",
    "\n",
    "Note that this will be much slower when multicomponent or Soret diffusion are turned on."
   ]
  },
  {
   "cell_type": "code",
   "execution_count": 172,
   "id": "8c89e1bb",
   "metadata": {},
   "outputs": [],
   "source": [
    "# Add python code here"
   ]
  },
  {
   "cell_type": "code",
   "execution_count": 173,
   "id": "d53cb79c",
   "metadata": {},
   "outputs": [],
   "source": [
    "# Add python code here"
   ]
  },
  {
   "cell_type": "code",
   "execution_count": 174,
   "id": "0b25992b",
   "metadata": {},
   "outputs": [],
   "source": [
    "# Add python code here"
   ]
  },
  {
   "cell_type": "markdown",
   "id": "db0d2b3c",
   "metadata": {},
   "source": [
    "## Solving multiple flames (parameter sweep) \n",
    "\n",
    "Cantera also makes it easy to re-use solutions from previous flames to compute conditions for a similar flame. This is very useful when doing a parameter sweep. In this case, we are going to sweep over a range of equivalence ratios. We will start at the lower limit of the equivalence ratio range we are interested in, 0.6."
   ]
  },
  {
   "cell_type": "code",
   "execution_count": 175,
   "id": "dd2d730e",
   "metadata": {},
   "outputs": [],
   "source": [
    "# Add python code here"
   ]
  },
  {
   "cell_type": "markdown",
   "id": "4e927b52",
   "metadata": {},
   "source": [
    "In the grid refinement criteria, it is important that we add one more condition, `prune`. This parameter controls when grid points can be removed from the simulation. Since we are conducting a sweep of equivalence ratios here, we expect the flame thickness to vary so that the number of grid points necessary will vary as well. Without `prune`, the number of grid points could never decrease and it would slow down some of the solutions."
   ]
  },
  {
   "cell_type": "code",
   "execution_count": 176,
   "id": "9e077eee",
   "metadata": {},
   "outputs": [],
   "source": [
    "# Add python code here"
   ]
  },
  {
   "cell_type": "markdown",
   "id": "12108a0f",
   "metadata": {},
   "source": [
    "Now we will solve the flame. For this first case, we are going to set `auto=True`."
   ]
  },
  {
   "cell_type": "code",
   "execution_count": 177,
   "id": "e128297c",
   "metadata": {},
   "outputs": [],
   "source": [
    "# Add python code here"
   ]
  },
  {
   "cell_type": "markdown",
   "id": "9ddd2290",
   "metadata": {},
   "source": [
    "Now we will construct the range of equivalence ratios to loop over. Notice that the rest of these solutions are conducted with `auto=False`, since we are starting from a known-good solution."
   ]
  },
  {
   "cell_type": "code",
   "execution_count": 178,
   "id": "d6816543",
   "metadata": {},
   "outputs": [],
   "source": [
    "# Add python code here"
   ]
  },
  {
   "cell_type": "code",
   "execution_count": 179,
   "id": "9dd687aa",
   "metadata": {},
   "outputs": [],
   "source": [
    "# Add python code here"
   ]
  },
  {
   "cell_type": "markdown",
   "id": "7c860484",
   "metadata": {},
   "source": [
    "## Challenge question: Evaluating NO<sub>x</sub> formation for freely propagating flames\n",
    "Nitrogen oxides or NO<sub>x</sub> is a unavoidable pollutant for any combustion device that uses air as an oxidizer. NO<sub>x</sub> refers to two nitrogen compounds:\n",
    " * NO<sub>2</sub>: yellow/brown corrosive, toxic gas responsible for photochemical smog and ozone depletion\n",
    " * NO: A toxic gas which reacts with ozone to produce NO<sub>2</sub>\n",
    " \n",
    "NO<sub>x</sub> is essentially unavoidable in any combustion system that uses air as an oxidizer, as the presence of oxygen and nitrogen at high temperatures will produce NO<sub>x</sub>. When designing a combustion device, care must be taken to minimize the amount of NO<sub>x</sub> formed, and NO<sub>x</sub> emissions are heavily regulated.\n",
    "\n",
    "To better understand how to mitigate NO<sub>x</sub> formation, and to test your skills learned in this lesson, write a code that will record and plot the NO and NO<sub>2</sub> mole fractions at the outlet from your combustor (the final point in your flame solution). Continue to use methane as fuel and air as the oxidizer, as well as the GRI 3.0 chemical kinetics model. In particular, you should evaluate the effect of varying:\n",
    " * Equivalence ratio\n",
    " * Ambient pressure Po\n",
    " * Fresh fuel/oxidizer mixture temperature To\n",
    " \n",
    "# Bonus\n",
    "Extend your code to also consider the effect of residence time on mole fractions of NO and NO<sub>2</sub>\n",
    "\n",
    "Hints:\n",
    " * Residence time can be calculated from flame.grid and flame.velocity\n",
    " * Make the solution domain larger to allow for longer residence times"
   ]
  },
  {
   "cell_type": "code",
   "execution_count": null,
   "id": "a3a87d9b",
   "metadata": {},
   "outputs": [],
   "source": []
  }
 ],
 "metadata": {
  "kernelspec": {
   "display_name": "Python 3 (ipykernel)",
   "language": "python",
   "name": "python3"
  },
  "language_info": {
   "codemirror_mode": {
    "name": "ipython",
    "version": 3
   },
   "file_extension": ".py",
   "mimetype": "text/x-python",
   "name": "python",
   "nbconvert_exporter": "python",
   "pygments_lexer": "ipython3",
   "version": "3.9.12"
  }
 },
 "nbformat": 4,
 "nbformat_minor": 5
}
