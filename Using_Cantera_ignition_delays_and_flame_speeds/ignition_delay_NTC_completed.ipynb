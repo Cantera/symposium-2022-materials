{
 "cells": [
  {
   "cell_type": "markdown",
   "id": "79511194",
   "metadata": {},
   "source": [
    "# Batch Reactor Example\n",
    "## Ignition delay computation\n",
    "\n",
    "In this example we will illustrate how to setup and use a constant volume batch reactor. This reactor will then be used to compute the ignition delay of a gas at any temperature and pressure\n",
    "\n",
    "The reactor (system) is simply an insulated box."
   ]
  },
  {
   "cell_type": "code",
   "execution_count": 27,
   "id": "1762645e",
   "metadata": {},
   "outputs": [
    {
     "name": "stdout",
     "output_type": "stream",
     "text": [
      "Using Cantera version 2.5.1\n"
     ]
    }
   ],
   "source": [
    "import cantera as ct\n",
    "import numpy as np\n",
    "import matplotlib.pyplot as plt\n",
    "\n",
    "print(f\"Using Cantera version {ct.__version__}\")"
   ]
  },
  {
   "cell_type": "markdown",
   "id": "b87ea2a5",
   "metadata": {},
   "source": [
    "## Cantera Simulation Procedure\n",
    "\n",
    "In all Cantera simulations, there are three main steps:\n",
    "\n",
    "1. Create the phase object from an input file\n",
    "2. Set the initial/boundary conditions\n",
    "3. Run the simulation\n",
    "\n",
    "In the case of a batch reactor, Cantera includes several built-in reactor models to calculate the energy and species equations subject to either constant volume or constant pressure conditions."
   ]
  },
  {
   "cell_type": "markdown",
   "id": "f9cd6002",
   "metadata": {},
   "source": [
    "### Define the gas\n",
    "\n",
    "First, we have to define the phase.\n",
    "\n",
    "In this example we will choose n-heptane as the gas. For a representative kinetic model, we use the 160 species [mechanism](https://combustion.llnl.gov/archived-mechanisms/alkanes/heptane-reduced-mechanism) by [Seier et al. 2000, Proc. Comb. Inst](http://dx.doi.org/10.1016/S0082-0784&#40;00&#41;80610-4). "
   ]
  },
  {
   "cell_type": "code",
   "execution_count": 28,
   "id": "dad41092",
   "metadata": {},
   "outputs": [
    {
     "name": "stdout",
     "output_type": "stream",
     "text": [
      "CanteraWarning: NasaPoly2::validate: \n",
      "For species c7h15o-1, discontinuity in h/RT detected at Tmid = 1391.0\n",
      "\tValue computed using low-temperature polynomial:  21.83428060093267\n",
      "\tValue computed using high-temperature polynomial: 21.76699500201913\n",
      "\n",
      "\n",
      "  gas:\n",
      "\n",
      "       temperature   300 K\n",
      "          pressure   1.0133e+05 Pa\n",
      "           density   1.138 kg/m^3\n",
      "  mean mol. weight   28.014 kg/kmol\n",
      "   phase of matter   gas\n",
      "\n",
      "                          1 kg             1 kmol     \n",
      "                     ---------------   ---------------\n",
      "          enthalpy              1971             55214  J\n",
      "   internal energy            -87068       -2.4391e+06  J\n",
      "           entropy            6842.7        1.9169e+05  J/K\n",
      "    Gibbs function       -2.0508e+06       -5.7452e+07  J\n",
      " heat capacity c_p            1037.9             29075  J/K\n",
      " heat capacity c_v            741.09             20761  J/K\n",
      "\n",
      "                      mass frac. Y      mole frac. X     chem. pot. / RT\n",
      "                     ---------------   ---------------   ---------------\n",
      "                n2                 1                 1           -23.033\n",
      "     [ +159 minor]                 0                 0  \n",
      "\n"
     ]
    }
   ],
   "source": [
    "# Define the gas mixture and kinetics\n",
    "gas = ct.Solution('data/seiser.yaml')\n",
    "gas()"
   ]
  },
  {
   "cell_type": "markdown",
   "id": "adb1f6d8",
   "metadata": {},
   "source": [
    "### Define reactor conditions: temperature, pressure, fuel, stoichiometry\n",
    "\n",
    "Next, we need to define initial conditions. We will choose a temperature of 1000 K, pressure of 1 atm, and equivalence ratio of 1.0. Remember to set the composition before the temperature and pressure."
   ]
  },
  {
   "cell_type": "code",
   "execution_count": 29,
   "id": "d66c1b60",
   "metadata": {},
   "outputs": [
    {
     "name": "stdout",
     "output_type": "stream",
     "text": [
      "\n",
      "  gas:\n",
      "\n",
      "       temperature   1000 K\n",
      "          pressure   1.0132e+05 Pa\n",
      "           density   0.36789 kg/m^3\n",
      "  mean mol. weight   30.188 kg/kmol\n",
      "   phase of matter   gas\n",
      "\n",
      "                          1 kg             1 kmol     \n",
      "                     ---------------   ---------------\n",
      "          enthalpy        7.1647e+05        2.1629e+07  J\n",
      "   internal energy        4.4105e+05        1.3314e+07  J\n",
      "           entropy              8152        2.4609e+05  J/K\n",
      "    Gibbs function       -7.4355e+06       -2.2447e+08  J\n",
      " heat capacity c_p            1316.7             39749  J/K\n",
      " heat capacity c_v            1041.3             31434  J/K\n",
      "\n",
      "                      mass frac. Y      mole frac. X     chem. pot. / RT\n",
      "                     ---------------   ---------------   ---------------\n",
      "                n2           0.71929           0.77511           -25.105\n",
      "                o2           0.21851           0.20615           -28.134\n",
      "            nc7h16          0.062207          0.018741           -92.735\n",
      "     [ +157 minor]                 0                 0  \n",
      "\n"
     ]
    }
   ],
   "source": [
    "reactor_temperature = 1000 # Kelvin\n",
    "reactor_pressure = 101325 # Pascals\n",
    "\n",
    "gas.set_equivalence_ratio(phi=1.0, fuel=\"nc7h16\", oxidizer={\"o2\": 1.0, \"n2\": 3.76})\n",
    "gas.TP = reactor_temperature, reactor_pressure\n",
    "\n",
    "gas()"
   ]
  },
  {
   "cell_type": "markdown",
   "id": "376f7cde",
   "metadata": {},
   "source": [
    "### Run the simulation\n",
    "\n",
    "The third step in the process is usually the most complicated. Cantera provides 4 homogeneous reactor classes:\n",
    "\n",
    "| | Any Equation Of State | Ideal Gas Equation Of State |\n",
    "|-|-|-|\n",
    "| Constant Volume | `Reactor` | `IdealGasReactor` |\n",
    "| Constant Pressure | `ConstPressureReactor` | `IdealGasConstPressureReactor` |\n",
    "\n",
    "In this example, the fuel is an ideal gas and we want to model constant volume combustion, so we choose the `IdealGasReactor`."
   ]
  },
  {
   "cell_type": "code",
   "execution_count": 30,
   "id": "472c012a",
   "metadata": {},
   "outputs": [],
   "source": [
    "reactor = ct.IdealGasReactor(contents=gas)"
   ]
  },
  {
   "cell_type": "markdown",
   "id": "6a3ea00a",
   "metadata": {},
   "source": [
    "Cantera supports arbitrary _networks_ of reactors that can be connected together by flow control devices. The network of reactors has to be inserted into a `ReactorNetwork` to handle the integration. All of the `Reactor`s added to a `ReactorNetwork` are integrated simultaneously! In this case, we have only the one `reactor`."
   ]
  },
  {
   "cell_type": "code",
   "execution_count": 31,
   "id": "1b6a83d8",
   "metadata": {},
   "outputs": [],
   "source": [
    "reactor_network = ct.ReactorNet([reactor])"
   ]
  },
  {
   "cell_type": "markdown",
   "id": "df5f1f51",
   "metadata": {},
   "source": [
    "Last, we'd like a data structure to store the data from the time integration. Cantera has a useful data structure called the `SolutionArray` which is an array of `Solution` objects. `SolutionArray`s can also store \"extra\" data, such as the integration time."
   ]
  },
  {
   "cell_type": "code",
   "execution_count": 32,
   "id": "745829f8",
   "metadata": {},
   "outputs": [],
   "source": [
    "time_history = ct.SolutionArray(gas, extra=\"t\")"
   ]
  },
  {
   "cell_type": "markdown",
   "id": "4d100eec",
   "metadata": {},
   "source": [
    "Now all the problem setup is done and we have to perform the integration. This is done by one of 3 methods:\n",
    "\n",
    "1. `step()`: Take one timestep, with the size determined by the CVODES integrator\n",
    "2. `advance(time)`: Take many adaptively-sized timesteps until the `time` is reached\n",
    "3. `advance_to_steady_state()`: Take many adaptively-sized timesteps until the system reaches steady state\n",
    "\n",
    "We will use `step()` here to record data at every time step so that we can have a good resolution to calculate the ignition delay. Integration proceeds until the reactor network time is greater than an estimated ignition delay time."
   ]
  },
  {
   "cell_type": "code",
   "execution_count": 33,
   "id": "a44dc5b8",
   "metadata": {},
   "outputs": [],
   "source": [
    "# This is a starting estimate. If you do not get an ignition within this time, increase it\n",
    "estimated_ignition_delay_time = 0.1\n",
    "t = 0\n",
    "while t < estimated_ignition_delay_time:\n",
    "    # Take one step\n",
    "    t = reactor_network.step()\n",
    "    # Append the state of the reactor to the SolutionArray\n",
    "    time_history.append(reactor.thermo.state, t=t)\n"
   ]
  },
  {
   "cell_type": "markdown",
   "id": "1e0abace",
   "metadata": {},
   "source": [
    "Now we can use the integration data to determine the ignition delay. We will use the `\"oh\"` species to compute the ignition delay at the maximum mass fraction of this species. Using round parentheses with the `SolutionArray` returns data about the species that has been passed. From this, we can access the mass fraction with the `Y` attribute and then find the _index_ of the maximum of the mass fraction using `argmax()`. The index is then used to find the ignition delay time."
   ]
  },
  {
   "cell_type": "code",
   "execution_count": 34,
   "id": "f00eafb1",
   "metadata": {},
   "outputs": [
    {
     "name": "stdout",
     "output_type": "stream",
     "text": [
      "Computed Ignition Delay: 3.248e-02 seconds.\n"
     ]
    }
   ],
   "source": [
    "reference_species = \"oh\"\n",
    "\n",
    "i_ign = time_history(reference_species).Y.argmax()\n",
    "tau = time_history.t[i_ign]\n",
    "\n",
    "print(f\"Computed Ignition Delay: {tau:.3e} seconds.\")"
   ]
  },
  {
   "cell_type": "markdown",
   "id": "73df68e8",
   "metadata": {},
   "source": [
    "## Plot the result"
   ]
  },
  {
   "cell_type": "markdown",
   "id": "8f5292c4",
   "metadata": {},
   "source": [
    "### Figure illustrating the definition of ignition delay"
   ]
  },
  {
   "cell_type": "code",
   "execution_count": 35,
   "id": "67ae8fc8",
   "metadata": {},
   "outputs": [
    {
     "data": {
      "image/png": "[encoded data removed]",
      "text/plain": [
       "<Figure size 432x288 with 1 Axes>"
      ]
     },
     "metadata": {
      "needs_background": "light"
     },
     "output_type": "display_data"
    }
   ],
   "source": [
    "fig, ax = plt.subplots()\n",
    "ax.plot(time_history.t, time_history(reference_species).Y, \"-o\")\n",
    "ax.set_xlabel(\"Time (s)\")\n",
    "ax.set_ylabel(\"$Y_{OH}$\");"
   ]
  },
  {
   "cell_type": "markdown",
   "id": "8422fcf3",
   "metadata": {},
   "source": [
    "## Illustration : NTC behavior\n",
    "\n",
    "A common benchmark for a reaction mechanism is its ability to reproduce the **N**egative **T**emperature **C**oefficient behavior. Intuitively, as the temperature of an explosive mixture increases, it should ignite faster. But, under certain conditions, we observe the opposite. This is referred to as NTC behavior. Reproducing experimentally observed NTC behavior is thus an important test for any mechanism. We will do this now by computing and visualizing the ignition delay for a wide range of temperatures"
   ]
  },
  {
   "cell_type": "markdown",
   "id": "68ba3cf2",
   "metadata": {},
   "source": [
    "### Define the temperatures for which we will run the simulations\n",
    "\n",
    "Typical NTC behavior for n-heptane occurs from ~600-800 K, so we need to do an integration of the problem at temperatures in a wide range around those temperatures. We can use some functions from NumPy to make it easy to generate the temperatures we want."
   ]
  },
  {
   "cell_type": "code",
   "execution_count": 36,
   "id": "3cc3efb4",
   "metadata": {},
   "outputs": [],
   "source": [
    "T = np.hstack((np.arange(1800, 1000, -100), np.arange(1000, 475, -25)))"
   ]
  },
  {
   "cell_type": "markdown",
   "id": "15a75e36",
   "metadata": {},
   "source": [
    "As before, we will define some estimated ignition delay times to limit the integration time. These are chosen empirically and must be updated for different fuels or different conditions."
   ]
  },
  {
   "cell_type": "code",
   "execution_count": 37,
   "id": "b23168da",
   "metadata": {},
   "outputs": [],
   "source": [
    "estimated_ignition_delay_times = np.ones_like(T, dtype=float)\n",
    "\n",
    "estimated_ignition_delay_times[:6] = 0.1\n",
    "estimated_ignition_delay_times[-4:-2] = 10\n",
    "estimated_ignition_delay_times[-2:] = 100"
   ]
  },
  {
   "cell_type": "markdown",
   "id": "ba607388",
   "metadata": {},
   "source": [
    "And last, we will create a `SolutionArray` to store the ignition delay results. This `SolutionArray` will only store the final result of calculating the ignition delay, not the time history of each simulation. In this case, we know that we want to have as many rows as the `T` array in our `SolutionArray`, so we can initialize it that way. Then we can set the initial conditions for the entire array of `Solution`s!"
   ]
  },
  {
   "cell_type": "code",
   "execution_count": 38,
   "id": "902c415f",
   "metadata": {},
   "outputs": [],
   "source": [
    "ignition_delays = ct.SolutionArray(gas, shape=T.shape, extra={\"tau\":estimated_ignition_delay_times})\n",
    "ignition_delays.set_equivalence_ratio(1.0, fuel=\"nc7h16\", oxidizer={\"o2\": 1.0,\"n2\": 3.76})\n",
    "ignition_delays.TP = T, reactor_pressure"
   ]
  },
  {
   "cell_type": "markdown",
   "id": "d96c783c",
   "metadata": {},
   "source": [
    "Now, we can loop through these states and use them to set the state of the `gas` object, which we can use in the `IdealGasReactor` and do the integration again.\n",
    "\n",
    "This time, we'll only store the information we care about from the simulation, which are the time steps and the history of the reference species. We will use regular Python `list`s to store this information, since they are quite efficient when appending data rapidly.\n",
    "\n",
    "Then we will compute the ignition delay from this data and proceed to the next state!"
   ]
  },
  {
   "cell_type": "code",
   "execution_count": 41,
   "id": "f5223aa6",
   "metadata": {},
   "outputs": [
    {
     "name": "stdout",
     "output_type": "stream",
     "text": [
      "Computed Ignition Delay: 2.973e-05 seconds for T=1800 K.\n",
      "Computed Ignition Delay: 3.105e-05 seconds for T=1700 K.\n",
      "Computed Ignition Delay: 4.090e-05 seconds for T=1600 K.\n",
      "Computed Ignition Delay: 7.158e-05 seconds for T=1500 K.\n",
      "Computed Ignition Delay: 1.646e-04 seconds for T=1400 K.\n",
      "Computed Ignition Delay: 4.748e-04 seconds for T=1300 K.\n",
      "Computed Ignition Delay: 1.632e-03 seconds for T=1200 K.\n",
      "Computed Ignition Delay: 6.443e-03 seconds for T=1100 K.\n",
      "Computed Ignition Delay: 3.248e-02 seconds for T=1000 K.\n",
      "Computed Ignition Delay: 5.040e-02 seconds for T=975 K.\n",
      "Computed Ignition Delay: 7.909e-02 seconds for T=950 K.\n",
      "Computed Ignition Delay: 1.252e-01 seconds for T=925 K.\n",
      "Computed Ignition Delay: 1.983e-01 seconds for T=900 K.\n",
      "Computed Ignition Delay: 3.057e-01 seconds for T=875 K.\n",
      "Computed Ignition Delay: 4.266e-01 seconds for T=850 K.\n",
      "Computed Ignition Delay: 4.726e-01 seconds for T=825 K.\n",
      "Computed Ignition Delay: 3.795e-01 seconds for T=800 K.\n",
      "Computed Ignition Delay: 2.443e-01 seconds for T=775 K.\n",
      "Computed Ignition Delay: 1.462e-01 seconds for T=750 K.\n",
      "Computed Ignition Delay: 9.154e-02 seconds for T=725 K.\n",
      "Computed Ignition Delay: 6.427e-02 seconds for T=700 K.\n",
      "Computed Ignition Delay: 5.791e-02 seconds for T=675 K.\n",
      "Computed Ignition Delay: 7.723e-02 seconds for T=650 K.\n",
      "Computed Ignition Delay: 1.503e-01 seconds for T=625 K.\n",
      "Computed Ignition Delay: 3.754e-01 seconds for T=600 K.\n",
      "Computed Ignition Delay: 1.106e+00 seconds for T=575 K.\n",
      "Computed Ignition Delay: 3.746e+00 seconds for T=550 K.\n",
      "Computed Ignition Delay: 1.474e+01 seconds for T=525 K.\n",
      "Computed Ignition Delay: 6.945e+01 seconds for T=500 K.\n",
      "Calculation complete!\n"
     ]
    }
   ],
   "source": [
    "for i, state in enumerate(ignition_delays):\n",
    "    # Setup the gas and reactor\n",
    "    gas.TPX = state.TPX\n",
    "    r = ct.IdealGasReactor(contents=gas, name=\"Batch Reactor\")\n",
    "    reactor_network = ct.ReactorNet([r])\n",
    "    reference_species_history = []\n",
    "    time_history = []\n",
    "    t = 0\n",
    "    while t < estimated_ignition_delay_times[i]:\n",
    "        t = reactor_network.step()\n",
    "        time_history.append(t)\n",
    "        reference_species_history.append(gas[reference_species].X[0])\n",
    "    i_ign = np.array(reference_species_history).argmax()\n",
    "    tau = time_history[i_ign]\n",
    "    print(f\"Computed Ignition Delay: {tau:.3e} seconds for T={state.T:.0f} K.\")\n",
    "    ignition_delays.tau[i] = tau\n",
    "print(\"Calculation complete!\")"
   ]
  },
  {
   "cell_type": "markdown",
   "id": "f90ef27d",
   "metadata": {},
   "source": [
    "### Figure: ignition delay ($\\tau$) vs. the inverse of temperature ($\\frac{1000}{T}$). \n",
    "\n",
    "Last, we will create an Arrhenius plot of the ignition delays."
   ]
  },
  {
   "cell_type": "code",
   "execution_count": 42,
   "id": "a2b86f09",
   "metadata": {},
   "outputs": [
    {
     "data": {
      "image/png": "[encoded data removed]",
      "text/plain": [
       "<Figure size 432x288 with 2 Axes>"
      ]
     },
     "metadata": {
      "needs_background": "light"
     },
     "output_type": "display_data"
    }
   ],
   "source": [
    "fig = plt.figure()\n",
    "ax = fig.add_subplot(111)\n",
    "ax.semilogy(1000/ignition_delays.T, ignition_delays.tau, 'o-')\n",
    "ax.set_ylabel('Ignition Delay (s)')\n",
    "ax.set_xlabel(r'$\\frac{1000}{T (K)}$', fontsize=18)\n",
    "# Add a second axis on top to plot the temperature for better readability\n",
    "ax2 = ax.twiny()\n",
    "ticks = ax.get_xticks()\n",
    "ax2.set_xticks(ticks)\n",
    "ax2.set_xticklabels((1000/ticks).round(1))\n",
    "ax2.set_xlim(ax.get_xlim())\n",
    "ax2.set_xlabel(r'Temperature: $T(K)$');"
   ]
  },
  {
   "cell_type": "code",
   "execution_count": null,
   "id": "38dde5d8",
   "metadata": {},
   "outputs": [],
   "source": []
  }
 ],
 "metadata": {
  "kernelspec": {
   "display_name": "Python 3 (ipykernel)",
   "language": "python",
   "name": "python3"
  },
  "language_info": {
   "codemirror_mode": {
    "name": "ipython",
    "version": 3
   },
   "file_extension": ".py",
   "mimetype": "text/x-python",
   "name": "python",
   "nbconvert_exporter": "python",
   "pygments_lexer": "ipython3",
   "version": "3.9.12"
  }
 },
 "nbformat": 4,
 "nbformat_minor": 5
}
