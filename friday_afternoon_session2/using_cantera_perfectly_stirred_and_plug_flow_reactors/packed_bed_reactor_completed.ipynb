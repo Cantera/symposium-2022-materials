{
 "cells": [
  {
   "cell_type": "markdown",
   "id": "8c56171a",
   "metadata": {},
   "source": [
    "# Packed bed reactors in Cantera\n",
    "\n",
    "In this example we simulate a packed bed reactor (PBR) using a series of continuously stirred tank reactors (CSTRs). This technique makes use of the following advanced functionality in Cantera: \n",
    "\n",
    "1. Simulating multiphase thermodynamics and reaction mixtures using Cantera\n",
    "2. Using a Cantera reactor network object to work with our two-phase system\n",
    "\n",
    "The design equation for a PBR is as follows: \n",
    "\n",
    "$$W_{cat} = F_{A0}\\int_{0}^{X} \\frac{dX}{-r'_A}$$\n",
    "\n",
    "and the equation for a fluidized CSTR is:\n",
    "\n",
    "$$W_{cat} = F_{A0} \\frac{F_{A0}X}{-r'_A}$$\n",
    "\n",
    "Comparing both of these on a Levenspiel plot shows that the limiting case for a large number of CSTRs (with differentially small volumes) in series will yield an approximation of a PBR: \n",
    "\n",
    "<img src=\"./images/levenspiel_plot.png\"  width=\"500\">"
   ]
  },
  {
   "cell_type": "code",
   "execution_count": 1,
   "id": "f43d1b80",
   "metadata": {},
   "outputs": [
    {
     "name": "stdout",
     "output_type": "stream",
     "text": [
      "Using Cantera version: 2.6.0\n"
     ]
    }
   ],
   "source": [
    "import cantera as ct\n",
    "\n",
    "%matplotlib inline\n",
    "import matplotlib.pyplot as plt\n",
    "\n",
    "print(f\"Using Cantera version: {ct.__version__}\")"
   ]
  },
  {
   "cell_type": "markdown",
   "id": "prime-gnome",
   "metadata": {},
   "source": [
    "## Cantera Simulation Steps\n",
    "\n",
    "As usual for a Cantera simulation, there are 3 main steps:\n",
    "\n",
    "1. Create the appropriate phases from an input file\n",
    "2. Set the initial conditions for the simulation\n",
    "3. Run the simulation\n",
    "\n",
    "### Inputs\n",
    "\n",
    "To start, we will specify the inputs for the packed bed reactor:\n",
    "\n",
    "- the reactor dimensions (radius, length, and catalyst bed area)\n",
    "- the catalyst properties (surface area to volume ratio) \n",
    "- inlet conditions (flowrate, mole fractions)\n",
    "- solver specifications (number of CSTRs we will use to approximate a PFR, time step size)"
   ]
  },
  {
   "cell_type": "code",
   "execution_count": 2,
   "id": "synthetic-promise",
   "metadata": {},
   "outputs": [],
   "source": [
    "# Inputs \n",
    "temp = 700.0           # Temperature (K)\n",
    "length = 0.3           # Catalyst bed length (m)\n",
    "area = 1.0e3           # Catalyst bed total area (m^2)\n",
    "cat_area_per_vol = 10  # Catalyst particle surface area per unit volume (m^2/m^3)\n",
    "velocity = 0.4         # Gas velocity (m/s)\n",
    "porosity = 0.3         # Catalyst bed porosity (unitless) \n",
    "\n",
    "# The PFR will be simulated by a chain of 'NReactors' stirred reactors.\n",
    "NReactors = 201"
   ]
  },
  {
   "cell_type": "markdown",
   "id": "c2da1394",
   "metadata": {},
   "source": [
    "### Create Cantera phases and set initial conditions\n",
    "\n",
    "For this problem, we need both a surface phase and a gas phase. Most conveniently, these phase definitions will be in the same input file and the phase can be chosen by specifying the phase name. You will create a gas bulk phase using the `methane_pox_on_pt.yaml` example input file distributed with Cantera. Then, you will create a surface phase from the same input file.\n",
    "\n",
    "The names of the phases correspond with the `name` field from the YAML input file. For our example, we have 2 phases named `gas` and `Pt_surf`:\n",
    "\n",
    "```\n",
    "phases:\n",
    "- name: gas\n",
    "  thermo: ideal-gas\n",
    "  # Further input removed for space\n",
    "- name: Pt_surf\n",
    "  thermo: ideal-surface\n",
    "  # Further input removed for space\n",
    "```\n",
    "\n",
    "First, you will specify the temperature, pressure, and concentrations for the gas phase. Then, specify the temperature and pressure for the surface phase."
   ]
  },
  {
   "cell_type": "code",
   "execution_count": 3,
   "id": "425e769a",
   "metadata": {},
   "outputs": [],
   "source": [
    "yaml_file = 'methane_pox_on_pt.yaml'\n",
    "\n",
    "gas = ct.Solution(yaml_file, 'gas')\n",
    "gas.TPX = temp, ct.one_atm, 'CH4:1, O2:1.5, AR:0.1'"
   ]
  },
  {
   "cell_type": "markdown",
   "id": "0a5ab333",
   "metadata": {},
   "source": [
    "When creating a `Solution`, the _second_ argument tells Cantera which phase to load from the input file. By default, Cantera chooses the first, but when there are multiple phases present it is good practice to be explicit.\n",
    "\n",
    "Surface phases are loaded using the `Interface` class. As with the `Solution`, the first and second arguments are the input file name and the phase name, respectively. For an `Interface`, the third argument must be a list of the adjacent bulk phase instances. In this case, we will use the variable `gas`."
   ]
  },
  {
   "cell_type": "code",
   "execution_count": 4,
   "id": "66999a7a",
   "metadata": {},
   "outputs": [],
   "source": [
    "surf = ct.Interface(yaml_file, 'Pt_surf', [gas])\n",
    "surf.TP = temp, ct.one_atm"
   ]
  },
  {
   "cell_type": "markdown",
   "id": "dressed-college",
   "metadata": {},
   "source": [
    "After initializing the gas and surface phases, we next want to calculate the differential volume and the differential length of differential CSTR elements. Additionally, the catalyst area and inlet mass flow rate need to be calculated."
   ]
  },
  {
   "cell_type": "code",
   "execution_count": 5,
   "id": "historic-atmosphere",
   "metadata": {},
   "outputs": [],
   "source": [
    "rlen = length / (NReactors - 1)  \n",
    "rvol = area * rlen * porosity\n",
    "cat_area = cat_area_per_vol * rvol\n",
    "mass_flow_rate = velocity * gas.density * area"
   ]
  },
  {
   "cell_type": "markdown",
   "id": "dirty-lesbian",
   "metadata": {},
   "source": [
    "### Practical Troubleshooting \n",
    "What is often good practice for solving a steady state model like this one is supplying an educated guess for the equilibrium surface coverage. This can be done by advancing the coverages in the first reactor. Notice that the initial state is 99% adsorbed hydrogen atom and 1% platinum sites."
   ]
  },
  {
   "cell_type": "code",
   "execution_count": 6,
   "id": "compliant-scoop",
   "metadata": {},
   "outputs": [
    {
     "name": "stdout",
     "output_type": "stream",
     "text": [
      "\n",
      "  Pt_surf:\n",
      "\n",
      "       temperature   700 K\n",
      "          pressure   1.0132e+05 Pa\n",
      "           density   5.3334e-06 kg/m^3\n",
      "  mean mol. weight   196.08 kg/kmol\n",
      "   phase of matter   unspecified\n",
      "\n",
      "                          1 kg             1 kmol     \n",
      "                     ---------------   ---------------\n",
      "          enthalpy       -1.6509e+05       -3.2371e+07  J\n",
      "   internal energy       -1.6509e+05       -3.2371e+07  J\n",
      "           entropy            40.394            7920.6  J/K\n",
      "    Gibbs function       -1.9336e+05       -3.7915e+07  J\n",
      " heat capacity c_p            75.829             14869  J/K\n",
      " heat capacity c_v            75.829             14869  J/K\n",
      "\n",
      "                      mass frac. Y      mole frac. X     chem. pot. / RT\n",
      "                     ---------------   ---------------   ---------------\n",
      "             PT(S)         0.0099491              0.01           -4.6052\n",
      "              H(S)           0.99005              0.99           -6.5338\n",
      "     [   +9 minor]                 0                 0  \n",
      "\n"
     ]
    }
   ],
   "source": [
    "surf()"
   ]
  },
  {
   "cell_type": "code",
   "execution_count": 7,
   "id": "fifteen-single",
   "metadata": {},
   "outputs": [
    {
     "name": "stdout",
     "output_type": "stream",
     "text": [
      "\n",
      "  Pt_surf:\n",
      "\n",
      "       temperature   700 K\n",
      "          pressure   1.0132e+05 Pa\n",
      "           density   5.6535e-06 kg/m^3\n",
      "  mean mol. weight   207.85 kg/kmol\n",
      "   phase of matter   unspecified\n",
      "\n",
      "                          1 kg             1 kmol     \n",
      "                     ---------------   ---------------\n",
      "          enthalpy       -4.1524e+05       -8.6307e+07  J\n",
      "   internal energy       -4.1524e+05       -8.6307e+07  J\n",
      "           entropy             114.3             23757  J/K\n",
      "    Gibbs function       -4.9525e+05       -1.0294e+08  J\n",
      " heat capacity c_p            80.174             16664  J/K\n",
      " heat capacity c_v            80.174             16664  J/K\n",
      "\n",
      "                      mass frac. Y      mole frac. X     chem. pot. / RT\n",
      "                     ---------------   ---------------   ---------------\n",
      "             PT(S)           0.22691           0.24176           -1.4198\n",
      "              H(S)        1.2149e-05        1.2877e-05           -17.784\n",
      "            H2O(S)          6.67e-06        6.5058e-06           -65.254\n",
      "             OH(S)         0.0086748         0.0085013           -41.838\n",
      "             CO(S)          0.056101          0.052268           -58.851\n",
      "            CO2(S)        2.5806e-07        2.2434e-07           -87.636\n",
      "            CH3(S)        0.00047774        0.00047258           -19.875\n",
      "            CH2(S)        2.1649e-08        2.1519e-08           -8.8942\n",
      "             CH(S)         2.052e-12        2.0495e-12            -1.321\n",
      "              C(S)        3.1553e-07        3.1668e-07           -6.6113\n",
      "              O(S)           0.70781           0.69698           -19.945\n",
      "\n"
     ]
    }
   ],
   "source": [
    "surf.advance_coverages(1.0)\n",
    "surf()"
   ]
  },
  {
   "cell_type": "markdown",
   "id": "varied-image",
   "metadata": {},
   "source": [
    "Alternatively, if one has a guess for the initial coverage, they may specify it similar to how the gas phase mole fractions are specified. Note that like mole fractions, surface coverages are normalized so that they sum to 1.0."
   ]
  },
  {
   "cell_type": "code",
   "execution_count": 8,
   "id": "developing-national",
   "metadata": {},
   "outputs": [],
   "source": [
    "surf.coverages = 'PT(S):0.1, H(S):0.9'"
   ]
  },
  {
   "cell_type": "markdown",
   "id": "tribal-resolution",
   "metadata": {},
   "source": [
    "### Creating a chain of CSTRs to approximate a PFR\n",
    "The plug flow reactor is represented by a linear chain of zero-dimensional reactors. The gas at the inlet to the first one has the specified inlet composition, and for all others the inlet composition is fixed at the composition of the reactor immediately upstream. Since in a PFR model there is no diffusion, the upstream reactors are not affected by any downstream reactors, and therefore the problem may be solved by simply marching from the first to last reactor, integrating each one to steady state.\n",
    "\n",
    "<img src=\"./images/Chain_of_CSTRs.png\"  width=\"700\">"
   ]
  },
  {
   "cell_type": "markdown",
   "id": "beautiful-perry",
   "metadata": {},
   "source": [
    "Next, we need to initialize our reactor objects of the type 'IdealGasReactor'. We also need to attach a surface onto it to run all surface reactions simultaneously. "
   ]
  },
  {
   "cell_type": "code",
   "execution_count": 9,
   "id": "pending-treasurer",
   "metadata": {},
   "outputs": [],
   "source": [
    "r = ct.IdealGasReactor(gas, energy='off')\n",
    "r.volume = rvol\n",
    "\n",
    "rsurf = ct.ReactorSurface(surf, r, A=cat_area)"
   ]
  },
  {
   "cell_type": "markdown",
   "id": "foster-mixture",
   "metadata": {},
   "source": [
    "Next, create two reservoirs: one for the supply gas (upstream) and one for the outlet (downstream). To control our material balance across the reactor, we will need to introduce the `MassFlowController` and the `PressureController` objects. The mass flow rate in the `MassFlowController` is constant here."
   ]
  },
  {
   "cell_type": "code",
   "execution_count": 10,
   "id": "median-distribution",
   "metadata": {},
   "outputs": [],
   "source": [
    "upstream = ct.Reservoir(gas, name='upstream')\n",
    "\n",
    "downstream = ct.Reservoir(gas, name='downstream')\n",
    "\n",
    "m = ct.MassFlowController(upstream, r, mdot=mass_flow_rate)\n",
    "\n",
    "v = ct.PressureController(r, downstream, master=m, K=1e-5)"
   ]
  },
  {
   "cell_type": "markdown",
   "id": "owned-arrival",
   "metadata": {},
   "source": [
    "We will then create a `ReactorNet` object."
   ]
  },
  {
   "cell_type": "code",
   "execution_count": 11,
   "id": "instructional-acquisition",
   "metadata": {},
   "outputs": [],
   "source": [
    "sim = ct.ReactorNet([r])\n",
    "sim.max_err_test_fails = 12\n",
    "\n",
    "# set relative and absolute tolerances on the simulation\n",
    "sim.rtol = 1.0e-9\n",
    "sim.atol = 1.0e-21"
   ]
  },
  {
   "cell_type": "markdown",
   "id": "artificial-active",
   "metadata": {},
   "source": [
    "We are now ready to run our reactor. We will print the CH4, H2, and CO mile fractions so we can track our progress down the PBR. We will also record our data while the reactor is running."
   ]
  },
  {
   "cell_type": "code",
   "execution_count": 12,
   "id": "greatest-sudan",
   "metadata": {},
   "outputs": [
    {
     "name": "stdout",
     "output_type": "stream",
     "text": [
      "    distance       X_CH4        X_H2        X_CO\n",
      "    0.000000    0.370772    0.009461    0.000021\n",
      "   15.000000    0.284419    0.028281    0.000020\n",
      "   30.000000    0.228614    0.022339    0.000015\n",
      "   45.000000    0.187691    0.016497    0.000013\n",
      "   60.000000    0.158090    0.012009    0.000011\n",
      "   75.000000    0.137209    0.008714    0.000010\n",
      "   90.000000    0.122852    0.006370    0.000009\n",
      "  105.000000    0.113211    0.004753    0.000008\n",
      "  120.000000    0.106867    0.003667    0.000008\n",
      "  135.000000    0.102760    0.002953    0.000007\n",
      "  150.000000    0.100132    0.002491    0.000007\n",
      "  165.000000    0.098465    0.002196    0.000007\n",
      "  180.000000    0.097414    0.002010    0.000007\n",
      "  195.000000    0.096754    0.001893    0.000007\n",
      "  210.000000    0.096340    0.001820    0.000007\n",
      "  225.000000    0.096080    0.001774    0.000008\n",
      "  240.000000    0.095918    0.001746    0.000008\n",
      "  255.000000    0.095816    0.001729    0.000009\n",
      "  270.000000    0.095752    0.001719    0.000010\n",
      "  285.000000    0.095712    0.001713    0.000011\n",
      "  300.000000    0.095686    0.001709    0.000014\n"
     ]
    }
   ],
   "source": [
    "print('    distance       X_CH4        X_H2        X_CO')\n",
    "\n",
    "states = ct.SolutionArray(gas, extra=['distance'])\n",
    "\n",
    "# run each differential reactor volume element sequentially\n",
    "for n in range(NReactors):\n",
    "    \n",
    "    # Set the state of the reservoir to match that of the previous reactor. \n",
    "    gas.TDY = r.thermo.TDY\n",
    "    upstream.syncState()\n",
    "    sim.reinitialize()\n",
    "\n",
    "    # run the CSTR to steady state, since we are getting \n",
    "    # our steady state concentrations in the PFR\n",
    "    sim.advance_to_steady_state()\n",
    "    dist = n * rlen * 1.0e3  # distance in mm\n",
    "\n",
    "    # generate our solution array using the states object\n",
    "    states.append(r.thermo.state, distance=dist)\n",
    "\n",
    "    if n % 10 == 0:\n",
    "        print('  {0:10f}  {1:10f}  {2:10f}  {3:10f}'.format(\n",
    "            dist, *gas['CH4', 'H2', 'CO'].X))"
   ]
  },
  {
   "cell_type": "markdown",
   "id": "integral-nevada",
   "metadata": {},
   "source": [
    "## Results\n",
    "\n",
    "Plot the resulting surface coverages and concentrations over the length of the PFR using our `states` solution array"
   ]
  },
  {
   "cell_type": "code",
   "execution_count": 13,
   "id": "running-breeding",
   "metadata": {},
   "outputs": [
    {
     "data": {
      "image/png": "[encoded data removed]",
      "text/plain": [
       "<Figure size 432x288 with 1 Axes>"
      ]
     },
     "metadata": {
      "needs_background": "light"
     },
     "output_type": "display_data"
    }
   ],
   "source": [
    "for i in range(gas.n_species):\n",
    "    spec = gas.species_names[i]\n",
    "    plt.plot(states.distance, states.X[:,i],label = spec)\n",
    "    plt.legend()\n",
    "\n",
    "plt.xlabel(\"Distance (mm)\")\n",
    "plt.ylabel(\"mole fraction\")\n",
    "plt.show()"
   ]
  }
 ],
 "metadata": {
  "celltoolbar": "Tags",
  "kernelspec": {
   "display_name": "Python 3 (ipykernel)",
   "language": "python",
   "name": "python3"
  },
  "language_info": {
   "codemirror_mode": {
    "name": "ipython",
    "version": 3
   },
   "file_extension": ".py",
   "mimetype": "text/x-python",
   "name": "python",
   "nbconvert_exporter": "python",
   "pygments_lexer": "ipython3",
   "version": "3.10.5"
  }
 },
 "nbformat": 4,
 "nbformat_minor": 5
}
