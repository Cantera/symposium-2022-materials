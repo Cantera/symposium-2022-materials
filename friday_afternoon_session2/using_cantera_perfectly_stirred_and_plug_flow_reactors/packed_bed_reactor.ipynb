{
 "cells": [
  {
   "cell_type": "markdown",
   "id": "f21ed453",
   "metadata": {},
   "source": [
    "# Packed bed reactors in Cantera\n",
    "\n",
    "In this example we simulate a packed bed reactor (PBR) using a series of continuously stirred tank reactors (CSTRs). This technique makes use of the following advanced functionality in Cantera: \n",
    "\n",
    "1. Simulating multiphase thermodynamics and reaction mixtures using Cantera\n",
    "2. Using a Cantera reactor network object to work with our two-phase system\n",
    "\n",
    "The design equation for a PBR is as follows: \n",
    "\n",
    "$$W_{cat} = F_{A0}\\int_{0}^{X} \\frac{dX}{-r'_A}$$\n",
    "\n",
    "and the equation for a fluidized CSTR is:\n",
    "\n",
    "$$W_{cat} = F_{A0} \\frac{F_{A0}X}{-r'_A}$$\n",
    "\n",
    "Comparing both of these on a Levenspiel plot shows that the limiting case for a large number of CSTRs (with differentially small volumes) in series will yield an approximation of a PBR: \n",
    "\n",
    "<img src=\"./images/levenspiel_plot.png\"  width=\"500\">"
   ]
  },
  {
   "cell_type": "code",
   "execution_count": 1,
   "id": "f9685b6d",
   "metadata": {},
   "outputs": [],
   "source": [
    "# Add python code here"
   ]
  },
  {
   "cell_type": "markdown",
   "id": "665856eb",
   "metadata": {},
   "source": [
    "## Cantera Simulation Steps\n",
    "\n",
    "As usual for a Cantera simulation, there are 3 main steps:\n",
    "\n",
    "1. Create the appropriate phases from an input file\n",
    "2. Set the initial conditions for the simulation\n",
    "3. Run the simulation\n",
    "\n",
    "### Inputs\n",
    "\n",
    "To start, we will specify the inputs for the packed bed reactor:\n",
    "\n",
    "- the reactor dimensions (radius, length, and catalyst bed area)\n",
    "- the catalyst properties (surface area to volume ratio) \n",
    "- inlet conditions (flowrate, mole fractions)\n",
    "- solver specifications (number of CSTRs we will use to approximate a PFR, time step size)"
   ]
  },
  {
   "cell_type": "code",
   "execution_count": 2,
   "id": "2ea98790",
   "metadata": {},
   "outputs": [],
   "source": [
    "# Add python code here"
   ]
  },
  {
   "cell_type": "markdown",
   "id": "fbad5006",
   "metadata": {},
   "source": [
    "### Create Cantera phases and set initial conditions\n",
    "\n",
    "For this problem, we need both a surface phase and a gas phase. Most conveniently, these phase definitions will be in the same input file and the phase can be chosen by specifying the phase name. You will create a gas bulk phase using the `methane_pox_on_pt.yaml` example input file distributed with Cantera. Then, you will create a surface phase from the same input file.\n",
    "\n",
    "The names of the phases correspond with the `name` field from the YAML input file. For our example, we have 2 phases named `gas` and `Pt_surf`:\n",
    "\n",
    "```\n",
    "phases:\n",
    "- name: gas\n",
    "  thermo: ideal-gas\n",
    "  # Further input removed for space\n",
    "- name: Pt_surf\n",
    "  thermo: ideal-surface\n",
    "  # Further input removed for space\n",
    "```\n",
    "\n",
    "First, you will specify the temperature, pressure, and concentrations for the gas phase. Then, specify the temperature and pressure for the surface phase."
   ]
  },
  {
   "cell_type": "code",
   "execution_count": 3,
   "id": "08553b70",
   "metadata": {},
   "outputs": [],
   "source": [
    "# Add python code here"
   ]
  },
  {
   "cell_type": "markdown",
   "id": "4b32f046",
   "metadata": {},
   "source": [
    "When creating a `Solution`, the _second_ argument tells Cantera which phase to load from the input file. By default, Cantera chooses the first, but when there are multiple phases present it is good practice to be explicit.\n",
    "\n",
    "Surface phases are loaded using the `Interface` class. As with the `Solution`, the first and second arguments are the input file name and the phase name, respectively. For an `Interface`, the third argument must be a list of the adjacent bulk phase instances. In this case, we will use the variable `gas`."
   ]
  },
  {
   "cell_type": "code",
   "execution_count": 4,
   "id": "329c6bc9",
   "metadata": {},
   "outputs": [],
   "source": [
    "# Add python code here"
   ]
  },
  {
   "cell_type": "markdown",
   "id": "4edd5097",
   "metadata": {},
   "source": [
    "After initializing the gas and surface phases, we next want to calculate the differential volume and the differential length of differential CSTR elements. Additionally, the catalyst area and inlet mass flow rate need to be calculated."
   ]
  },
  {
   "cell_type": "code",
   "execution_count": 5,
   "id": "8b59f62d",
   "metadata": {},
   "outputs": [],
   "source": [
    "# Add python code here"
   ]
  },
  {
   "cell_type": "markdown",
   "id": "0a4ac3d4",
   "metadata": {},
   "source": [
    "### Practical Troubleshooting \n",
    "What is often good practice for solving a steady state model like this one is supplying an educated guess for the equilibrium surface coverage. This can be done by advancing the coverages in the first reactor. Notice that the initial state is 99% adsorbed hydrogen atom and 1% platinum sites."
   ]
  },
  {
   "cell_type": "code",
   "execution_count": 6,
   "id": "5d1a1e8d",
   "metadata": {},
   "outputs": [],
   "source": [
    "# Add python code here"
   ]
  },
  {
   "cell_type": "code",
   "execution_count": 7,
   "id": "6768598e",
   "metadata": {},
   "outputs": [],
   "source": [
    "# Add python code here"
   ]
  },
  {
   "cell_type": "markdown",
   "id": "b529bb7d",
   "metadata": {},
   "source": [
    "Alternatively, if one has a guess for the initial coverage, they may specify it similar to how the gas phase mole fractions are specified. Note that like mole fractions, surface coverages are normalized so that they sum to 1.0."
   ]
  },
  {
   "cell_type": "code",
   "execution_count": 8,
   "id": "0290ac73",
   "metadata": {},
   "outputs": [],
   "source": [
    "# Add python code here"
   ]
  },
  {
   "cell_type": "markdown",
   "id": "8f01aa03",
   "metadata": {},
   "source": [
    "### Creating a chain of CSTRs to approximate a PFR\n",
    "The plug flow reactor is represented by a linear chain of zero-dimensional reactors. The gas at the inlet to the first one has the specified inlet composition, and for all others the inlet composition is fixed at the composition of the reactor immediately upstream. Since in a PFR model there is no diffusion, the upstream reactors are not affected by any downstream reactors, and therefore the problem may be solved by simply marching from the first to last reactor, integrating each one to steady state.\n",
    "\n",
    "<img src=\"./images/Chain_of_CSTRs.png\"  width=\"700\">"
   ]
  },
  {
   "cell_type": "markdown",
   "id": "ebfab436",
   "metadata": {},
   "source": [
    "Next, we need to initialize our reactor objects of the type 'IdealGasReactor'. We also need to attach a surface onto it to run all surface reactions simultaneously. "
   ]
  },
  {
   "cell_type": "code",
   "execution_count": 9,
   "id": "5612228b",
   "metadata": {},
   "outputs": [],
   "source": [
    "# Add python code here"
   ]
  },
  {
   "cell_type": "markdown",
   "id": "2c209c4e",
   "metadata": {},
   "source": [
    "Next, create two reservoirs: one for the supply gas (upstream) and one for the outlet (downstream). To control our material balance across the reactor, we will need to introduce the `MassFlowController` and the `PressureController` objects. The mass flow rate in the `MassFlowController` is constant here."
   ]
  },
  {
   "cell_type": "code",
   "execution_count": 10,
   "id": "545e2f39",
   "metadata": {},
   "outputs": [],
   "source": [
    "# Add python code here"
   ]
  },
  {
   "cell_type": "markdown",
   "id": "452bc3e5",
   "metadata": {},
   "source": [
    "We will then create a `ReactorNet` object."
   ]
  },
  {
   "cell_type": "code",
   "execution_count": 11,
   "id": "656b80d9",
   "metadata": {},
   "outputs": [],
   "source": [
    "# Add python code here"
   ]
  },
  {
   "cell_type": "markdown",
   "id": "029aca82",
   "metadata": {},
   "source": [
    "We are now ready to run our reactor. We will print the CH4, H2, and CO mile fractions so we can track our progress down the PBR. We will also record our data while the reactor is running."
   ]
  },
  {
   "cell_type": "code",
   "execution_count": 12,
   "id": "4391a21e",
   "metadata": {},
   "outputs": [],
   "source": [
    "# Add python code here"
   ]
  },
  {
   "cell_type": "markdown",
   "id": "4f15dc02",
   "metadata": {},
   "source": [
    "## Results\n",
    "\n",
    "Plot the resulting surface coverages and concentrations over the length of the PFR using our `states` solution array"
   ]
  },
  {
   "cell_type": "code",
   "execution_count": 13,
   "id": "14ce4ecc",
   "metadata": {},
   "outputs": [],
   "source": [
    "# Add python code here"
   ]
  }
 ],
 "metadata": {
  "celltoolbar": "Tags",
  "kernelspec": {
   "display_name": "Python 3",
   "language": "python",
   "name": "python3"
  },
  "language_info": {
   "codemirror_mode": {
    "name": "ipython",
    "version": 3
   },
   "file_extension": ".py",
   "mimetype": "text/x-python",
   "name": "python",
   "nbconvert_exporter": "python",
   "pygments_lexer": "ipython3",
   "version": "3.10.5"
  }
 },
 "nbformat": 4,
 "nbformat_minor": 5
}
