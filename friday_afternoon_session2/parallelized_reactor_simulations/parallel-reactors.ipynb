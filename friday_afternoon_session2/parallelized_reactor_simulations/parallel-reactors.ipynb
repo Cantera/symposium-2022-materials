{
 "cells": [
  {
   "cell_type": "code",
   "execution_count": 11,
   "id": "06f87cee",
   "metadata": {},
   "outputs": [
    {
     "name": "stdout",
     "output_type": "stream",
     "text": [
      "Using Cantera version 2.6.0\n"
     ]
    }
   ],
   "source": [
    "%matplotlib inline\n",
    "\n",
    "import cantera as ct\n",
    "import numpy as np\n",
    "import matplotlib.pyplot as plt\n",
    "\n",
    "print(f\"Using Cantera version {ct.__version__}\")"
   ]
  },
  {
   "cell_type": "markdown",
   "id": "4819bcba",
   "metadata": {},
   "source": [
    "# Parallelized reactor simulations\n",
    "\n",
    "In this example, we will see how to use Python's [`multiprocessing` module](https://docs.python.org/3/library/multiprocessing.html), which uses subprocesses to run concurrent calculations. In other words, it can use multiple cores on your local machine to run a set of simulations simultaneously.\n",
    "\n",
    "Note that while the code snippets are presented here in a Jupyter Notebook, you will need to create `.py` files and run these programs from the command line to run truly parallel processes.\n",
    "(It may actually be possible to use `multiprocessing` within a Jupyter Notebook with some additional work, at least on Unix systems, but that is a bit more effort than we want to spend here.)"
   ]
  },
  {
   "cell_type": "markdown",
   "id": "e0ff6a2d",
   "metadata": {},
   "source": [
    "The example problem we will focus on here is to perform a large number of constant-pressure homogeneous ignition delay calculations for an H2-O2 system, at 5 atm and with a stoichiometric mixture in air, but with varying initial temperatures. \n",
    "\n",
    "Let's run each case for a maximum of 1 second, but end the simulation when ignition is detected (via a temperature increase of 400 K)."
   ]
  },
  {
   "cell_type": "markdown",
   "id": "85c6490c",
   "metadata": {},
   "source": [
    "## Initial implementation\n",
    "\n",
    "Let's start by setting this up using a simple `for` loop to iterate over the different cases."
   ]
  },
  {
   "cell_type": "code",
   "execution_count": 12,
   "id": "78c88857",
   "metadata": {},
   "outputs": [],
   "source": [
    "temperatures = np.linspace(1000, 2000, 15)\n",
    "pressure = 5 * ct.one_atm\n",
    "\n",
    "ignition_delays = np.zeros_like(temperatures)\n",
    "for idx, temp in enumerate(temperatures):\n",
    "    # set initial conditions\n",
    "    gas = ct.Solution('gri30.yaml')\n",
    "    gas.TP = temp, pressure\n",
    "    gas.set_equivalence_ratio(1.0, fuel='H2', oxidizer={\"O2\": 1.0, \"N2\": 3.76})\n",
    "    \n",
    "    # create reactor, and the simulation object\n",
    "    reac = ct.IdealGasConstPressureReactor(gas)\n",
    "    sim = ct.ReactorNet([reac])\n",
    "    \n",
    "    while sim.time < 1.0:\n",
    "        sim.step()\n",
    "        \n",
    "        if reac.T >= temp + 400.0:\n",
    "            ignition_delays[idx] = sim.time\n",
    "            break"
   ]
  },
  {
   "cell_type": "markdown",
   "id": "30140105",
   "metadata": {},
   "source": [
    "Now we can plot the resulting ignition delays, using a standard Arrhenius plot (1000 / temperature on the x-axis):"
   ]
  },
  {
   "cell_type": "code",
   "execution_count": 13,
   "id": "d7e0afda",
   "metadata": {},
   "outputs": [
    {
     "data": {
      "image/png": "[encoded data removed]",
      "text/plain": [
       "<Figure size 432x288 with 1 Axes>"
      ]
     },
     "metadata": {
      "needs_background": "light"
     },
     "output_type": "display_data"
    }
   ],
   "source": [
    "plt.semilogy(1000/temperatures, ignition_delays, 'o')\n",
    "plt.xlabel('1000/T (1/K)')\n",
    "plt.ylabel('Ignition delay (s)')\n",
    "plt.show()"
   ]
  },
  {
   "cell_type": "markdown",
   "id": "fee5d4a9",
   "metadata": {},
   "source": [
    "This does not take long at all, since the kinetic model is fairly small and we only have 15 cases.\n",
    "However, for a much larger number of cases and/or a larger and more complicated model, running these calculations could take a *long* time, and it would be beneficial to use the threads available on your machine to run some in parallel.\n",
    "\n",
    "## Initial multiprocessing implementation\n",
    "\n",
    "We can set up the set of simulation jobs to be run by creating a function for running each simulation and  using the `Pool` class provided by `multiprocessing`."
   ]
  },
  {
   "cell_type": "code",
   "execution_count": 14,
   "id": "462de66c",
   "metadata": {},
   "outputs": [],
   "source": [
    "def simulation_worker1(sim_tuple):\n",
    "    '''Takes job index and initial temperature, runs the simulation, and returns ignition delay.\n",
    "    '''\n",
    "    temp, idx = sim_tuple\n",
    "    pressure = 5 * ct.one_atm\n",
    "    phi = 1.0\n",
    "    \n",
    "    # set initial conditions\n",
    "    gas = ct.Solution('gri30.yaml')\n",
    "    gas.TP = temp, pressure\n",
    "    gas.set_equivalence_ratio(phi, fuel='H2', oxidizer={\"O2\": 1.0, \"N2\": 3.76})\n",
    "    \n",
    "    # create reactor, and the simulation object\n",
    "    reac = ct.IdealGasConstPressureReactor(gas)\n",
    "    sim = ct.ReactorNet([reac])\n",
    "    \n",
    "    ignition_delay = 0.0\n",
    "    while sim.time < 1.0:\n",
    "        sim.step()\n",
    "        \n",
    "        if reac.T >= temp + 400.0:\n",
    "            ignition_delay = sim.time\n",
    "            break\n",
    "    \n",
    "    return {idx: ignition_delay}"
   ]
  },
  {
   "cell_type": "code",
   "execution_count": 15,
   "id": "c686ddca",
   "metadata": {},
   "outputs": [],
   "source": [
    "import multiprocessing\n",
    "\n",
    "# use all the available threads but 1\n",
    "num_threads = multiprocessing.cpu_count() - 1"
   ]
  },
  {
   "cell_type": "code",
   "execution_count": 16,
   "id": "7871a359",
   "metadata": {},
   "outputs": [
    {
     "name": "stdout",
     "output_type": "stream",
     "text": [
      "9\n"
     ]
    }
   ],
   "source": [
    "print(num_threads)"
   ]
  },
  {
   "cell_type": "markdown",
   "id": "0626edc8",
   "metadata": {},
   "source": [
    "Next, we set up the inputs and create the `Pool` of workers and give them jobs.\n",
    "\n",
    "**Note!** You should not actually run this in Jupyter Notebook. Create a file, such as `parallel_ignition1.py` and add this to it:\n",
    "\n",
    "```python\n",
    "import cantera as ct\n",
    "import numpy as np\n",
    "import matplotlib.pyplot as plt\n",
    "import multiprocessing\n",
    "\n",
    "def simulation_worker1(sim_tuple):\n",
    "    '''Takes job index and initial temperature, runs the simulation, and returns ignition delay.\n",
    "    '''\n",
    "    temp, idx = sim_tuple\n",
    "    pressure = 5 * ct.one_atm\n",
    "    phi = 1.0\n",
    "    \n",
    "    # set initial conditions\n",
    "    gas = ct.Solution('gri30.yaml')\n",
    "    gas.TP = temp, pressure\n",
    "    gas.set_equivalence_ratio(phi, fuel='H2', oxidizer={\"O2\": 1.0, \"N2\": 3.76})\n",
    "    \n",
    "    # create reactor, and the simulation object\n",
    "    reac = ct.IdealGasConstPressureReactor(gas)\n",
    "    sim = ct.ReactorNet([reac])\n",
    "    \n",
    "    ignition_delay = 0.0\n",
    "    while sim.time < 1.0:\n",
    "        sim.step()\n",
    "        \n",
    "        if reac.T >= temp + 400.0:\n",
    "            ignition_delay = sim.time\n",
    "            break\n",
    "    \n",
    "    return {idx: ignition_delay}\n",
    "\n",
    "if __name__ == '__main__':\n",
    "    # use all the available threads but 1\n",
    "    num_threads = multiprocessing.cpu_count() - 1\n",
    "\n",
    "    temperatures = np.linspace(1000, 2000, 15)\n",
    "    ignition_delays = np.zeros_like(temperatures)\n",
    "\n",
    "    # create list of jobs, each with a tuple of inputs\n",
    "    simulations = []\n",
    "    for idx, temp in enumerate(temperatures):\n",
    "        simulations.append([temp, idx])\n",
    "    jobs = tuple(simulations)\n",
    "\n",
    "    # create pool of workers and apply worker function to this\n",
    "    pool = multiprocessing.Pool(processes=num_threads)\n",
    "    results = pool.map(simulation_worker1, jobs)\n",
    "    pool.close()\n",
    "    pool.join()\n",
    "\n",
    "    results = {key:val for k in results for key, val in k.items()}\n",
    "    ignition_delays = np.zeros(len(results))\n",
    "    for idx, ignition_delay in results.items():\n",
    "        ignition_delays[idx] = ignition_delay\n",
    "\n",
    "    plt.semilogy(1000/temperatures, ignition_delays, 'o')\n",
    "    plt.xlabel('1000/T (1/K)')\n",
    "    plt.ylabel('Ignition delay (s)')\n",
    "    plt.show()\n",
    "```"
   ]
  },
  {
   "cell_type": "markdown",
   "id": "19072c0f",
   "metadata": {},
   "source": [
    "Then, run this file with:\n",
    "\n",
    "```\n",
    "$ python parallel_ignition1.py \n",
    "```\n",
    "\n",
    "You should (quickly) see a plot of the same ignition delay calculations as above. 🎉"
   ]
  },
  {
   "cell_type": "markdown",
   "id": "886e6af1",
   "metadata": {},
   "source": [
    "## Improved multiprocessing implementation\n",
    "\n",
    "The initial implementation works, but we can use object-oriented programming concepts to make this cleaner and more generalizable.\n",
    "\n",
    "First, let's start with a `NamedTuple` to organize inputs:"
   ]
  },
  {
   "cell_type": "code",
   "execution_count": 4,
   "id": "ce189bc3",
   "metadata": {},
   "outputs": [],
   "source": [
    "from typing import NamedTuple, Dict\n",
    "\n",
    "class Input(NamedTuple):\n",
    "    \"\"\"Holds input parameters for a single autoignition case.\n",
    "    \"\"\"\n",
    "    model_file: str\n",
    "    temperature: float\n",
    "    pressure: float\n",
    "    equivalence_ratio: float = 1.0\n",
    "    fuel: Dict = {}\n",
    "    oxidizer: Dict = {}\n",
    "    end_time: float = 1.0"
   ]
  },
  {
   "cell_type": "markdown",
   "id": "b1647fae",
   "metadata": {},
   "source": [
    "This allows us to create a set of autoignition simulations that can have very different parameters, and even use different kinetic models. However, for now, we'll replicate the same cases."
   ]
  },
  {
   "cell_type": "code",
   "execution_count": 5,
   "id": "c3a0869a",
   "metadata": {},
   "outputs": [],
   "source": [
    "temperatures = np.linspace(1000, 2000, 15)\n",
    "\n",
    "pressure = 5 * ct.one_atm\n",
    "\n",
    "inputs = []\n",
    "for temp in temperatures:\n",
    "    inputs.append(Input(\n",
    "        'gri30.yaml', temp, pressure, 1.0, {'H2': 1.0}, \n",
    "        {'O2': 1.0, 'N2': 3.76}, 1.0\n",
    "        ))"
   ]
  },
  {
   "cell_type": "markdown",
   "id": "75ee3e9a",
   "metadata": {},
   "source": [
    "Next, let's create a `Simulation` object with methods that set up and then run the autoignition simulations."
   ]
  },
  {
   "cell_type": "code",
   "execution_count": 8,
   "id": "738bc2bd",
   "metadata": {},
   "outputs": [],
   "source": [
    "class Simulation(object):\n",
    "    def __init__(self, properties):\n",
    "        '''Initialize constant-pressure autoignition simulation.\n",
    "        '''\n",
    "        self.gas = ct.Solution(properties.model_file)\n",
    "        self.gas.TP = properties.temperature, properties.pressure\n",
    "        self.gas.set_equivalence_ratio(\n",
    "            properties.equivalence_ratio, properties.fuel, properties.oxidizer\n",
    "            )\n",
    "        \n",
    "        self.reac = ct.IdealGasConstPressureReactor(self.gas)\n",
    "        self.sim = ct.ReactorNet([self.reac])\n",
    "        \n",
    "        self.initial_temperature = properties.temperature\n",
    "        self.ignition_delay = 0.0\n",
    "        self.end_time = properties.end_time\n",
    "    \n",
    "    def run_case(self):\n",
    "        '''Runs autoignition simulation.\n",
    "        '''\n",
    "        while self.sim.time < 1.0:\n",
    "            self.sim.step()\n",
    "\n",
    "            if self.reac.T >= self.initial_temperature + 400.0:\n",
    "                self.ignition_delay = self.sim.time\n",
    "                break"
   ]
  },
  {
   "cell_type": "markdown",
   "id": "7ec34494",
   "metadata": {},
   "source": [
    "Our simulation worker function then needs to be revised to use this class:"
   ]
  },
  {
   "cell_type": "code",
   "execution_count": 17,
   "id": "85e218bd",
   "metadata": {},
   "outputs": [],
   "source": [
    "def simulation_worker2(inp_tuple):\n",
    "    '''Takes job index and inputs, runs simulation, returns ignition delay.\n",
    "    '''\n",
    "    idx, inputs = inp_tuple\n",
    "    sim = Simulation(inputs)\n",
    "    sim.run_case()\n",
    "    \n",
    "    return {idx: sim.ignition_delay}"
   ]
  },
  {
   "cell_type": "markdown",
   "id": "411ae593",
   "metadata": {},
   "source": [
    "Then, our main driver code needs to be updated accordingly:\n",
    "\n",
    "```python\n",
    "num_threads = multiprocessing.cpu_count() - 1\n",
    "\n",
    "temperatures = np.linspace(1000, 2000, 15)\n",
    "\n",
    "pressure = 5 * ct.one_atm\n",
    "\n",
    "# create list of jobs, each with a tuple of inputs\n",
    "inputs = []\n",
    "for idx, temp in enumerate(temperatures):\n",
    "    inputs.append([idx, Input(\n",
    "        'gri30.yaml', temp, pressure, 1.0, {'H2': 1.0}, \n",
    "        {'O2': 1.0, 'N2': 3.76}, 1.0\n",
    "        )])\n",
    "jobs = tuple(inputs)\n",
    "\n",
    "# create pool of workers and apply worker function to this\n",
    "pool = multiprocessing.Pool(processes=num_threads)\n",
    "results = pool.map(simulation_worker2, jobs)\n",
    "pool.close()\n",
    "pool.join()\n",
    "\n",
    "results = {key:val for k in results for key, val in k.items()}\n",
    "ignition_delays = np.zeros(len(results))\n",
    "for idx, ignition_delay in results.items():\n",
    "    ignition_delays[idx] = ignition_delay\n",
    "\n",
    "plt.semilogy(1000/temperatures, ignition_delays, 'o')\n",
    "plt.xlabel('1000/T (1/K)')\n",
    "plt.ylabel('Ignition delay (s)')\n",
    "plt.show()\n",
    "```"
   ]
  },
  {
   "cell_type": "code",
   "execution_count": null,
   "id": "f388b7eb",
   "metadata": {},
   "outputs": [],
   "source": []
  }
 ],
 "metadata": {
  "kernelspec": {
   "display_name": "Python 3 (ipykernel)",
   "language": "python",
   "name": "python3"
  },
  "language_info": {
   "codemirror_mode": {
    "name": "ipython",
    "version": 3
   },
   "file_extension": ".py",
   "mimetype": "text/x-python",
   "name": "python",
   "nbconvert_exporter": "python",
   "pygments_lexer": "ipython3",
   "version": "3.10.5"
  }
 },
 "nbformat": 4,
 "nbformat_minor": 5
}
