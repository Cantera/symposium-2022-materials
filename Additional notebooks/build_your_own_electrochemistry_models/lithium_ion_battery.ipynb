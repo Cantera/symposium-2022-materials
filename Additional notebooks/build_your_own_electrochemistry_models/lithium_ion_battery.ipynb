{
 "cells": [
  {
   "cell_type": "markdown",
   "metadata": {},
   "source": [
    "# Lithium Ion Battery Example"
   ]
  },
  {
   "cell_type": "markdown",
   "metadata": {},
   "source": [
    "## Single particle model of a battery anode\n",
    " \n",
    "In this example we will illustrate how to calculate electric potential of a battery half-cell (focused on just one electrode--the anode), during charging of the battery.\n",
    "\n",
    "Note that the thermodynamic model for the `BinarySolutionTabulatedThermo` class, used to descrige the intercalation of graphite, is presented in greater detail in the reference: M. Mayur, S. DeCaluwe, B. L. Kee, W. G. Bessler, \"Modeling thermodynamics and kinetics of intercalation phases for lithium-ion batteries in open source software\", _Electrochimica Acta_, *323*, 2019, p. 134797.\n",
    "\n",
    "Other than the typical Cantera dependencies, plotting functions require that you have matplotlib installed, and integration requires Scipy's solve_ivp. See https://matplotlib.org/ and https://docs.scipy.org/doc/scipy/reference/generated/scipy.integrate.solve_ivp.html for additional info.\n",
    "\n",
    "The battery here, can be thought of as consisting of two particles--anode and cathode--connected by a liquid electrolyte:\n",
    "\n",
    "<img src=\"SingleParticleBattery.png\" alt=\"Cartoon of a Single Particle Battery Model\" style=\"width: 500px;\"/>\n",
    "\n",
    "For simplicity's sake, we will focus on just the anode particle and the adjacent electrolyte.  The state of the anode will be characterized by that of a representative/average anode particle. \n",
    "\n",
    "### State variables\n",
    "The state of our system is presented by the following variables:\n",
    "\n",
    "- $\\phi_{\\rm anode}$: electric potential of graphite anode.\n",
    "- $\\phi_{\\rm elyte}$: electric potential of electrolyte.\n",
    "- $X_{k,\\,{\\rm anode}}$: Mole fraction of intercalated Li in the anode.\n",
    "- $C_{k,\\,{\\rm elyte}}$: molar density of electrolyte species $k,\\,{\\rm elyte}$.\n",
    "\n",
    "### Processes:\n",
    "There are four processes occuring in our simulation domain, each associated with the movement of electrical charge and a corresponding current $I$:\n",
    "- External applied current $i_{\\rm ext}$\n",
    "- Ionic current $i_{\\rm io}$ which brings Li$^+$ ions in the electrolyte phase into/out of the domain.\n",
    "- Electro-chemical reactions at the anode-electrolyte interface, with an associated Faradaic current $i_{\\rm Far}$.\n",
    "- Double-layer current $i_{\\rm dl}$, associated with the movement of charge between the bulk of a phase and the phase interface.\n",
    "\n",
    "Each of these processes impacts our state variables, in some way.\n",
    "\n",
    "\n",
    "<img src=\"spm_interfaces.png\" alt=\"Cartoon of anode processes.\" style=\"width: 500px;\"/>\n",
    "\n",
    "Note from the image that all current densities $i$ are defined as positive when they move positive charge toward the anode current collector. This will be important, below, when we define our residual function.\n",
    "\n",
    "### Assumptions\n",
    "The primary two assumptions that we will make are:\n",
    "- The battery is isothermal (constant temperature).\n",
    "- The bulk interior of any phase is charge neutral.\n",
    "\n",
    "The first assumption is straightforward enough, but the second requries a little explanation.  In electrochemical systems, charge buildup can occur at the interfaces between charges, but the interior of each phase is very nearly charge neutral, at all times.  If a charge imabalance occurs in the interior of a phase, it typically results in very large electric fields, which drive the charge toward neutrality.  Simply assuming charge neutrality, then, is a decent approximation. \n",
    "\n",
    "This has three main impacts on our simulation:\n",
    "\n",
    "1. If the domain as a whole is charge neutral, that means that the external applied current $i_{\\rm ext}$ at any time is exactly equal to the ionic current $i_{\\rm io}$ entering the anode domain.\n",
    "2. At any given time, the faradaic current $i_{\\rm Far}$ is determined by the local state variables $\\phi_{\\rm anode}$, $\\phi_{\\rm elyte}$, $X_{k,\\,{\\rm anode}}$, and $C_{k,\\,{\\rm elyte}}$.  So there is no guarantee that $i_{\\rm Far} = i_{\\rm ion} = i_{\\rm elyte}$, which is required to maintain charge neutrality in the individual phases.  The double layer current, $i_{\\rm dl}$, then, is calculated at any given time as that required to maintain charge neutrality in the phases.  There is an equal and opposite movement of charges to the interface on either side of the phase bondary:\n",
    "\n",
    "In the anode phase:\n",
    "$$ i_{\\rm dl} = i_{\\rm Far} - i_{\\rm ext}$$\n",
    "or in the electrolyte phase:\n",
    "$$ i_{\\rm dl} = i_{\\rm Far} - i_{\\rm io}$$\n",
    "\n",
    "3. From this, we know that the movement of Li$^+$ ions out of the bulk electrolyte to the anode or the interface, $i_{\\rm Far} + i_{\\rm dl}$ is equal to the movement of Li$^+$ ions into the anode, $i_{\\rm io}$.  Therefore, the electrolyte species concentrations are constant, in this relatively simple model, and can be stored as a parameter rather than a state variable.\n",
    "\n",
    "### Boundary conditions:\n",
    "The primary boundary condition will be the applied current $i_{\\rm ext}$--this is the current at which the user charges the battery.\n",
    "\n",
    "While not technically a boundary condition, we will also assume that the electrolyte electric potential equals zero. We only care about the electric potentials in a _relative_ sense, and as such can set one of $\\phi_{\\rm anode}$ and $\\phi_{\\rm elyte,\\, anode}$ to the reference potential of zero (because it is the difference in electric potential which drives currents, the actual potential values are irrelevant). \n",
    "\n",
    "Note that the cathode potential will also be relative to the electrolyte potential, and so our cell voltage, were we simulating the entire cell:\n",
    "\n",
    "$$V_{\\rm cell} = \\left(\\phi_{\\rm cathode} - \\phi_{\\rm elyte}\\right) -  \\left(\\phi_{\\rm anode} - \\phi_{\\rm elyte}\\right) =  \\phi_{\\rm cathode} - \\phi_{\\rm anode}$$\n",
    "is unaffected by our choice of a reference potential.\n",
    "\n",
    "## Begin by importing the necessary packages:"
   ]
  },
  {
   "cell_type": "code",
   "execution_count": 1,
   "metadata": {
    "scrolled": true
   },
   "outputs": [
    {
     "name": "stdout",
     "output_type": "stream",
     "text": [
      "Cantera version: 2.6.0\n"
     ]
    }
   ],
   "source": [
    "import cantera as ct\n",
    "\n",
    "from scipy.integrate import solve_ivp\n",
    "import numpy as np\n",
    "%matplotlib inline\n",
    "import matplotlib.pyplot as plt\n",
    "\n",
    "print(f\"Cantera version: {ct.__version__}\")"
   ]
  },
  {
   "cell_type": "markdown",
   "metadata": {},
   "source": [
    "### Build the model\n",
    "\n",
    "We're actually going to build the model \"backwards\" - jump down to the bottom to build the model framework, and then work back from there to fill in the necessary model components. \n",
    "\n",
    "The blocks are all numbered in order, the numbers just run in reverse so head to the bottom and look for item 1!"
   ]
  },
  {
   "cell_type": "markdown",
   "metadata": {},
   "source": [
    "### 4. Provide user inputs\n",
    "\n",
    "Given the subsequent cells, we need to provide the external current, strings to represent the input/mechanism file names, the microstructure of the anode (volume fraction, anode average particle diameter, and thickness0, double-layer capacitance, and initial conditions:"
   ]
  },
  {
   "cell_type": "code",
   "execution_count": 2,
   "metadata": {
    "tags": [
     "clean"
    ]
   },
   "outputs": [],
   "source": [
    "class inputs:\n",
    "    i_ext = 0.001 #A/cm2\n",
    "    \n",
    "    mech = \"lithium_ion_battery.yaml\"\n",
    "    anode_name = \"anode\"\n",
    "    conductor_name = \"electron\"\n",
    "    elyte_name = \"electrolyte\"\n",
    "    int_name = \"edge_anode_electrolyte\"\n",
    "\n",
    "    eps_anode = 0.55\n",
    "    d_part_anode = 500-9\n",
    "    \n",
    "    dy = 50e-6 # m\n",
    "    \n",
    "    C_dl_anode = 300e-3 # F/m2 of interface\n",
    "    \n",
    "    X_Li_init = 1e-2 # [-] Initial mole fraction of LiC6 in anode\n",
    "    phi_init = -2.5  # [V] Initial anode electric potential, relative to the electrolyte."
   ]
  },
  {
   "cell_type": "markdown",
   "metadata": {},
   "source": [
    "### 3. Create class structures for params, anode, and electrolyte.\n",
    "\n",
    "We will create Python class objects to hold all necessary parameters associated with the simulation, plus parameters and Cantera objects associated with the anode and electrolyte phases.\n",
    "\n",
    "The electrolyte phase properties are constant, so we set there once, here, and do not need to pass the object to any functions. The anode class contains Cantera objects for the anode phase, the electron-conducting phase (which in reality is the same as the anode phase, but Cantera currently currently considers an electron as equivalent to other chemical species in the phase.  It is therefore easier to consider a separate \"conductor\" phase whose only species is the electron.\n",
    "\n",
    "The anode class also stores the double layer capacitanbce and the molar density of the discharged anode (kmol of Li 'host' sites per total volume of electrode).\n",
    "\n",
    "The params class holds other parameters, including the external current density, integration time spane, anode phase volume fraction, anode thickness, and anode/electrolyte interface area (m$^2$ interface per m$^2$ geometric area)."
   ]
  },
  {
   "cell_type": "code",
   "execution_count": 3,
   "metadata": {
    "tags": [
     "clean"
    ]
   },
   "outputs": [],
   "source": [
    "elyte = ct.Solution(inputs.mech, inputs.elyte_name)\n",
    "elyte.electric_potential = 0.0\n",
    "\n",
    "class anode:\n",
    "    obj = ct.Solution(inputs.mech, inputs.anode_name)\n",
    "    conductor = ct.Solution(inputs.mech, inputs.conductor_name)\n",
    "    \n",
    "    interface = ct.Interface(inputs.mech, inputs.int_name, [obj, conductor, elyte])\n",
    "    \n",
    "    C_dl = inputs.C_dl_anode\n",
    "    \n",
    "    molar_density = obj.density_mole*inputs.eps_anode\n",
    "    \n",
    "    i_Li = obj.species_index(\"Li[anode]\")\n",
    "    \n",
    "\n",
    "# We don't need to store this, but calculating is separately makes subequent \n",
    "# calcualtions simpler:\n",
    "capacity = anode.obj.density_mole*inputs.eps_anode*inputs.dy*ct.faraday #A-s/m2\n",
    "\n",
    "class params:\n",
    "    i_ext = 10000*inputs.i_ext # convert to A/m2\n",
    "    \n",
    "    t_span = capacity/i_ext\n",
    "    \n",
    "    eps_anode = inputs.eps_anode\n",
    "    dy = inputs.dy\n",
    "    \n",
    "    # Assume spherical particles with no overlap:\n",
    "    A_int = eps_anode*6*dy/inputs.d_part_anode"
   ]
  },
  {
   "cell_type": "markdown",
   "metadata": {},
   "source": [
    "### 2. The residual function\n",
    "\n",
    "We need one governing equatio for each state variable.  We have already assumed $\\phi_{\\rm elyte} = 0.0$ V, so that leaves governing equations for:\n",
    "- $\\phi_{\\rm anode}$: electric potential of graphite anode.\n",
    "- $X_{k,\\,{\\rm anode}}$: Mole fraction of intercalated Li in the anode.\n",
    "- $C_{k,\\,{\\rm elyte}}$: molar density of electrolyte species $k,\\,{\\rm elyte}$.\n",
    "\n",
    "#### Anode electric potential:\n",
    "Assuming that the bulk phase potential on either side of the anode-electrolyte interface is equilibrated with the double layer potential, the anode potential is defined by the equation for the double layer potential:\n",
    "\n",
    "$$\\Delta \\phi_{\\rm dl} = \\phi_{\\rm anode} - \\phi_{\\rm elyte}$$\n",
    "\n",
    "which leads to \n",
    "\n",
    "$$\\phi_{\\rm anode} = \\Delta \\phi_{\\rm dl} + \\phi_{\\rm elyte}$$\n",
    "\n",
    "Finally, given our assumption that $\\phi_{\\rm elyte} = 0$:\n",
    "\n",
    "$$\\phi_{\\rm anode} = \\Delta \\phi_{\\rm dl}$$\n",
    "\n",
    "We model the double layer as a capacitor, so that the voltage is equal to the charge stored in the double layer, divided by a constant capacitance:\n",
    "\n",
    "$$\\frac{d\\phi_{\\rm anode}}{dt} = \\frac{d\\Delta\\phi_{\\rm dl}}{dt} = \\frac{1}{C_{\\rm dl}}\\frac{dQ_{\\rm dl}}{dt}$$\n",
    "\n",
    "Lastly, recognizing that $\\frac{dQ_{\\rm dl}}{dt} = -i_{\\rm dl}$ (positive $i_{\\rm dl}$ means the anode side of the dl becomes more negative), we get:\n",
    "\n",
    "<div class=\"alert alert-danger\" role=\"alert\">\n",
    "$$\\frac{d\\phi_{\\rm anode}}{dt} = -\\frac{i_{\\rm dl}}{A_{\\rm int}C_{\\rm dl}}$$\n",
    "</div>\n",
    "\n",
    "where $I_{\\rm dl}$ is defined as above and $A_{\\rm int}$ is equal to the anode-electrolyte interface area, per unit geometric area of the battery. We will show calculation of $i_{\\rm dl}$ further below.\n",
    "\n",
    "#### Mole fraction of intercalated Li in the anode phase\n",
    "\n",
    "We track this via $X_{\\rm LiC_6}$, where the anode is assumed to consist of either $C_6$ or $LiC_6$ (with the mole fractions summing to one).\n",
    "\n",
    "From a mole balance, we have:\n",
    "\n",
    "<div class=\"alert alert-danger\" role=\"alert\">\n",
    "$$\\frac{dX_{\\rm LiC_6}}{dt} = \\frac{A_{\\rm int}}{n_{\\rm anode}\\varepsilon_{\\rm anode}\\Delta y_{\\rm anode}} \\dot{s}_{\\rm LiC_6}$$\n",
    "</div>\n",
    "\n",
    "where $n_{\\rm anode}$ is the molar density of ${\\rm C_6}$ in the discharged anode (kmol/m<sup>3</sup> of graphite), $\\varepsilon_{\\rm anode}$ is the volume fraction of graphite in the anode, $\\Delta y_{\\rm anode}$ is the anode thickness, and $\\dot{s}_{\\rm LiC_6}$ is the molar production rate of LiC$_6$ due to interfacial reactions (kmol of Li per m<sup>2</sup> of interface area per second). This last term is calculated via Cantera, via the function `int.get_net_prod_rates(anode)`, which retrieves the anode-phase production rates due to reactions associated with the interface object `int`.  \n",
    "\n",
    "We can use a similar approach to get the faradaic current, via the production of electrons in the conductor phase. We noted before that positive #i_{\\rm Far}$ corresponds to positive charge moving to the anode. Thefore, it is proportional to the opposite of the electron creation rate:\n",
    "\n",
    "$$i_{\\rm Far} = -\\frac{A_{\\rm int}}{\\Delta y_{\\rm anode}}\\dot{s}_{\\rm e^-} $$"
   ]
  },
  {
   "cell_type": "code",
   "execution_count": 4,
   "metadata": {
    "tags": [
     "clean"
    ]
   },
   "outputs": [],
   "source": [
    "def residual(t, SV, params, anode):\n",
    "    # Set the state of the anode and anode conductor object:\n",
    "    anode.obj.X = f\"Li[anode]:{SV[1]}, V[anode]:{1-SV[1]}\"\n",
    "    anode.obj.electric_potential = SV[0]\n",
    "    anode.conductor.electric_potential = SV[0]\n",
    "    \n",
    "    # Li production rate is opposite that of the electron\n",
    "    i_Far = -(ct.faraday*params.A_int\n",
    "             *anode.interface.get_net_production_rates(anode.conductor))\n",
    "    i_dl = params.i_ext - i_Far  \n",
    "    sdot_Li_anode = anode.interface.get_net_production_rates(anode.obj)[anode.i_Li]\n",
    "    \n",
    "    # Initialize the derivative:\n",
    "    dSVdt = np.zeros_like(SV)\n",
    "    \n",
    "    # First variable is the anode potential:\n",
    "    dSVdt[0] = -i_dl/params.A_int/anode.C_dl\n",
    "    \n",
    "    # Second variable is the degree of lithiation:\n",
    "    dSVdt[1] = params.A_int*sdot_Li_anode/anode.molar_density/params.dy\n",
    "    \n",
    "    return dSVdt"
   ]
  },
  {
   "cell_type": "markdown",
   "metadata": {},
   "source": [
    "## 1. The main code - Initialize the model, run the integrator, and plot results!\n",
    "\n",
    "We will use the `scipy.integrate` function `solve_ivp`, which takes an initial state and integrates it over a user-defined time span, according to user-defined differential equations for each variable.\n",
    "\n",
    "At a minimum, then, the integrator function requires three things (in the following order):\n",
    "- The derivative function (which we will generalize to call the \"residual,\" here).\n",
    "- The time span over which to integrate\n",
    "- The initial values of all state variables\n",
    "\n",
    "Each of these must be predefined--scroll up to block 2, which defines the residual function.  We will also pass in extra arguments to the function via `args`, which includes the user defined parameters plus the anode and electrolyte class objects.\n",
    "\n",
    "We will save the results (the time for each time step and the state vector SV at each time step) to a variable called `solution`.\n",
    "\n",
    "Then we will do some basic plotting of the results.  Note that the plotting expects that the anode potential (relative to that the electrolyte) is stored as the first variable, and the degree of lithiation (mole fraction of LiC6 in the anode) is stored as the second variable.  Note also that the code below expects that the params object has varaibles `tspan` and `i_ext`.\n"
   ]
  },
  {
   "cell_type": "code",
   "execution_count": 5,
   "metadata": {
    "tags": [
     "clean"
    ]
   },
   "outputs": [
    {
     "data": {
      "image/png": "[encoded data removed]",
      "text/plain": [
       "<Figure size 432x288 with 2 Axes>"
      ]
     },
     "metadata": {
      "needs_background": "light"
     },
     "output_type": "display_data"
    }
   ],
   "source": [
    "# Initial solution vector at t = 0;\n",
    "SV_0 = np.array([inputs.phi_init, inputs.X_Li_init])\n",
    "\n",
    "# Integrate over the charging process.  Note that we don't want to go all the way to 100% \n",
    "# charged, as the potential goes to infinity, at this condition.\n",
    "# The 'BDF' method is good for stiff systems, and speeds the integration considerably.\n",
    "solution =  solve_ivp(residual, [0, 0.98 * params.t_span], SV_0, args=(params, anode),\n",
    "                      method='BDF')\n",
    "\n",
    "# Plot the half-cell potential and anode degree of lithiation as a \n",
    "#   function of the stored capacity:\n",
    "fig, axs = plt.subplots(2, 1, sharex=True)\n",
    "\n",
    "# Convert time to stored capacity:\n",
    "Capacity = 0.1 * solution.t * params.i_ext / 3600  # mAh/cm\n",
    "\n",
    "# Plot Cell Potential vs. Capacity.\n",
    "# Recall that we stored this in location '0' (the first variable):\n",
    "axs[0].plot(Capacity, -solution.y[0])\n",
    "axs[0].set(ylabel='Anode Potential (V)')\n",
    "\n",
    "# Plot anode degree of lithiation vs. Capacity.\n",
    "# Recall that we stored this in location '1' (the 2nd variable):\n",
    "axs[1].plot(Capacity, solution.y[1])\n",
    "axs[1].set(xlabel='Capacity (mAh/m2)', ylabel='Degree of lithiation $x$');"
   ]
  },
  {
   "cell_type": "markdown",
   "metadata": {},
   "source": [
    "### We can also model the discharge of the anode.\n",
    "\n",
    "To do so, we simply need to take the final solution vector as our new `SV_0`, and change the sign on the external current:"
   ]
  },
  {
   "cell_type": "code",
   "execution_count": 6,
   "metadata": {
    "tags": [
     "clean"
    ]
   },
   "outputs": [],
   "source": [
    "# Discharge current is opposite of the charge current:\n",
    "params.i_ext = -10000*inputs.i_ext \n",
    "\n",
    "# Store the end of the charge process as the initial state for discharge:\n",
    "SV_0 = solution.y[:,-1]"
   ]
  },
  {
   "cell_type": "markdown",
   "metadata": {},
   "source": [
    "#### Now integrate and plot, just like before:"
   ]
  },
  {
   "cell_type": "code",
   "execution_count": 7,
   "metadata": {
    "tags": [
     "clean"
    ]
   },
   "outputs": [
    {
     "data": {
      "image/png": "[encoded data removed]",
      "text/plain": [
       "<Figure size 432x288 with 2 Axes>"
      ]
     },
     "metadata": {
      "needs_background": "light"
     },
     "output_type": "display_data"
    }
   ],
   "source": [
    "# Now integrate:\n",
    "solution =  solve_ivp(residual, [0, 0.98*params.t_span], SV_0, args=(params, anode), \n",
    "                      method='BDF')\n",
    "\n",
    "# Plotting results, just like before:\n",
    "fig, axs = plt.subplots(2,1, sharex=True)\n",
    "\n",
    "Capacity = abs(0.1 * solution.t * params.i_ext / 3600)  # mAh/cm\n",
    "\n",
    "# Plot Cell Potential vs. Capacity.\n",
    "# Recall that we stored this in location '0' (the first variable):\n",
    "axs[0].plot(Capacity, -solution.y[0])\n",
    "axs[0].set(ylabel='Anode Potential (V)')\n",
    "    \n",
    "# Plot anode degree of lithiation vs. Capacity.\n",
    "# Recall that we stored this in location '1' (the 2nd variable):\n",
    "axs[1].plot(Capacity, solution.y[1])\n",
    "axs[1].set(xlabel='Capacity (mAh/m2)', ylabel='Degree of lithiation $x$');"
   ]
  }
 ],
 "metadata": {
  "celltoolbar": "Tags",
  "kernelspec": {
   "display_name": "Python 3",
   "language": "python",
   "name": "python3"
  },
  "language_info": {
   "codemirror_mode": {
    "name": "ipython",
    "version": 3
   },
   "file_extension": ".py",
   "mimetype": "text/x-python",
   "name": "python",
   "nbconvert_exporter": "python",
   "pygments_lexer": "ipython3",
   "version": "3.10.5"
  }
 },
 "nbformat": 4,
 "nbformat_minor": 1
}
