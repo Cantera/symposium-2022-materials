{
 "cells": [
  {
   "cell_type": "markdown",
   "metadata": {},
   "source": [
    "# Cantera Tutorial: Python"
   ]
  },
  {
   "cell_type": "markdown",
   "metadata": {},
   "source": [
    "## Getting Started"
   ]
  },
  {
   "cell_type": "markdown",
   "metadata": {},
   "source": [
    "Let's get started with Cantera by importing the Cantera and NumPy libraries. We can also print the version of Cantera that we're using with the `__version__` attribute from the `cantera` module, typically aliased as `ct`."
   ]
  },
  {
   "cell_type": "code",
   "execution_count": 1,
   "metadata": {},
   "outputs": [
    {
     "name": "stdout",
     "output_type": "stream",
     "text": [
      "Using Cantera version 2.4.0\n"
     ]
    }
   ],
   "source": [
    "import cantera as ct\n",
    "import numpy as np\n",
    "\n",
    "print(f\"Using Cantera version {ct.__version__}\")"
   ]
  },
  {
   "cell_type": "markdown",
   "metadata": {},
   "source": [
    "When using Cantera, the first thing you usually need is an object representing some phase of matter. Here, we'll create a gas mixture:"
   ]
  },
  {
   "cell_type": "code",
   "execution_count": 2,
   "metadata": {},
   "outputs": [],
   "source": [
    "gas1 = ct.Solution('gri30.cti')"
   ]
  },
  {
   "cell_type": "markdown",
   "metadata": {},
   "source": [
    "To view the state of the mixture, *call* the `gas1` object as if it were a function:"
   ]
  },
  {
   "cell_type": "code",
   "execution_count": 3,
   "metadata": {},
   "outputs": [
    {
     "name": "stdout",
     "output_type": "stream",
     "text": [
      "\n",
      "  gri30:\n",
      "\n",
      "       temperature             300  K\n",
      "          pressure          101325  Pa\n",
      "           density       0.0818891  kg/m^3\n",
      "  mean mol. weight         2.01588  amu\n",
      "\n",
      "                          1 kg            1 kmol\n",
      "                       -----------      ------------\n",
      "          enthalpy           26470        5.336e+04     J\n",
      "   internal energy     -1.2109e+06       -2.441e+06     J\n",
      "           entropy           64914        1.309e+05     J/K\n",
      "    Gibbs function     -1.9448e+07        -3.92e+07     J\n",
      " heat capacity c_p           14312        2.885e+04     J/K\n",
      " heat capacity c_v           10187        2.054e+04     J/K\n",
      "\n",
      "                           X                 Y          Chem. Pot. / RT\n",
      "                     -------------     ------------     ------------\n",
      "                H2              1                1         -15.7173\n",
      "     [  +52 minor]              0                0\n",
      "\n"
     ]
    }
   ],
   "source": [
    "gas1()"
   ]
  },
  {
   "cell_type": "markdown",
   "metadata": {},
   "source": [
    "What you have just done is created an object `gas1` that implements GRI-Mech 3.0, the 53-species, 325-reaction natural gas combustion mechanism developed by Gregory P. Smith, David M. Golden, Michael Frenklach, Nigel W. Moriarty, Boris Eiteneer, Mikhail Goldenberg, C. Thomas Bowman, Ronald K. Hanson, Soonho Song, William C. Gardiner, Jr., Vitali V. Lissianski, and Zhiwei Qin.  See the [GRI-Mech Home Page](http://combustion.berkeley.edu/gri-mech/) for more information.\n",
    "\n",
    "The `gas1` object has properties you would expect for a gas mixture: a temperature, a pressure, species mole and mass fractions, etc. As we will soon see, it has many more properties.\n",
    "\n",
    "The summary of the state of `gas1` that you found above shows that the new objects created from the `gri30.cti` input file start out with a temperature of 300 K, a pressure of 1 atm, and have a composition that consists of only one species, in this case hydrogen. There is nothing special about H2—it just happens to be the first species listed in the input file defining GRI-Mech 3.0. In general, whichever species is listed first will initially have a mole fraction of 1.0, and all others will be zero."
   ]
  },
  {
   "cell_type": "markdown",
   "metadata": {},
   "source": [
    "## Setting the State"
   ]
  },
  {
   "cell_type": "markdown",
   "metadata": {},
   "source": [
    "The state of the object can easily be changed. For example:"
   ]
  },
  {
   "cell_type": "code",
   "execution_count": 4,
   "metadata": {},
   "outputs": [],
   "source": [
    "gas1.TP = 1200, 101325"
   ]
  },
  {
   "cell_type": "markdown",
   "metadata": {},
   "source": [
    "sets the temperature to 1200 K and the pressure to 101325 Pa (Cantera always uses SI units + kmol). After this statement, calling `gas1()` results in:"
   ]
  },
  {
   "cell_type": "code",
   "execution_count": 5,
   "metadata": {},
   "outputs": [
    {
     "name": "stdout",
     "output_type": "stream",
     "text": [
      "\n",
      "  gri30:\n",
      "\n",
      "       temperature            1200  K\n",
      "          pressure          101325  Pa\n",
      "           density       0.0204723  kg/m^3\n",
      "  mean mol. weight         2.01588  amu\n",
      "\n",
      "                          1 kg            1 kmol\n",
      "                       -----------      ------------\n",
      "          enthalpy      1.3296e+07         2.68e+07     J\n",
      "   internal energy      8.3462e+06        1.682e+07     J\n",
      "           entropy           85228        1.718e+05     J/K\n",
      "    Gibbs function     -8.8978e+07       -1.794e+08     J\n",
      " heat capacity c_p           15378          3.1e+04     J/K\n",
      " heat capacity c_v           11253        2.269e+04     J/K\n",
      "\n",
      "                           X                 Y          Chem. Pot. / RT\n",
      "                     -------------     ------------     ------------\n",
      "                H2              1                1         -17.9775\n",
      "     [  +52 minor]              0                0\n",
      "\n"
     ]
    }
   ],
   "source": [
    "gas1()"
   ]
  },
  {
   "cell_type": "markdown",
   "metadata": {},
   "source": [
    "Thermodynamics generally requires that *two* properties in addition to composition information be specified to fix the intensive state of a substance (or mixture). The state of the mixture can be set using several combinations of two properties. The following are all equivalent:"
   ]
  },
  {
   "cell_type": "code",
   "execution_count": 6,
   "metadata": {},
   "outputs": [],
   "source": [
    "gas1.TP = 1200, 101325            # temperature, pressure\n",
    "gas1.TD = 1200, 0.0204723         # temperature, density\n",
    "gas1.HP = 1.32956e7, 101325       # specific enthalpy, pressure\n",
    "gas1.UV = 8.34619e6, 1/0.0204723  # specific internal energy, specific volume\n",
    "gas1.SP = 85227.6, 101325         # specific entropy, pressure\n",
    "gas1.SV = 85227.6, 1/0.0204723    # specific entropy, specific volume"
   ]
  },
  {
   "cell_type": "markdown",
   "metadata": {},
   "source": [
    "Cantera can set and get properties on a molar basis (J/kmol) or a mass basis (J/kg). Note that the mass basis is set by default, so all the values in the previous cell are per unit mass. The basis of a `Solution` instance can be changed by assigning to the `basis` attribute of the instance:"
   ]
  },
  {
   "cell_type": "code",
   "execution_count": 7,
   "metadata": {},
   "outputs": [],
   "source": [
    "gas1.basis = 'molar'\n",
    "gas1.basis = 'mass'"
   ]
  },
  {
   "cell_type": "markdown",
   "metadata": {},
   "source": [
    "Properties may be also **read** independently, such as"
   ]
  },
  {
   "cell_type": "code",
   "execution_count": 8,
   "metadata": {},
   "outputs": [
    {
     "data": {
      "text/plain": [
       "1200.0044548350836"
      ]
     },
     "execution_count": 8,
     "metadata": {},
     "output_type": "execute_result"
    }
   ],
   "source": [
    "gas1.T"
   ]
  },
  {
   "cell_type": "markdown",
   "metadata": {},
   "source": [
    "or"
   ]
  },
  {
   "cell_type": "code",
   "execution_count": 9,
   "metadata": {},
   "outputs": [
    {
     "data": {
      "text/plain": [
       "13295636.190310445"
      ]
     },
     "execution_count": 9,
     "metadata": {},
     "output_type": "execute_result"
    }
   ],
   "source": [
    "gas1.h"
   ]
  },
  {
   "cell_type": "markdown",
   "metadata": {},
   "source": [
    "or together:"
   ]
  },
  {
   "cell_type": "code",
   "execution_count": 10,
   "metadata": {},
   "outputs": [
    {
     "data": {
      "text/plain": [
       "(8346238.627182945, 48.84649013545132)"
      ]
     },
     "execution_count": 10,
     "metadata": {},
     "output_type": "execute_result"
    }
   ],
   "source": [
    "gas1.UV"
   ]
  },
  {
   "cell_type": "code",
   "execution_count": 20,
   "metadata": {},
   "outputs": [
    {
     "ename": "AttributeError",
     "evalue": "attribute 'TPX' of 'cantera._cantera.PureFluid' objects is not writable",
     "output_type": "error",
     "traceback": [
      "\u001b[0;31m---------------------------------------------------------------------------\u001b[0m",
      "\u001b[0;31mAttributeError\u001b[0m                            Traceback (most recent call last)",
      "\u001b[0;32m<ipython-input-20-a4f1dbbacaec>\u001b[0m in \u001b[0;36m<module>\u001b[0;34m\u001b[0m\n\u001b[1;32m      1\u001b[0m \u001b[0mwater\u001b[0m \u001b[0;34m=\u001b[0m \u001b[0mct\u001b[0m\u001b[0;34m.\u001b[0m\u001b[0mPureFluid\u001b[0m\u001b[0;34m(\u001b[0m\u001b[0;34m'liquidvapor.cti'\u001b[0m\u001b[0;34m,\u001b[0m \u001b[0;34m'water'\u001b[0m\u001b[0;34m)\u001b[0m\u001b[0;34m\u001b[0m\u001b[0;34m\u001b[0m\u001b[0m\n\u001b[1;32m      2\u001b[0m \u001b[0mwater\u001b[0m\u001b[0;34m.\u001b[0m\u001b[0mTP\u001b[0m \u001b[0;34m=\u001b[0m \u001b[0;36m1200\u001b[0m\u001b[0;34m,\u001b[0m \u001b[0;36m101325\u001b[0m\u001b[0;34m\u001b[0m\u001b[0;34m\u001b[0m\u001b[0m\n\u001b[0;32m----> 3\u001b[0;31m \u001b[0mwater\u001b[0m\u001b[0;34m.\u001b[0m\u001b[0mTPX\u001b[0m \u001b[0;34m=\u001b[0m \u001b[0;32mNone\u001b[0m\u001b[0;34m,\u001b[0m \u001b[0;32mNone\u001b[0m\u001b[0;34m,\u001b[0m \u001b[0;36m1.0\u001b[0m\u001b[0;34m\u001b[0m\u001b[0;34m\u001b[0m\u001b[0m\n\u001b[0m",
      "\u001b[0;31mAttributeError\u001b[0m: attribute 'TPX' of 'cantera._cantera.PureFluid' objects is not writable"
     ]
    }
   ],
   "source": [
    "water = ct.PureFluid('liquidvapor.cti', 'water')\n",
    "water.TP = 1200, 101325\n",
    "water.TPX = None, None, 1.0"
   ]
  },
  {
   "cell_type": "markdown",
   "metadata": {},
   "source": [
    "The composition can be set in terms of either mole fractions (`X`) or mass fractions (`Y`) by assigning to the corresponding attribute of the `Solution` instance. There are three main options to set the composition of a mixture:\n",
    "\n",
    "* A string specifying the species names and relative mole numbers\n",
    "\n",
    "      \"CH4:1, O2:2, N2:7.52\"\n",
    "      \n",
    "* A Python dictionary where the keys are species names and the values are relative mole numbers\n",
    "\n",
    "      {\"CH4\": 1, \"O2\": 2, \"N2\": 7.52}\n",
    "\n",
    "* A NumPy array of length `n_species`\n",
    "\n",
    "In any of these case, the mole numbers are normalized so the sum is 1.0."
   ]
  },
  {
   "cell_type": "code",
   "execution_count": 12,
   "metadata": {},
   "outputs": [
    {
     "name": "stdout",
     "output_type": "stream",
     "text": [
      "{'CH4': 0.07751937984496125, 'N2': 0.7286821705426356, 'O2': 0.1937984496124031}\n"
     ]
    }
   ],
   "source": [
    "gas1.X = \"CH4:0.8, O2:2, N2:7.52\"\n",
    "print(gas1.mole_fraction_dict())"
   ]
  },
  {
   "cell_type": "code",
   "execution_count": 13,
   "metadata": {},
   "outputs": [
    {
     "name": "stdout",
     "output_type": "stream",
     "text": [
      "{'CH4': 0.07751937984496125, 'N2': 0.7286821705426356, 'O2': 0.19379844961240314}\n"
     ]
    }
   ],
   "source": [
    "phi = 0.8\n",
    "gas1.X = {'CH4':1, 'O2':2/phi, 'N2': 2*3.76/phi}\n",
    "print(gas1.mole_fraction_dict())"
   ]
  },
  {
   "cell_type": "code",
   "execution_count": 15,
   "metadata": {},
   "outputs": [
    {
     "name": "stdout",
     "output_type": "stream",
     "text": [
      "\n",
      "  gri30:\n",
      "\n",
      "       temperature            1200  K\n",
      "          pressure         13431.2  Pa\n",
      "           density       0.0204723  kg/m^3\n",
      "  mean mol. weight         15.2079  amu\n",
      "\n",
      "                          1 kg            1 kmol\n",
      "                       -----------      ------------\n",
      "          enthalpy      1.2527e+07        1.905e+08     J\n",
      "   internal energy      1.1871e+07        1.805e+08     J\n",
      "           entropy           17371        2.642e+05     J/K\n",
      "    Gibbs function     -8.3188e+06       -1.265e+08     J\n",
      " heat capacity c_p          2898.4        4.408e+04     J/K\n",
      " heat capacity c_v          2351.7        3.576e+04     J/K\n",
      "\n",
      "                           X                 Y          Chem. Pot. / RT\n",
      "                     -------------     ------------     ------------\n",
      "                H2        0.14234        0.0188679         -21.9478\n",
      "                 H       0.284681        0.0188679          3.17231\n",
      "                 O      0.0179345        0.0188679         -2.08338\n",
      "                O2     0.00896725        0.0188679          -33.822\n",
      "                OH      0.0168716        0.0188679         -26.5479\n",
      "               H2O      0.0159277        0.0188679         -55.8625\n",
      "               HO2     0.00869341        0.0188679         -36.1301\n",
      "              H2O2      0.0084358        0.0188679         -52.5013\n",
      "                 C      0.0238899        0.0188679          45.4557\n",
      "                CH      0.0220403        0.0188679          29.7259\n",
      "               CH2      0.0204565        0.0188679          7.07674\n",
      "            CH2(S)      0.0204565        0.0188679          11.5754\n",
      "               CH3      0.0190851        0.0188679         -18.1082\n",
      "               CH4       0.017886        0.0188679         -39.6522\n",
      "                CO      0.0102441        0.0188679         -43.7782\n",
      "               CO2     0.00651994        0.0188679         -75.6376\n",
      "               HCO     0.00988827        0.0188679         -32.4322\n",
      "              CH2O     0.00955633        0.0188679         -47.3079\n",
      "             CH2OH     0.00924596        0.0188679         -42.0993\n",
      "              CH3O     0.00924596        0.0188679         -36.6318\n",
      "             CH3OH     0.00895511        0.0188679         -60.3993\n",
      "               C2H      0.0114639        0.0188679          21.0644\n",
      "              C2H2      0.0110201        0.0188679         -12.0153\n",
      "              C2H3      0.0106094        0.0188679         -9.09458\n",
      "              C2H4      0.0102283        0.0188679         -32.5679\n",
      "              C2H5     0.00987352        0.0188679           -30.05\n",
      "              C2H6     0.00954255        0.0188679         -48.7423\n",
      "              HCCO     0.00699356        0.0188679         -23.3315\n",
      "             CH2CO     0.00682587        0.0188679          -45.933\n",
      "             HCCOH     0.00682587        0.0188679         -32.9501\n",
      "                 N      0.0204859        0.0188679          21.4258\n",
      "                NH      0.0191107        0.0188679          5.72195\n",
      "               NH2      0.0179085        0.0188679         -13.0701\n",
      "               NH3      0.0168486        0.0188679         -37.1866\n",
      "               NNH     0.00988722        0.0188679         -11.6802\n",
      "                NO     0.00956275        0.0188679         -25.2511\n",
      "               NO2      0.0062371        0.0188679          -35.925\n",
      "               N2O     0.00651948        0.0188679         -28.8653\n",
      "               HNO     0.00925196        0.0188679         -25.5782\n",
      "                CN      0.0110287        0.0188679          10.7306\n",
      "               HCN      0.0106174        0.0188679          -20.947\n",
      "              H2CN      0.0102356        0.0188679         -12.5141\n",
      "              HCNN     0.00699304        0.0188679          4.71438\n",
      "              HCNO     0.00666916        0.0188679         -23.4964\n",
      "              HOCN     0.00666916        0.0188679         -41.5133\n",
      "              HNCO     0.00666916        0.0188679         -52.1046\n",
      "               NCO     0.00682915        0.0188679         -25.3624\n",
      "                N2       0.010243        0.0188679         -31.9451\n",
      "                AR     0.00718287        0.0188679         -27.1692\n",
      "              C3H7     0.00665933        0.0188679         -40.0114\n",
      "              C3H8     0.00650712        0.0188679         -58.7145\n",
      "            CH2CHO     0.00666604        0.0188679         -42.2462\n",
      "            CH3CHO     0.00651352        0.0188679         -61.4266\n",
      "\n"
     ]
    }
   ],
   "source": [
    "nsp = gas1.n_species\n",
    "gas1.Y = np.ones(nsp)\n",
    "gas1()"
   ]
  },
  {
   "cell_type": "markdown",
   "metadata": {},
   "source": [
    "One additional method is available to set the equivalence ratio directly, called [`set_equivalence_ratio()`](https://cantera.org/documentation/docs-2.4/sphinx/html/cython/thermo.html#cantera.ThermoPhase.set_equivalence_ratio). In this case, it is assumed that all C atoms are oxidized to CO2, H atoms to H2O, and S to SO2. Other atoms are assumed not to react (e.g., N ends up as N2). The signature for this method is:\n",
    "\n",
    "    set_equivalence_ratio(phi, fuel, oxidizer)\n",
    "    \n",
    "where the `phi` argument is a number that represents the desired equivalence ratio of the mixture and the `fuel` and `oxidizer` represent the fuel and oxidizer mixtures in any of the formats shown before on a molar basis. For instance, to set the equivalence ratio to 0.8 with an equimolar fuel mixture of methane and propane and an oxidizer of air, the code is:"
   ]
  },
  {
   "cell_type": "code",
   "execution_count": 16,
   "metadata": {},
   "outputs": [
    {
     "name": "stdout",
     "output_type": "stream",
     "text": [
      "{'C3H8': 0.022909507445589925, 'CH4': 0.022909507445589925, 'N2': 0.7537227949599085, 'O2': 0.20045819014891184}\n"
     ]
    }
   ],
   "source": [
    "gas1.set_equivalence_ratio(phi, {\"CH4\": 1, \"C3H8\": 1}, \"O2:1, N2:3.76\")\n",
    "print(gas1.mole_fraction_dict())"
   ]
  },
  {
   "cell_type": "markdown",
   "metadata": {},
   "source": [
    "When the composition alone is changed, the **temperature** and **density** are held constant. This means that the pressure and other intensive properties will change. The composition can also be set in conjunction with the intensive properties of the mixture:"
   ]
  },
  {
   "cell_type": "code",
   "execution_count": 17,
   "metadata": {},
   "outputs": [
    {
     "name": "stdout",
     "output_type": "stream",
     "text": [
      "\n",
      "  gri30:\n",
      "\n",
      "       temperature            1200  K\n",
      "          pressure          101325  Pa\n",
      "           density        0.280629  kg/m^3\n",
      "  mean mol. weight         27.6332  amu\n",
      "\n",
      "                          1 kg            1 kmol\n",
      "                       -----------      ------------\n",
      "          enthalpy      8.6194e+05        2.382e+07     J\n",
      "   internal energy      5.0088e+05        1.384e+07     J\n",
      "           entropy          8914.3        2.463e+05     J/K\n",
      "    Gibbs function     -9.8352e+06       -2.718e+08     J\n",
      " heat capacity c_p          1397.3        3.861e+04     J/K\n",
      " heat capacity c_v          1096.4         3.03e+04     J/K\n",
      "\n",
      "                           X                 Y          Chem. Pot. / RT\n",
      "                     -------------     ------------     ------------\n",
      "                O2       0.190114         0.220149         -28.7472\n",
      "               CH4       0.095057        0.0551863          -35.961\n",
      "                N2       0.714829         0.724665         -25.6789\n",
      "     [  +50 minor]              0                0\n",
      "\n"
     ]
    }
   ],
   "source": [
    "gas1.TPX = 1200, 101325, \"CH4:1, O2:2, N2:7.52\"\n",
    "gas1()"
   ]
  },
  {
   "cell_type": "markdown",
   "metadata": {},
   "source": [
    "When setting the state, you can control what properties are held constant by passing the special value `None` to the property setter. For example, to change the specific volume to 2.1 m<sup>3</sup>/kg while holding entropy constant:"
   ]
  },
  {
   "cell_type": "code",
   "execution_count": 18,
   "metadata": {},
   "outputs": [
    {
     "name": "stdout",
     "output_type": "stream",
     "text": [
      "\n",
      "  gri30:\n",
      "\n",
      "       temperature         1383.55  K\n",
      "          pressure          198234  Pa\n",
      "           density         0.47619  kg/m^3\n",
      "  mean mol. weight         27.6332  amu\n",
      "\n",
      "                          1 kg            1 kmol\n",
      "                       -----------      ------------\n",
      "          enthalpy      1.1224e+06        3.102e+07     J\n",
      "   internal energy      7.0615e+05        1.951e+07     J\n",
      "           entropy          8914.3        2.463e+05     J/K\n",
      "    Gibbs function     -1.1211e+07       -3.098e+08     J\n",
      " heat capacity c_p          1439.9        3.979e+04     J/K\n",
      " heat capacity c_v            1139        3.147e+04     J/K\n",
      "\n",
      "                           X                 Y          Chem. Pot. / RT\n",
      "                     -------------     ------------     ------------\n",
      "                O2       0.190114         0.220149         -28.5135\n",
      "               CH4       0.095057        0.0551863         -35.1153\n",
      "                N2       0.714829         0.724665         -25.4211\n",
      "     [  +50 minor]              0                0\n",
      "\n"
     ]
    }
   ],
   "source": [
    "gas1.SV = None, 2.1\n",
    "gas1()"
   ]
  },
  {
   "cell_type": "markdown",
   "metadata": {},
   "source": [
    "Or to set the mass fractions while holding temperature and pressure constant:"
   ]
  },
  {
   "cell_type": "code",
   "execution_count": null,
   "metadata": {},
   "outputs": [],
   "source": [
    "gas1.TPY = None, None, \"CH4:1.0, O2:0.5\""
   ]
  },
  {
   "cell_type": "markdown",
   "metadata": {},
   "source": [
    "## Working with a Subset of Species"
   ]
  },
  {
   "cell_type": "code",
   "execution_count": null,
   "metadata": {},
   "outputs": [],
   "source": [
    "print(gas1.species())"
   ]
  },
  {
   "cell_type": "markdown",
   "metadata": {},
   "source": [
    "Many properties of a [`Solution`](https://cantera.org/documentation/docs-2.4/sphinx/html/cython/importing.html#cantera.Solution) provide values for each species present in the phase. If you want to get values only for a subset of these species, you can use Python's \"slicing\" syntax to select data for just the species of interest. To get the mole fractions of just the major species in `gas1`, in the order specified, you can write:"
   ]
  },
  {
   "cell_type": "code",
   "execution_count": null,
   "metadata": {},
   "outputs": [],
   "source": [
    "Xmajor = gas1['CH4','O2','CO2','H2O','N2'].X\n",
    "print(Xmajor)"
   ]
  },
  {
   "cell_type": "markdown",
   "metadata": {},
   "source": [
    "If you want to use the same set of species repeatedly, you can keep a reference to the sliced phase object:"
   ]
  },
  {
   "cell_type": "code",
   "execution_count": null,
   "metadata": {},
   "outputs": [],
   "source": [
    "major = gas1['CH4','O2','CO2','H2O','N2']\n",
    "cp_major = major.partial_molar_cp\n",
    "wdot_major = major.net_production_rates\n",
    "print(wdot_major)"
   ]
  },
  {
   "cell_type": "markdown",
   "metadata": {},
   "source": [
    "The slice object and the original object share the same internal state, so modifications to one will affect the other."
   ]
  },
  {
   "cell_type": "code",
   "execution_count": null,
   "metadata": {},
   "outputs": [],
   "source": [
    "gas1.TPX = 1200, 101325, \"CH4:1, N2:7.52, O2:2\"\n",
    "print(major.net_production_rates)\n",
    "print(major.X)"
   ]
  },
  {
   "cell_type": "markdown",
   "metadata": {},
   "source": [
    "## Working with Mechanism Files"
   ]
  },
  {
   "cell_type": "markdown",
   "metadata": {},
   "source": [
    "In the previous example, we created an object that models an ideal gas mixture with the species and reactions of GRI-Mech 3.0, using the `gri30.cti` input file included with Cantera. This is a CTI input file and is relatively easy for humans to read and write. Cantera also supports an XML-based input file format that is easy for Cantera to parse, but hard for humans to write. Several reaction mechanism files in both formats are included with Cantera, including ones that model high-temperature air, a hydrogen/oxygen reaction mechanism, and a few surface reaction mechanisms. These files are usually located in the `data` subdirectory of the Cantera installation directory, e.g., `C:\\Program Files\\Cantera\\data` on Windows or `/usr/local/cantera/data/` on Unix/Linux/Mac OS X machines, depending on how you installed Cantera and the options you specified.\n",
    "\n",
    "There are a number of mechanism files included with Cantera, including the `gri30.cti` example we saw earlier."
   ]
  },
  {
   "cell_type": "code",
   "execution_count": 21,
   "metadata": {},
   "outputs": [
    {
     "name": "stdout",
     "output_type": "stream",
     "text": [
      "['nDodecane_Reitz.cti', 'air.cti', 'ohn.cti', 'silane.cti', 'silicon_carbide.cti', 'ptcombust.cti', 'argon.cti', 'gri30_highT.cti', 'KOH.cti', 'methane_pox_on_pt.cti', 'diamond.cti', 'h2o2.cti', 'water.cti', 'silicon.cti', 'nasa.cti', 'graphite.cti', 'nasa_gas.cti', 'gri30.cti', 'nasa_condensed.cti', 'liquidvapor.cti', 'airNASA9.cti', 'gri30_ion.cti']\n"
     ]
    }
   ],
   "source": [
    "from pathlib import Path\n",
    "p = Path(ct.__file__)\n",
    "print([c.name for c in (p.parent / \"data\").glob(\"*.cti\")])"
   ]
  },
  {
   "cell_type": "markdown",
   "metadata": {},
   "source": [
    "Cantera input files are plain text files, and can be created with any text editor. See the document *[Defining Phases](https://cantera.org/tutorials/cti/defining-phases.html)* for more information.\n",
    "\n",
    "A Cantera input file may contain more than one phase specification, or may contain specifications of interfaces (surfaces). Here, we import definitions of two bulk phases and the interface between them from the file `diamond.cti`:"
   ]
  },
  {
   "cell_type": "code",
   "execution_count": null,
   "metadata": {},
   "outputs": [],
   "source": [
    "gas2 = ct.Solution('diamond.cti', 'gas')\n",
    "diamond = ct.Solution('diamond.cti', 'diamond')\n",
    "diamond_surf = ct.Interface('diamond.cti', 'diamond_100', [gas2, diamond])"
   ]
  },
  {
   "cell_type": "markdown",
   "metadata": {},
   "source": [
    "Note that the bulk (i.e., 3D or homogenous) phases that participate in the surface reactions must also be passed as arguments to [`Interface`](http://cantera.github.io/docs/sphinx/html/cython/importing.html#cantera.Interface)."
   ]
  },
  {
   "cell_type": "markdown",
   "metadata": {},
   "source": [
    "### Converting CK-format files"
   ]
  },
  {
   "cell_type": "markdown",
   "metadata": {},
   "source": [
    "Cantera also comes with a script to convert CHEMKIN (CK)-format input files to the CTI format. We'll cover that in the [`chemkin_conversion.ipynb`](chemkin_conversion.ipynb) Notebook."
   ]
  },
  {
   "cell_type": "markdown",
   "metadata": {},
   "source": [
    "## Getting Help"
   ]
  },
  {
   "cell_type": "markdown",
   "metadata": {},
   "source": [
    "In addition to the Sphinx-generated *[Python Module Documentation](https://cantera.org/documentation/docs-2.4/sphinx/html/index.html)*, documentation of the Python classes and their methods can be accessed from within the Python interpreter as well.\n",
    "\n",
    "Suppose you have created a Cantera object and want to know what methads are avialable for it, and get help on using the methods:"
   ]
  },
  {
   "cell_type": "code",
   "execution_count": 22,
   "metadata": {},
   "outputs": [],
   "source": [
    "g = ct.Solution(\"gri30.cti\")"
   ]
  },
  {
   "cell_type": "markdown",
   "metadata": {},
   "source": [
    "To get help on the Python class that this object is an instance of, put a question mark `?` after the variable:"
   ]
  },
  {
   "cell_type": "code",
   "execution_count": 23,
   "metadata": {},
   "outputs": [],
   "source": [
    "g?"
   ]
  },
  {
   "cell_type": "markdown",
   "metadata": {},
   "source": [
    "For a simple list of the properties and methods of this object:"
   ]
  },
  {
   "cell_type": "code",
   "execution_count": 24,
   "metadata": {
    "scrolled": true
   },
   "outputs": [
    {
     "data": {
      "text/plain": [
       "['DP',\n",
       " 'DPX',\n",
       " 'DPY',\n",
       " 'HP',\n",
       " 'HPX',\n",
       " 'HPY',\n",
       " 'ID',\n",
       " 'P',\n",
       " 'P_sat',\n",
       " 'SP',\n",
       " 'SPX',\n",
       " 'SPY',\n",
       " 'SV',\n",
       " 'SVX',\n",
       " 'SVY',\n",
       " 'T',\n",
       " 'TD',\n",
       " 'TDX',\n",
       " 'TDY',\n",
       " 'TP',\n",
       " 'TPX',\n",
       " 'TPY',\n",
       " 'T_sat',\n",
       " 'UV',\n",
       " 'UVX',\n",
       " 'UVY',\n",
       " 'X',\n",
       " 'Y',\n",
       " '__call__',\n",
       " '__class__',\n",
       " '__copy__',\n",
       " '__delattr__',\n",
       " '__dir__',\n",
       " '__doc__',\n",
       " '__eq__',\n",
       " '__format__',\n",
       " '__ge__',\n",
       " '__getattribute__',\n",
       " '__getitem__',\n",
       " '__gt__',\n",
       " '__hash__',\n",
       " '__init__',\n",
       " '__init_subclass__',\n",
       " '__le__',\n",
       " '__lt__',\n",
       " '__module__',\n",
       " '__ne__',\n",
       " '__new__',\n",
       " '__pyx_vtable__',\n",
       " '__reduce__',\n",
       " '__reduce_ex__',\n",
       " '__repr__',\n",
       " '__setattr__',\n",
       " '__sizeof__',\n",
       " '__slots__',\n",
       " '__str__',\n",
       " '__subclasshook__',\n",
       " '_check_kinetics_species_index',\n",
       " '_check_phase_index',\n",
       " '_check_reaction_index',\n",
       " '_full_states',\n",
       " '_init_cti_xml',\n",
       " '_init_parts',\n",
       " '_references',\n",
       " 'activities',\n",
       " 'activity_coefficients',\n",
       " 'add_reaction',\n",
       " 'add_species',\n",
       " 'atomic_weight',\n",
       " 'atomic_weights',\n",
       " 'basis',\n",
       " 'binary_diff_coeffs',\n",
       " 'chemical_potentials',\n",
       " 'concentrations',\n",
       " 'cp',\n",
       " 'cp_mass',\n",
       " 'cp_mole',\n",
       " 'creation_rates',\n",
       " 'critical_density',\n",
       " 'critical_pressure',\n",
       " 'critical_temperature',\n",
       " 'cv',\n",
       " 'cv_mass',\n",
       " 'cv_mole',\n",
       " 'delta_enthalpy',\n",
       " 'delta_entropy',\n",
       " 'delta_gibbs',\n",
       " 'delta_standard_enthalpy',\n",
       " 'delta_standard_entropy',\n",
       " 'delta_standard_gibbs',\n",
       " 'density',\n",
       " 'density_mass',\n",
       " 'density_mole',\n",
       " 'destruction_rates',\n",
       " 'electric_potential',\n",
       " 'electrical_conductivity',\n",
       " 'electrochemical_potentials',\n",
       " 'element_index',\n",
       " 'element_name',\n",
       " 'element_names',\n",
       " 'element_potentials',\n",
       " 'elemental_mass_fraction',\n",
       " 'elemental_mole_fraction',\n",
       " 'enthalpy_mass',\n",
       " 'enthalpy_mole',\n",
       " 'entropy_mass',\n",
       " 'entropy_mole',\n",
       " 'equilibrate',\n",
       " 'equilibrium_constants',\n",
       " 'forward_rate_constants',\n",
       " 'forward_rates_of_progress',\n",
       " 'g',\n",
       " 'get_equivalence_ratio',\n",
       " 'gibbs_mass',\n",
       " 'gibbs_mole',\n",
       " 'h',\n",
       " 'int_energy_mass',\n",
       " 'int_energy_mole',\n",
       " 'is_reversible',\n",
       " 'isothermal_compressibility',\n",
       " 'kinetics_species_index',\n",
       " 'mass_fraction_dict',\n",
       " 'max_temp',\n",
       " 'mean_molecular_weight',\n",
       " 'min_temp',\n",
       " 'mix_diff_coeffs',\n",
       " 'mix_diff_coeffs_mass',\n",
       " 'mix_diff_coeffs_mole',\n",
       " 'modify_reaction',\n",
       " 'modify_species',\n",
       " 'mole_fraction_dict',\n",
       " 'molecular_weights',\n",
       " 'multi_diff_coeffs',\n",
       " 'multiplier',\n",
       " 'n_atoms',\n",
       " 'n_elements',\n",
       " 'n_phases',\n",
       " 'n_reactions',\n",
       " 'n_selected_species',\n",
       " 'n_species',\n",
       " 'n_total_species',\n",
       " 'name',\n",
       " 'net_production_rates',\n",
       " 'net_rates_of_progress',\n",
       " 'partial_molar_cp',\n",
       " 'partial_molar_enthalpies',\n",
       " 'partial_molar_entropies',\n",
       " 'partial_molar_int_energies',\n",
       " 'partial_molar_volumes',\n",
       " 'product_stoich_coeff',\n",
       " 'product_stoich_coeffs',\n",
       " 'products',\n",
       " 'reactant_stoich_coeff',\n",
       " 'reactant_stoich_coeffs',\n",
       " 'reactants',\n",
       " 'reaction',\n",
       " 'reaction_equation',\n",
       " 'reaction_equations',\n",
       " 'reaction_phase_index',\n",
       " 'reaction_type',\n",
       " 'reactions',\n",
       " 'reference_pressure',\n",
       " 'report',\n",
       " 'reverse_rate_constants',\n",
       " 'reverse_rates_of_progress',\n",
       " 's',\n",
       " 'selected_species',\n",
       " 'set_equivalence_ratio',\n",
       " 'set_multiplier',\n",
       " 'set_unnormalized_mass_fractions',\n",
       " 'set_unnormalized_mole_fractions',\n",
       " 'species',\n",
       " 'species_index',\n",
       " 'species_name',\n",
       " 'species_names',\n",
       " 'species_viscosities',\n",
       " 'standard_cp_R',\n",
       " 'standard_enthalpies_RT',\n",
       " 'standard_entropies_R',\n",
       " 'standard_gibbs_RT',\n",
       " 'standard_int_energies_RT',\n",
       " 'state',\n",
       " 'thermal_conductivity',\n",
       " 'thermal_diff_coeffs',\n",
       " 'thermal_expansion_coeff',\n",
       " 'transport_model',\n",
       " 'u',\n",
       " 'v',\n",
       " 'viscosity',\n",
       " 'volume_mass',\n",
       " 'volume_mole']"
      ]
     },
     "execution_count": 24,
     "metadata": {},
     "output_type": "execute_result"
    }
   ],
   "source": [
    "dir(g)"
   ]
  },
  {
   "cell_type": "markdown",
   "metadata": {},
   "source": [
    "To get help on a specific method, e.g. the `species_index` method:"
   ]
  },
  {
   "cell_type": "code",
   "execution_count": 25,
   "metadata": {},
   "outputs": [],
   "source": [
    "g.species_index?"
   ]
  },
  {
   "cell_type": "markdown",
   "metadata": {},
   "source": [
    "For properties, getting the documentation is slightly trickier, as the usual method will give you help for the *result*, e.g.:"
   ]
  },
  {
   "cell_type": "code",
   "execution_count": 26,
   "metadata": {
    "scrolled": true
   },
   "outputs": [],
   "source": [
    "g.T?"
   ]
  },
  {
   "cell_type": "markdown",
   "metadata": {},
   "source": [
    "provides help on Python's `float` class. To get the help for the temperature property, ask for the attribute of the class object itself:"
   ]
  },
  {
   "cell_type": "code",
   "execution_count": 27,
   "metadata": {},
   "outputs": [],
   "source": [
    "g.__class__.T?"
   ]
  },
  {
   "cell_type": "markdown",
   "metadata": {},
   "source": [
    "Help can also be obtained using the `help` function:"
   ]
  },
  {
   "cell_type": "code",
   "execution_count": 28,
   "metadata": {},
   "outputs": [
    {
     "name": "stdout",
     "output_type": "stream",
     "text": [
      "Help on built-in function species_index:\n",
      "\n",
      "species_index(...) method of cantera.composite.Solution instance\n",
      "    ThermoPhase.species_index(self, species) -> int\n",
      "    \n",
      "    The index of species *species*, which may be specified as a string or\n",
      "    an integer. In the latter case, the index is checked for validity and\n",
      "    returned. If no such species is present, an exception is thrown.\n",
      "\n"
     ]
    }
   ],
   "source": [
    "help(g.species_index)"
   ]
  },
  {
   "cell_type": "markdown",
   "metadata": {},
   "source": [
    "## Chemical Equilibrium"
   ]
  },
  {
   "cell_type": "markdown",
   "metadata": {},
   "source": [
    "To set a gas mixture to a state of chemical equilibrium, use the `equilibrate` method:"
   ]
  },
  {
   "cell_type": "code",
   "execution_count": 29,
   "metadata": {},
   "outputs": [
    {
     "name": "stdout",
     "output_type": "stream",
     "text": [
      "\n",
      "  gri30:\n",
      "\n",
      "       temperature             300  K\n",
      "          pressure          101325  Pa\n",
      "           density         1.12477  kg/m^3\n",
      "  mean mol. weight         27.6886  amu\n",
      "\n",
      "                          1 kg            1 kmol\n",
      "                       -----------      ------------\n",
      "          enthalpy     -2.8724e+06       -7.953e+07     J\n",
      "   internal energy     -2.9624e+06       -8.203e+07     J\n",
      "           entropy          7226.7        2.001e+05     J/K\n",
      "    Gibbs function     -5.0404e+06       -1.396e+08     J\n",
      " heat capacity c_p          1106.5        3.064e+04     J/K\n",
      " heat capacity c_v          806.22        2.232e+04     J/K\n",
      "\n",
      "                           X                 Y          Chem. Pot. / RT\n",
      "                     -------------     ------------     ------------\n",
      "                O2      0.0095511        0.0110379         -29.3248\n",
      "               H2O       0.181471         0.118072         -121.367\n",
      "               CO2      0.0907354          0.14422         -185.873\n",
      "               NO2    6.06037e-12      1.00695e-11         -41.0069\n",
      "                N2       0.718243          0.72667         -23.3641\n",
      "     [  +48 minor]    4.75341e-17      5.15425e-17\n",
      "\n"
     ]
    }
   ],
   "source": [
    "g = ct.Solution(\"gri30.cti\")\n",
    "g.TPX = 300.0, ct.one_atm, \"CH4:0.95, O2:2, N2:7.52\"\n",
    "g.equilibrate(\"TP\")\n",
    "g()"
   ]
  },
  {
   "cell_type": "markdown",
   "metadata": {},
   "source": [
    "The above statement sets the state of object `g` to the state of chemical equilibrium holding temperature and pressure fixed. Alternatively, the specific enthalpy and pressure can be held fixed:"
   ]
  },
  {
   "cell_type": "code",
   "execution_count": 30,
   "metadata": {},
   "outputs": [
    {
     "name": "stdout",
     "output_type": "stream",
     "text": [
      "\n",
      "  gri30:\n",
      "\n",
      "       temperature         2188.95  K\n",
      "          pressure          101325  Pa\n",
      "           density        0.153491  kg/m^3\n",
      "  mean mol. weight         27.5699  amu\n",
      "\n",
      "                          1 kg            1 kmol\n",
      "                       -----------      ------------\n",
      "          enthalpy     -2.4244e+05       -6.684e+06     J\n",
      "   internal energy     -9.0258e+05       -2.488e+07     J\n",
      "           entropy          9804.2        2.703e+05     J/K\n",
      "    Gibbs function     -2.1703e+07       -5.984e+08     J\n",
      " heat capacity c_p          1500.5        4.137e+04     J/K\n",
      " heat capacity c_v            1199        3.306e+04     J/K\n",
      "\n",
      "                           X                 Y          Chem. Pot. / RT\n",
      "                     -------------     ------------     ------------\n",
      "                H2     0.00183219      0.000133967         -26.0724\n",
      "                 H    0.000226589      8.28395e-06         -13.0362\n",
      "                 O    0.000259255      0.000150451         -16.8188\n",
      "                O2      0.0106002         0.012303         -33.6375\n",
      "                OH       0.003003       0.00185249          -29.855\n",
      "               H2O       0.177246         0.115819         -42.8912\n",
      "               HO2    8.09373e-07      9.68982e-07         -46.6737\n",
      "              H2O2    6.05342e-08      7.46847e-08           -59.71\n",
      "                CO     0.00464094       0.00471509         -39.4619\n",
      "               CO2      0.0857056         0.136812         -56.2807\n",
      "               HCO    2.55305e-10      2.68718e-10         -52.4981\n",
      "              CH2O    3.46769e-12      3.77665e-12         -65.5343\n",
      "                 N    9.26414e-09      4.70659e-09         -13.7885\n",
      "                NH    1.22315e-09      6.66131e-10         -26.8247\n",
      "               NH2    4.05215e-10      2.35496e-10         -39.8609\n",
      "               NH3    1.02612e-09      6.33857e-10         -52.8971\n",
      "               NNH    4.33561e-10      4.56387e-10         -40.6132\n",
      "                NO     0.00264269       0.00287621         -30.6072\n",
      "               NO2    7.71447e-07       1.2873e-06          -47.426\n",
      "               N2O    1.40895e-07      2.24926e-07         -44.3957\n",
      "               HNO    3.31157e-08      3.72526e-08         -43.6434\n",
      "                CN    1.40828e-14      1.32899e-14         -36.4316\n",
      "               HCN    3.76929e-12      3.69488e-12         -49.4678\n",
      "              HOCN    3.81703e-13      5.95679e-13         -66.2866\n",
      "              HNCO    1.42871e-10      2.22962e-10         -66.2866\n",
      "               NCO     6.3704e-12      9.70863e-12         -53.2504\n",
      "                N2       0.713842         0.725327         -27.5769\n",
      "     [  +26 minor]    5.11968e-17      6.17786e-17\n",
      "\n"
     ]
    }
   ],
   "source": [
    "g.TPX = 300.0, ct.one_atm, \"CH4:0.95, O2:2, N2:7.52\"\n",
    "g.equilibrate(\"HP\")\n",
    "g()"
   ]
  },
  {
   "cell_type": "markdown",
   "metadata": {},
   "source": [
    "Other options are:\n",
    "* `'UV'` for fixed specific internal energy and specific volume\n",
    "* `'SV'` for fixed specific entropy and specific volume\n",
    "* `'SP'` for fixed specific entropy and pressure\n",
    "\n",
    "How can you tell if `equilibrate` has correctly found the chemical equilibrium state? One way is to verify that the net rates of progress of all reversible reactions are zero. Here is the code to do this:"
   ]
  },
  {
   "cell_type": "code",
   "execution_count": 31,
   "metadata": {},
   "outputs": [],
   "source": [
    "g.TPX = 300.0, ct.one_atm, 'CH4:0.95, O2:2, N2:7.52'\n",
    "g.equilibrate('HP')"
   ]
  },
  {
   "cell_type": "code",
   "execution_count": 32,
   "metadata": {
    "scrolled": true
   },
   "outputs": [
    {
     "name": "stdout",
     "output_type": "stream",
     "text": [
      "   0\t-4.756e-15\n",
      "   1\t-3.332e-15\n",
      "   2\t-3.936e-16\n",
      "   3\t-3.751e-15\n",
      "   4\t-6.626e-15\n",
      "   5\t-1.503e-15\n",
      "   6\t 5.377e-15\n",
      "   7\t-1.609e-15\n",
      "   8\t 1.267e-14\n",
      "   9\t-1.587e-16\n",
      "  10\t-4.093e-15\n",
      "  11\t  7.16e-15\n",
      "  12\t-9.032e-15\n",
      "  13\t -1.72e-15\n",
      "  14\t-2.147e-16\n",
      "  15\t-5.203e-15\n",
      "  16\t-1.743e-15\n",
      "  17\t 5.791e-15\n",
      "  18\t 1.957e-15\n",
      "  19\t-5.548e-15\n",
      "  20\t 1.886e-15\n",
      "  21\t 1.421e-15\n",
      "  22\t 1.223e-16\n",
      "  23\t 9.182e-15\n",
      "  24\t 2.055e-15\n",
      "  25\t-5.119e-15\n",
      "  26\t 3.383e-15\n",
      "  27\t -1.44e-14\n",
      "  28\t-3.495e-16\n",
      "  29\t-1.949e-15\n",
      "  30\t 1.452e-14\n",
      "  31\t 1.048e-14\n",
      "  32\t 3.608e-15\n",
      "  33\t -3.47e-15\n",
      "  34\t-3.443e-15\n",
      "  35\t 9.966e-15\n",
      "  37\t 8.611e-16\n",
      "  38\t-4.981e-15\n",
      "  39\t-1.486e-15\n",
      "  40\t-8.614e-15\n",
      "  41\t-1.518e-15\n",
      "  42\t-1.232e-15\n",
      "  43\t-6.832e-15\n",
      "  44\t-5.306e-15\n",
      "  45\t-9.065e-15\n",
      "  46\t  -9.2e-15\n",
      "  47\t-1.436e-14\n",
      "  48\t-7.131e-15\n",
      "  49\t-1.415e-15\n",
      "  50\t-1.151e-16\n",
      "  51\t  2.08e-15\n",
      "  52\t-7.122e-15\n",
      "  53\t-6.697e-15\n",
      "  54\t-1.066e-14\n",
      "  55\t 4.771e-15\n",
      "  56\t 1.255e-15\n",
      "  57\t-2.753e-15\n",
      "  58\t-1.199e-14\n",
      "  59\t-7.143e-15\n",
      "  60\t-1.246e-14\n",
      "  61\t -1.46e-14\n",
      "  62\t-8.636e-15\n",
      "  63\t   4.3e-15\n",
      "  64\t -3.79e-15\n",
      "  65\t-7.982e-15\n",
      "  66\t-1.074e-14\n",
      "  67\t 3.123e-15\n",
      "  68\t-1.094e-15\n",
      "  69\t-5.515e-15\n",
      "  70\t-8.543e-15\n",
      "  71\t 8.996e-15\n",
      "  72\t 4.953e-15\n",
      "  73\t 6.249e-15\n",
      "  74\t -1.42e-14\n",
      "  75\t-8.455e-15\n",
      "  76\t-1.624e-14\n",
      "  77\t-2.242e-16\n",
      "  78\t-6.353e-15\n",
      "  79\t-3.199e-15\n",
      "  80\t-3.712e-15\n",
      "  81\t 7.139e-16\n",
      "  82\t  5.75e-15\n",
      "  83\t 3.837e-15\n",
      "  84\t 8.785e-15\n",
      "  85\t 1.055e-15\n",
      "  86\t 3.893e-15\n",
      "  87\t-5.307e-15\n",
      "  88\t-5.318e-15\n",
      "  89\t 1.908e-16\n",
      "  90\t 1.085e-14\n",
      "  91\t 7.232e-15\n",
      "  92\t 2.015e-15\n",
      "  93\t 7.362e-15\n",
      "  94\t-1.295e-15\n",
      "  95\t 2.142e-15\n",
      "  96\t-2.141e-15\n",
      "  97\t-3.184e-15\n",
      "  98\t 6.945e-15\n",
      "  99\t 3.564e-16\n",
      " 100\t 1.851e-15\n",
      " 101\t -1.03e-14\n",
      " 102\t-6.984e-15\n",
      " 103\t 7.083e-15\n",
      " 104\t 3.502e-15\n",
      " 105\t 8.553e-16\n",
      " 106\t 2.694e-15\n",
      " 107\t 2.082e-15\n",
      " 108\t 2.527e-15\n",
      " 109\t-1.614e-15\n",
      " 110\t  1.44e-14\n",
      " 111\t-1.036e-14\n",
      " 112\t 1.086e-14\n",
      " 113\t-5.672e-15\n",
      " 114\t-3.447e-15\n",
      " 115\t -3.33e-15\n",
      " 116\t-3.541e-15\n",
      " 117\t-5.337e-15\n",
      " 118\t-9.301e-16\n",
      " 119\t 1.057e-14\n",
      " 120\t 6.485e-15\n",
      " 121\t-1.702e-15\n",
      " 122\t 2.113e-15\n",
      " 123\t 3.496e-15\n",
      " 124\t 5.331e-15\n",
      " 125\t 3.978e-15\n",
      " 126\t 5.315e-15\n",
      " 127\t-3.337e-15\n",
      " 128\t-6.885e-15\n",
      " 129\t 1.692e-16\n",
      " 130\t 4.969e-15\n",
      " 131\t 7.138e-15\n",
      " 132\t 1.494e-16\n",
      " 133\t-1.433e-14\n",
      " 135\t 2.202e-15\n",
      " 136\t-3.558e-15\n",
      " 137\t 1.705e-15\n",
      " 138\t-5.142e-15\n",
      " 139\t 2.187e-15\n",
      " 140\t-1.063e-14\n",
      " 141\t 4.121e-15\n",
      " 143\t 1.518e-15\n",
      " 144\t 3.739e-15\n",
      " 145\t  6.05e-15\n",
      " 146\t 2.349e-15\n",
      " 147\t 4.067e-15\n",
      " 148\t 5.183e-15\n",
      " 149\t-4.704e-16\n",
      " 150\t 4.195e-15\n",
      " 151\t -2.67e-15\n",
      " 152\t-3.171e-15\n",
      " 153\t  6.19e-15\n",
      " 154\t 2.475e-15\n",
      " 155\t 1.559e-15\n",
      " 156\t-2.177e-15\n",
      " 157\t 2.065e-15\n",
      " 158\t 1.207e-14\n",
      " 159\t-1.072e-14\n",
      " 160\t  4.26e-15\n",
      " 161\t 9.977e-15\n",
      " 162\t 5.986e-15\n",
      " 163\t-7.571e-15\n",
      " 164\t 1.389e-14\n",
      " 165\t-2.985e-15\n",
      " 166\t-8.343e-15\n",
      " 167\t-1.873e-14\n",
      " 168\t  1.15e-14\n",
      " 169\t 1.584e-14\n",
      " 170\t 6.844e-15\n",
      " 171\t 1.539e-15\n",
      " 172\t 6.997e-15\n",
      " 173\t-3.021e-15\n",
      " 174\t-9.388e-15\n",
      " 175\t-1.301e-14\n",
      " 176\t -1.29e-14\n",
      " 177\t 1.794e-15\n",
      " 178\t 3.525e-15\n",
      " 179\t 2.044e-15\n",
      " 180\t 5.211e-15\n",
      " 181\t 3.137e-15\n",
      " 182\t-5.092e-16\n",
      " 183\t 2.429e-15\n",
      " 184\t 6.597e-15\n",
      " 185\t 4.338e-15\n",
      " 186\t  5.61e-16\n",
      " 187\t-2.652e-16\n",
      " 188\t -7.74e-15\n",
      " 189\t 1.885e-15\n",
      " 190\t-4.779e-15\n",
      " 191\t 7.254e-15\n",
      " 192\t 2.737e-15\n",
      " 193\t 1.462e-15\n",
      " 194\t-2.185e-15\n",
      " 195\t -3.68e-15\n",
      " 196\t-3.195e-15\n",
      " 197\t         0\n",
      " 198\t 1.844e-16\n",
      " 199\t-6.266e-15\n",
      " 200\t 1.042e-15\n",
      " 201\t-2.691e-15\n",
      " 202\t 1.096e-15\n",
      " 203\t 5.445e-16\n",
      " 204\t 4.599e-16\n",
      " 205\t 3.419e-15\n",
      " 206\t 1.975e-15\n",
      " 207\t-2.171e-16\n",
      " 208\t-3.651e-15\n",
      " 209\t-6.822e-15\n",
      " 210\t-3.846e-15\n",
      " 211\t-1.802e-16\n",
      " 212\t -3.82e-15\n",
      " 213\t-5.635e-15\n",
      " 214\t-1.592e-15\n",
      " 215\t-1.546e-16\n",
      " 216\t-8.714e-15\n",
      " 217\t-3.328e-15\n",
      " 218\t-4.757e-15\n",
      " 219\t 1.028e-15\n",
      " 220\t 2.253e-15\n",
      " 221\t-1.891e-15\n",
      " 222\t         0\n",
      " 223\t 3.906e-15\n",
      " 224\t-3.623e-15\n",
      " 225\t  1.41e-14\n",
      " 226\t-8.518e-16\n",
      " 227\t-5.316e-15\n",
      " 228\t 7.057e-15\n",
      " 229\t 4.955e-15\n",
      " 230\t-2.811e-15\n",
      " 231\t-1.608e-15\n",
      " 232\t 2.607e-16\n",
      " 233\t 1.704e-14\n",
      " 234\t 1.288e-14\n",
      " 235\t-2.403e-15\n",
      " 236\t-4.359e-16\n",
      " 237\t-3.755e-15\n",
      " 238\t 5.284e-15\n",
      " 239\t -3.91e-16\n",
      " 240\t 1.543e-15\n",
      " 241\t 1.687e-15\n",
      " 242\t 6.066e-15\n",
      " 243\t 6.419e-15\n",
      " 244\t 1.869e-16\n",
      " 245\t-1.777e-15\n",
      " 246\t-5.017e-15\n",
      " 247\t 7.063e-15\n",
      " 248\t 7.223e-15\n",
      " 249\t -3.68e-15\n",
      " 250\t 2.928e-15\n",
      " 251\t 1.082e-14\n",
      " 252\t-3.555e-15\n",
      " 253\t 3.688e-15\n",
      " 254\t-3.464e-15\n",
      " 255\t-7.992e-16\n",
      " 256\t -5.37e-16\n",
      " 257\t-8.861e-15\n",
      " 258\t 1.002e-14\n",
      " 259\t 1.473e-15\n",
      " 260\t-3.605e-15\n",
      " 261\t 5.441e-15\n",
      " 262\t-1.404e-14\n",
      " 263\t -8.87e-15\n",
      " 264\t-1.509e-14\n",
      " 265\t-1.192e-14\n",
      " 266\t-1.179e-15\n",
      " 267\t-1.684e-15\n",
      " 268\t-9.065e-15\n",
      " 269\t 5.379e-15\n",
      " 270\t-7.503e-15\n",
      " 271\t-1.064e-14\n",
      " 272\t-3.506e-15\n",
      " 273\t 1.121e-16\n",
      " 274\t 1.825e-15\n",
      " 275\t-7.158e-15\n",
      " 276\t-1.008e-14\n",
      " 277\t 4.998e-16\n",
      " 278\t-6.989e-15\n",
      " 279\t-1.959e-14\n",
      " 280\t-7.091e-15\n",
      " 281\t-1.734e-16\n",
      " 282\t -5.24e-15\n",
      " 284\t 6.646e-15\n",
      " 285\t-1.078e-14\n",
      " 286\t 3.836e-15\n",
      " 288\t 2.384e-15\n",
      " 290\t         0\n",
      " 293\t 1.232e-14\n",
      " 294\t 8.698e-15\n",
      " 295\t 1.071e-14\n",
      " 298\t 7.763e-15\n",
      " 303\t 3.944e-15\n",
      " 307\t-4.906e-15\n",
      " 308\t-7.438e-15\n",
      " 309\t-1.769e-14\n",
      " 310\t 7.541e-15\n",
      " 311\t 7.415e-15\n",
      " 312\t-1.229e-14\n",
      " 313\t-8.027e-15\n",
      " 314\t -4.22e-15\n",
      " 315\t -8.59e-16\n",
      " 316\t-1.138e-15\n",
      " 317\t 1.371e-14\n",
      " 318\t-5.547e-15\n",
      " 319\t-1.629e-15\n",
      " 320\t-8.262e-15\n",
      " 321\t   1.1e-14\n",
      " 322\t-4.614e-15\n",
      " 324\t 1.068e-14\n"
     ]
    }
   ],
   "source": [
    "rf = g.forward_rates_of_progress\n",
    "rr = g.reverse_rates_of_progress\n",
    "for i in range(g.n_reactions):\n",
    "    if g.is_reversible(i) and rf[i] != 0.0:\n",
    "        print(f\"{i:4d}\\t{(rf[i] - rr[i])/rf[i]:10.4g}\")"
   ]
  },
  {
   "cell_type": "markdown",
   "metadata": {},
   "source": [
    "If the magnitudes of the numbers in this list are all very small (which in this case they are), then each reversible reaction is very nearly equilibrated, which only occurs if the gas is in chemical equilibrium.\n",
    "\n",
    "You might be wondering how `equilibrate` works. (Then again, you might not.) Method `equilibrate` invokes Cantera's chemical equilibrium solver, which uses an element potential method. The element potential method is one of a class of equivalent *nonstoichiometric* methods that all have the characteristic that the probelm reduces to solving a set of $M$ nonlinear algebraic equations, where $M$ is the number of elements (not species). The so-called *stoichiometric* methods, on the other hand (including the Gibbs minimization), require solving $K$ nonlinear equations, where $K$ is the number of species (usually $K >> M$). See Smith and Missen's \"Chemical Reaction Equilibrium Analysis\" for more information on the various algorithms and their characteristics.\n",
    "\n",
    "Cantera uses a damped Newton method to solve these equations, and does a few other things to generate a good starting guess and to produce a reasonably robust algorithm. If you want to know more about the details, look at the on-line documentated source code of Cantera C++ class [`ChemEquil.h`](https://cantera.org/documentation/docs-2.4/doxygen/html/d4/dd4/ChemEquil_8h.html)."
   ]
  }
 ],
 "metadata": {
  "kernelspec": {
   "display_name": "Python 3",
   "language": "python",
   "name": "python3"
  },
  "language_info": {
   "codemirror_mode": {
    "name": "ipython",
    "version": 3
   },
   "file_extension": ".py",
   "mimetype": "text/x-python",
   "name": "python",
   "nbconvert_exporter": "python",
   "pygments_lexer": "ipython3",
   "version": "3.7.1"
  }
 },
 "nbformat": 4,
 "nbformat_minor": 2
}
